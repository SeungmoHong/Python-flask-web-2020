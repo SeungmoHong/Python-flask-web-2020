{
 "metadata": {
  "language_info": {
   "codemirror_mode": {
    "name": "ipython",
    "version": 3
   },
   "file_extension": ".py",
   "mimetype": "text/x-python",
   "name": "python",
   "nbconvert_exporter": "python",
   "pygments_lexer": "ipython3",
   "version": "3.8.5"
  },
  "orig_nbformat": 2,
  "kernelspec": {
   "name": "python385jvsc74a57bd0c0d5580a4e4b3d156e9f2f74585f52a17152e2e761e06671a15aac4fe32d0ddb",
   "display_name": "Python 3.8.5 64-bit ('base': conda)"
  }
 },
 "nbformat": 4,
 "nbformat_minor": 2,
 "cells": [
  {
   "cell_type": "code",
   "execution_count": 1,
   "metadata": {},
   "outputs": [],
   "source": [
    "from bs4 import BeautifulSoup\n",
    "import requests\n",
    "import math\n",
    "import pandas as pd\n",
    "import numpy as np\n",
    "from urllib.parse import urlparse\n",
    "import sqlite3\n",
    "key_fd = open('./과제data/kakaomapkey.txt', mode='r')\n",
    "kmap_key = key_fd.read(100)\n",
    "key_fd.close()"
   ]
  },
  {
   "cell_type": "code",
   "execution_count": 2,
   "metadata": {},
   "outputs": [],
   "source": [
    "key_fd = open('./과제data/seoulapikey.txt', mode='r')\n",
    "seoul_key = key_fd.read(100)\n",
    "key_fd.close()"
   ]
  },
  {
   "cell_type": "code",
   "execution_count": 3,
   "metadata": {},
   "outputs": [],
   "source": [
    "seoul_url = 'http://openapi.seoul.go.kr:8088/'\n",
    "url = f'{seoul_url}{seoul_key}/xml/Corona19Status/1/1000'"
   ]
  },
  {
   "cell_type": "code",
   "execution_count": 4,
   "metadata": {},
   "outputs": [
    {
     "output_type": "execute_result",
     "data": {
      "text/plain": [
       "'http://openapi.seoul.go.kr:8088/694f57486f686a6b33387443706a41/xml/Corona19Status/1/1000'"
      ]
     },
     "metadata": {},
     "execution_count": 4
    }
   ],
   "source": [
    "url"
   ]
  },
  {
   "cell_type": "code",
   "execution_count": 5,
   "metadata": {},
   "outputs": [
    {
     "output_type": "execute_result",
     "data": {
      "text/plain": [
       "'정상 처리되었습니다'"
      ]
     },
     "metadata": {},
     "execution_count": 5
    }
   ],
   "source": [
    "result = requests.get(url)\n",
    "soup = BeautifulSoup(result.text, 'xml')\n",
    "soup.find('MESSAGE').get_text()"
   ]
  },
  {
   "cell_type": "code",
   "execution_count": 6,
   "metadata": {},
   "outputs": [],
   "source": [
    "total_count = int(soup.find('list_total_count').get_text())"
   ]
  },
  {
   "cell_type": "code",
   "execution_count": 7,
   "metadata": {},
   "outputs": [
    {
     "output_type": "execute_result",
     "data": {
      "text/plain": [
       "45.358"
      ]
     },
     "metadata": {},
     "execution_count": 7
    }
   ],
   "source": [
    "total_count/1000"
   ]
  },
  {
   "cell_type": "code",
   "execution_count": 8,
   "metadata": {},
   "outputs": [
    {
     "output_type": "execute_result",
     "data": {
      "text/plain": [
       "46"
      ]
     },
     "metadata": {},
     "execution_count": 8
    }
   ],
   "source": [
    "count = math.ceil(total_count/1000)\n",
    "count"
   ]
  },
  {
   "cell_type": "code",
   "execution_count": 9,
   "metadata": {},
   "outputs": [],
   "source": [
    "rows = soup.find_all('row')"
   ]
  },
  {
   "cell_type": "code",
   "execution_count": 10,
   "metadata": {},
   "outputs": [
    {
     "output_type": "execute_result",
     "data": {
      "text/plain": [
       "'2021-06-06'"
      ]
     },
     "metadata": {},
     "execution_count": 10
    }
   ],
   "source": [
    "rows[0].find('CORONA19_DATE').text"
   ]
  },
  {
   "cell_type": "code",
   "execution_count": 11,
   "metadata": {},
   "outputs": [
    {
     "output_type": "execute_result",
     "data": {
      "text/plain": [
       "'타시도'"
      ]
     },
     "metadata": {},
     "execution_count": 11
    }
   ],
   "source": [
    "rows[0].find('CORONA19_AREA').text"
   ]
  },
  {
   "cell_type": "code",
   "execution_count": 12,
   "metadata": {},
   "outputs": [
    {
     "output_type": "execute_result",
     "data": {
      "text/plain": [
       "'45358'"
      ]
     },
     "metadata": {},
     "execution_count": 12
    }
   ],
   "source": [
    "rows[0].find('CORONA19_ID').text"
   ]
  },
  {
   "cell_type": "code",
   "execution_count": 13,
   "metadata": {},
   "outputs": [
    {
     "output_type": "execute_result",
     "data": {
      "text/plain": [
       "'감염경로 조사중'"
      ]
     },
     "metadata": {},
     "execution_count": 13
    }
   ],
   "source": [
    "rows[0].find('CORONA19_CONTACT_HISTORY').text"
   ]
  },
  {
   "cell_type": "code",
   "execution_count": 14,
   "metadata": {},
   "outputs": [],
   "source": [
    "id_list, area_list, date_list,histroy_list = [],[],[],[]\n",
    "a_url = f'{seoul_url}{seoul_key}/xml/Corona19Status'\n",
    "x = 1\n",
    "for i in range(count):  \n",
    "    url = f'{a_url}/{x}/{x+999}'\n",
    "    x += 1000\n",
    "    result = requests.get(url)\n",
    "    soup = BeautifulSoup(result.text, 'xml')\n",
    "    rows = soup.find_all('row')\n",
    "    for row in rows:\n",
    "        id_list.append(row.find('CORONA19_ID').text)\n",
    "        area_list.append(row.find('CORONA19_AREA').text)\n",
    "        date_list.append(row.find('CORONA19_DATE').text)\n",
    "        histroy_list.append(row.find('CORONA19_CONTACT_HISTORY').text)"
   ]
  },
  {
   "cell_type": "code",
   "execution_count": 15,
   "metadata": {},
   "outputs": [],
   "source": [
    "df = pd.DataFrame({\n",
    "    '연번' : id_list,\n",
    "    '확진일' : date_list,\n",
    "    '지역' : area_list,\n",
    "    '접촉력' : histroy_list\n",
    "})"
   ]
  },
  {
   "cell_type": "code",
   "execution_count": 16,
   "metadata": {},
   "outputs": [
    {
     "output_type": "execute_result",
     "data": {
      "text/plain": [
       "45358"
      ]
     },
     "metadata": {},
     "execution_count": 16
    }
   ],
   "source": [
    "len(histroy_list)"
   ]
  },
  {
   "cell_type": "code",
   "execution_count": 17,
   "metadata": {},
   "outputs": [],
   "source": [
    "df['지역'] = df['지역'].str.replace(' ','')"
   ]
  },
  {
   "cell_type": "code",
   "execution_count": 18,
   "metadata": {},
   "outputs": [
    {
     "output_type": "execute_result",
     "data": {
      "text/plain": [
       "Series([], Name: 지역, dtype: object)"
      ]
     },
     "metadata": {},
     "execution_count": 18
    }
   ],
   "source": [
    "df['지역'][df['지역'] == '중로구']"
   ]
  },
  {
   "cell_type": "code",
   "execution_count": 19,
   "metadata": {},
   "outputs": [],
   "source": [
    "df['지역'][df['지역'] == '중로구'] = '종로구'\n",
    "df['지역'][df['지역'] == '앙쳔구'] = '양천구'"
   ]
  },
  {
   "cell_type": "code",
   "execution_count": 20,
   "metadata": {},
   "outputs": [
    {
     "output_type": "execute_result",
     "data": {
      "text/plain": [
       "Series([], Name: 지역, dtype: object)"
      ]
     },
     "metadata": {},
     "execution_count": 20
    }
   ],
   "source": [
    "df['지역'][df['지역'] == '앙쳔구']"
   ]
  },
  {
   "cell_type": "code",
   "execution_count": 21,
   "metadata": {},
   "outputs": [
    {
     "output_type": "execute_result",
     "data": {
      "text/plain": [
       "0        2021-06-06\n",
       "1        2021-06-06\n",
       "2        2021-06-06\n",
       "3        2021-06-06\n",
       "4        2021-06-06\n",
       "            ...    \n",
       "45353    2020-01-31\n",
       "45354    2020-01-30\n",
       "45355    2020-01-30\n",
       "45356    2020-01-30\n",
       "45357    2020-01-24\n",
       "Name: 확진일, Length: 45358, dtype: object"
      ]
     },
     "metadata": {},
     "execution_count": 21
    }
   ],
   "source": [
    "df['확진일']"
   ]
  },
  {
   "cell_type": "code",
   "execution_count": 22,
   "metadata": {},
   "outputs": [],
   "source": [
    "df['확진일'] = pd.to_datetime(df['확진일'])"
   ]
  },
  {
   "cell_type": "code",
   "execution_count": 23,
   "metadata": {},
   "outputs": [],
   "source": [
    "df['확진일'] = df['확진일'].astype(str)"
   ]
  },
  {
   "cell_type": "code",
   "execution_count": 24,
   "metadata": {},
   "outputs": [],
   "source": [
    "df = df.sort_values(by='확진일')"
   ]
  },
  {
   "cell_type": "code",
   "execution_count": 25,
   "metadata": {},
   "outputs": [],
   "source": [
    "df.reset_index(drop=True,inplace=True)"
   ]
  },
  {
   "cell_type": "code",
   "execution_count": 26,
   "metadata": {},
   "outputs": [
    {
     "output_type": "execute_result",
     "data": {
      "text/plain": [
       "          연번         확진일   지역                    접촉력\n",
       "45353  45255  2021-06-06  강남구               감염경로 조사중\n",
       "45354  45256  2021-06-06  송파구              기타 확진자 접촉\n",
       "45355  45257  2021-06-06  용산구              기타 확진자 접촉\n",
       "45356  45279  2021-06-06  송파구  송파구 소재 시장 관련(\\'21.5.)\n",
       "45357  45358  2021-06-06  타시도               감염경로 조사중"
      ],
      "text/html": "<div>\n<style scoped>\n    .dataframe tbody tr th:only-of-type {\n        vertical-align: middle;\n    }\n\n    .dataframe tbody tr th {\n        vertical-align: top;\n    }\n\n    .dataframe thead th {\n        text-align: right;\n    }\n</style>\n<table border=\"1\" class=\"dataframe\">\n  <thead>\n    <tr style=\"text-align: right;\">\n      <th></th>\n      <th>연번</th>\n      <th>확진일</th>\n      <th>지역</th>\n      <th>접촉력</th>\n    </tr>\n  </thead>\n  <tbody>\n    <tr>\n      <th>45353</th>\n      <td>45255</td>\n      <td>2021-06-06</td>\n      <td>강남구</td>\n      <td>감염경로 조사중</td>\n    </tr>\n    <tr>\n      <th>45354</th>\n      <td>45256</td>\n      <td>2021-06-06</td>\n      <td>송파구</td>\n      <td>기타 확진자 접촉</td>\n    </tr>\n    <tr>\n      <th>45355</th>\n      <td>45257</td>\n      <td>2021-06-06</td>\n      <td>용산구</td>\n      <td>기타 확진자 접촉</td>\n    </tr>\n    <tr>\n      <th>45356</th>\n      <td>45279</td>\n      <td>2021-06-06</td>\n      <td>송파구</td>\n      <td>송파구 소재 시장 관련(\\'21.5.)</td>\n    </tr>\n    <tr>\n      <th>45357</th>\n      <td>45358</td>\n      <td>2021-06-06</td>\n      <td>타시도</td>\n      <td>감염경로 조사중</td>\n    </tr>\n  </tbody>\n</table>\n</div>"
     },
     "metadata": {},
     "execution_count": 26
    }
   ],
   "source": [
    "df.tail()"
   ]
  },
  {
   "cell_type": "code",
   "execution_count": 27,
   "metadata": {},
   "outputs": [],
   "source": [
    "conn = sqlite3.connect('./DB/covid-19.db')\n",
    "cur = conn.cursor()"
   ]
  },
  {
   "cell_type": "code",
   "execution_count": 28,
   "metadata": {},
   "outputs": [],
   "source": [
    "sql_table = '''\n",
    "    create table '서울시 확진자 현황'(\n",
    "        '연번' text not null primary key, '확진일' text not null,\n",
    "        '지역' text not null, 접촉력 text not null\n",
    "    )\n",
    "'''"
   ]
  },
  {
   "cell_type": "code",
   "execution_count": 29,
   "metadata": {},
   "outputs": [],
   "source": [
    "cur.execute(sql_table)\n",
    "conn.commit()"
   ]
  },
  {
   "cell_type": "code",
   "execution_count": 30,
   "metadata": {},
   "outputs": [],
   "source": [
    "sql_insert = 'insert into \"서울시 확진자 현황\" values(?,?,?,?)'"
   ]
  },
  {
   "cell_type": "code",
   "execution_count": 31,
   "metadata": {},
   "outputs": [],
   "source": [
    "for i in df.index:\n",
    "    params = list(df.loc[i])\n",
    "    cur.execute(sql_insert, params)\n",
    "    conn.commit()"
   ]
  },
  {
   "cell_type": "code",
   "execution_count": 32,
   "metadata": {},
   "outputs": [],
   "source": [
    "conn.close()"
   ]
  },
  {
   "cell_type": "code",
   "execution_count": 33,
   "metadata": {},
   "outputs": [],
   "source": [
    "conn = sqlite3.connect('./DB/covid-19.db')\n",
    "cur = conn.cursor()\n",
    "cur.execute(f'select * from \"서울시 확진자 현황\"')\n",
    "rows = cur.fetchall()\n",
    "conn.close()"
   ]
  },
  {
   "cell_type": "code",
   "execution_count": 34,
   "metadata": {},
   "outputs": [],
   "source": [
    "df = pd.DataFrame(rows, columns=['연번','확진일','지역','접촉력'])"
   ]
  },
  {
   "cell_type": "code",
   "execution_count": 35,
   "metadata": {},
   "outputs": [
    {
     "output_type": "execute_result",
     "data": {
      "text/plain": [
       "          연번         확진일   지역                    접촉력\n",
       "0          1  2020-01-24  강서구                   해외유입\n",
       "1          4  2020-01-30  마포구                   해외유입\n",
       "2          2  2020-01-30  중랑구                   해외유입\n",
       "3          3  2020-01-30  종로구               종로구 집단발병\n",
       "4          5  2020-01-31  성북구              기타 확진자 접촉\n",
       "...      ...         ...  ...                    ...\n",
       "45353  45255  2021-06-06  강남구               감염경로 조사중\n",
       "45354  45256  2021-06-06  송파구              기타 확진자 접촉\n",
       "45355  45257  2021-06-06  용산구              기타 확진자 접촉\n",
       "45356  45279  2021-06-06  송파구  송파구 소재 시장 관련(\\'21.5.)\n",
       "45357  45358  2021-06-06  타시도               감염경로 조사중\n",
       "\n",
       "[45358 rows x 4 columns]"
      ],
      "text/html": "<div>\n<style scoped>\n    .dataframe tbody tr th:only-of-type {\n        vertical-align: middle;\n    }\n\n    .dataframe tbody tr th {\n        vertical-align: top;\n    }\n\n    .dataframe thead th {\n        text-align: right;\n    }\n</style>\n<table border=\"1\" class=\"dataframe\">\n  <thead>\n    <tr style=\"text-align: right;\">\n      <th></th>\n      <th>연번</th>\n      <th>확진일</th>\n      <th>지역</th>\n      <th>접촉력</th>\n    </tr>\n  </thead>\n  <tbody>\n    <tr>\n      <th>0</th>\n      <td>1</td>\n      <td>2020-01-24</td>\n      <td>강서구</td>\n      <td>해외유입</td>\n    </tr>\n    <tr>\n      <th>1</th>\n      <td>4</td>\n      <td>2020-01-30</td>\n      <td>마포구</td>\n      <td>해외유입</td>\n    </tr>\n    <tr>\n      <th>2</th>\n      <td>2</td>\n      <td>2020-01-30</td>\n      <td>중랑구</td>\n      <td>해외유입</td>\n    </tr>\n    <tr>\n      <th>3</th>\n      <td>3</td>\n      <td>2020-01-30</td>\n      <td>종로구</td>\n      <td>종로구 집단발병</td>\n    </tr>\n    <tr>\n      <th>4</th>\n      <td>5</td>\n      <td>2020-01-31</td>\n      <td>성북구</td>\n      <td>기타 확진자 접촉</td>\n    </tr>\n    <tr>\n      <th>...</th>\n      <td>...</td>\n      <td>...</td>\n      <td>...</td>\n      <td>...</td>\n    </tr>\n    <tr>\n      <th>45353</th>\n      <td>45255</td>\n      <td>2021-06-06</td>\n      <td>강남구</td>\n      <td>감염경로 조사중</td>\n    </tr>\n    <tr>\n      <th>45354</th>\n      <td>45256</td>\n      <td>2021-06-06</td>\n      <td>송파구</td>\n      <td>기타 확진자 접촉</td>\n    </tr>\n    <tr>\n      <th>45355</th>\n      <td>45257</td>\n      <td>2021-06-06</td>\n      <td>용산구</td>\n      <td>기타 확진자 접촉</td>\n    </tr>\n    <tr>\n      <th>45356</th>\n      <td>45279</td>\n      <td>2021-06-06</td>\n      <td>송파구</td>\n      <td>송파구 소재 시장 관련(\\'21.5.)</td>\n    </tr>\n    <tr>\n      <th>45357</th>\n      <td>45358</td>\n      <td>2021-06-06</td>\n      <td>타시도</td>\n      <td>감염경로 조사중</td>\n    </tr>\n  </tbody>\n</table>\n<p>45358 rows × 4 columns</p>\n</div>"
     },
     "metadata": {},
     "execution_count": 35
    }
   ],
   "source": [
    "df"
   ]
  },
  {
   "cell_type": "code",
   "execution_count": 36,
   "metadata": {},
   "outputs": [],
   "source": [
    "sam = df[df['지역'] == '강서구'].pivot_table('연번','접촉력',aggfunc=\"count\")"
   ]
  },
  {
   "cell_type": "code",
   "execution_count": 37,
   "metadata": {},
   "outputs": [
    {
     "output_type": "execute_result",
     "data": {
      "text/plain": [
       "                    연번\n",
       "접촉력                   \n",
       "기타 확진자 접촉          734\n",
       "감염경로 조사중           479\n",
       "강서구 교회 관련          170\n",
       "강서구 댄스교습관련 시설      163\n",
       "타시도 확진자 접촉         114\n",
       "해외유입                40\n",
       "강서구 요양시설 관련         24\n",
       "강서구 댄스교습 연관 병원 관련   20\n",
       "8.15서울도심집회          18\n",
       "병원 및 요양시설           16"
      ],
      "text/html": "<div>\n<style scoped>\n    .dataframe tbody tr th:only-of-type {\n        vertical-align: middle;\n    }\n\n    .dataframe tbody tr th {\n        vertical-align: top;\n    }\n\n    .dataframe thead th {\n        text-align: right;\n    }\n</style>\n<table border=\"1\" class=\"dataframe\">\n  <thead>\n    <tr style=\"text-align: right;\">\n      <th></th>\n      <th>연번</th>\n    </tr>\n    <tr>\n      <th>접촉력</th>\n      <th></th>\n    </tr>\n  </thead>\n  <tbody>\n    <tr>\n      <th>기타 확진자 접촉</th>\n      <td>734</td>\n    </tr>\n    <tr>\n      <th>감염경로 조사중</th>\n      <td>479</td>\n    </tr>\n    <tr>\n      <th>강서구 교회 관련</th>\n      <td>170</td>\n    </tr>\n    <tr>\n      <th>강서구 댄스교습관련 시설</th>\n      <td>163</td>\n    </tr>\n    <tr>\n      <th>타시도 확진자 접촉</th>\n      <td>114</td>\n    </tr>\n    <tr>\n      <th>해외유입</th>\n      <td>40</td>\n    </tr>\n    <tr>\n      <th>강서구 요양시설 관련</th>\n      <td>24</td>\n    </tr>\n    <tr>\n      <th>강서구 댄스교습 연관 병원 관련</th>\n      <td>20</td>\n    </tr>\n    <tr>\n      <th>8.15서울도심집회</th>\n      <td>18</td>\n    </tr>\n    <tr>\n      <th>병원 및 요양시설</th>\n      <td>16</td>\n    </tr>\n  </tbody>\n</table>\n</div>"
     },
     "metadata": {},
     "execution_count": 37
    }
   ],
   "source": [
    "sam.sort_values(by='연번', ascending=False).head(10)"
   ]
  },
  {
   "cell_type": "code",
   "execution_count": 38,
   "metadata": {},
   "outputs": [
    {
     "output_type": "execute_result",
     "data": {
      "text/plain": [
       "['기타 확진자 접촉',\n",
       " '감염경로 조사중',\n",
       " '강서구 교회 관련',\n",
       " '강서구 댄스교습관련 시설',\n",
       " '타시도 확진자 접촉',\n",
       " '해외유입',\n",
       " '강서구 요양시설 관련',\n",
       " '강서구 댄스교습 연관 병원 관련',\n",
       " '8.15서울도심집회',\n",
       " '병원 및 요양시설']"
      ]
     },
     "metadata": {},
     "execution_count": 38
    }
   ],
   "source": [
    "list(sam.sort_values(by='연번', ascending=False).head(10).index)"
   ]
  },
  {
   "cell_type": "code",
   "execution_count": 39,
   "metadata": {},
   "outputs": [
    {
     "output_type": "execute_result",
     "data": {
      "text/plain": [
       "접촉력\n",
       "기타 확진자 접촉            734\n",
       "감염경로 조사중             479\n",
       "강서구 교회 관련            170\n",
       "강서구 댄스교습관련 시설        163\n",
       "타시도 확진자 접촉           114\n",
       "해외유입                  40\n",
       "강서구 요양시설 관련           24\n",
       "강서구 댄스교습 연관 병원 관련     20\n",
       "8.15서울도심집회            18\n",
       "병원 및 요양시설             16\n",
       "Name: 연번, dtype: int64"
      ]
     },
     "metadata": {},
     "execution_count": 39
    }
   ],
   "source": [
    "sam.sort_values(by='연번', ascending=False).head(10)['연번']"
   ]
  },
  {
   "cell_type": "code",
   "execution_count": 40,
   "metadata": {},
   "outputs": [],
   "source": [
    "a_d = df.pivot_table('연번', '지역', aggfunc='count')"
   ]
  },
  {
   "cell_type": "code",
   "execution_count": 41,
   "metadata": {},
   "outputs": [],
   "source": [
    "a_d.rename({'연번':'확진자수'},axis=1, inplace=True)"
   ]
  },
  {
   "cell_type": "code",
   "execution_count": 42,
   "metadata": {},
   "outputs": [
    {
     "output_type": "execute_result",
     "data": {
      "text/plain": [
       "      확진자수\n",
       "지역        \n",
       "강남구   2588\n",
       "강동구   1825\n",
       "강북구   1310\n",
       "강서구   2222\n",
       "관악구   2081\n",
       "광진구   1486\n",
       "구로구   1512\n",
       "금천구    754\n",
       "기타    2105\n",
       "노원구   2102\n",
       "도봉구   1424\n",
       "동대문구  1673\n",
       "동작구   1901\n",
       "마포구   1436\n",
       "서대문구  1140\n",
       "서초구   1930\n",
       "성동구   1239\n",
       "성북구   1894\n",
       "송파구   2721\n",
       "양천구   1577\n",
       "영등포구  1669\n",
       "용산구   1194\n",
       "은평구   1964\n",
       "종로구    767\n",
       "중구     687\n",
       "중랑구   2040\n",
       "타시도   2117"
      ],
      "text/html": "<div>\n<style scoped>\n    .dataframe tbody tr th:only-of-type {\n        vertical-align: middle;\n    }\n\n    .dataframe tbody tr th {\n        vertical-align: top;\n    }\n\n    .dataframe thead th {\n        text-align: right;\n    }\n</style>\n<table border=\"1\" class=\"dataframe\">\n  <thead>\n    <tr style=\"text-align: right;\">\n      <th></th>\n      <th>확진자수</th>\n    </tr>\n    <tr>\n      <th>지역</th>\n      <th></th>\n    </tr>\n  </thead>\n  <tbody>\n    <tr>\n      <th>강남구</th>\n      <td>2588</td>\n    </tr>\n    <tr>\n      <th>강동구</th>\n      <td>1825</td>\n    </tr>\n    <tr>\n      <th>강북구</th>\n      <td>1310</td>\n    </tr>\n    <tr>\n      <th>강서구</th>\n      <td>2222</td>\n    </tr>\n    <tr>\n      <th>관악구</th>\n      <td>2081</td>\n    </tr>\n    <tr>\n      <th>광진구</th>\n      <td>1486</td>\n    </tr>\n    <tr>\n      <th>구로구</th>\n      <td>1512</td>\n    </tr>\n    <tr>\n      <th>금천구</th>\n      <td>754</td>\n    </tr>\n    <tr>\n      <th>기타</th>\n      <td>2105</td>\n    </tr>\n    <tr>\n      <th>노원구</th>\n      <td>2102</td>\n    </tr>\n    <tr>\n      <th>도봉구</th>\n      <td>1424</td>\n    </tr>\n    <tr>\n      <th>동대문구</th>\n      <td>1673</td>\n    </tr>\n    <tr>\n      <th>동작구</th>\n      <td>1901</td>\n    </tr>\n    <tr>\n      <th>마포구</th>\n      <td>1436</td>\n    </tr>\n    <tr>\n      <th>서대문구</th>\n      <td>1140</td>\n    </tr>\n    <tr>\n      <th>서초구</th>\n      <td>1930</td>\n    </tr>\n    <tr>\n      <th>성동구</th>\n      <td>1239</td>\n    </tr>\n    <tr>\n      <th>성북구</th>\n      <td>1894</td>\n    </tr>\n    <tr>\n      <th>송파구</th>\n      <td>2721</td>\n    </tr>\n    <tr>\n      <th>양천구</th>\n      <td>1577</td>\n    </tr>\n    <tr>\n      <th>영등포구</th>\n      <td>1669</td>\n    </tr>\n    <tr>\n      <th>용산구</th>\n      <td>1194</td>\n    </tr>\n    <tr>\n      <th>은평구</th>\n      <td>1964</td>\n    </tr>\n    <tr>\n      <th>종로구</th>\n      <td>767</td>\n    </tr>\n    <tr>\n      <th>중구</th>\n      <td>687</td>\n    </tr>\n    <tr>\n      <th>중랑구</th>\n      <td>2040</td>\n    </tr>\n    <tr>\n      <th>타시도</th>\n      <td>2117</td>\n    </tr>\n  </tbody>\n</table>\n</div>"
     },
     "metadata": {},
     "execution_count": 42
    }
   ],
   "source": [
    "a_d"
   ]
  },
  {
   "cell_type": "code",
   "execution_count": 43,
   "metadata": {},
   "outputs": [],
   "source": [
    "d_day = df[df['지역'] == '강서구'].pivot_table('연번','확진일',aggfunc=\"count\")"
   ]
  },
  {
   "cell_type": "code",
   "execution_count": 44,
   "metadata": {},
   "outputs": [],
   "source": [
    "ten_day = d_day.sort_values(by='확진일', ascending=False).head(10)"
   ]
  },
  {
   "cell_type": "code",
   "execution_count": 45,
   "metadata": {},
   "outputs": [
    {
     "output_type": "execute_result",
     "data": {
      "text/plain": [
       "['2021-05-28',\n",
       " '2021-05-29',\n",
       " '2021-05-30',\n",
       " '2021-05-31',\n",
       " '2021-06-01',\n",
       " '2021-06-02',\n",
       " '2021-06-03',\n",
       " '2021-06-04',\n",
       " '2021-06-05',\n",
       " '2021-06-06']"
      ]
     },
     "metadata": {},
     "execution_count": 45
    }
   ],
   "source": [
    "list(ten_day.index)[::-1]\n"
   ]
  },
  {
   "cell_type": "code",
   "execution_count": 119,
   "metadata": {},
   "outputs": [
    {
     "output_type": "execute_result",
     "data": {
      "text/plain": [
       "'2020-12-28'"
      ]
     },
     "metadata": {},
     "execution_count": 119
    }
   ],
   "source": []
  },
  {
   "cell_type": "code",
   "execution_count": 46,
   "metadata": {},
   "outputs": [],
   "source": [
    "ten_day = d_day.sort_values(by='확진일', ascending=False).head(10)\n",
    "ten_date = list(ten_day.index)\n",
    "ten_val = list(ten_day['연번'].values)"
   ]
  }
 ]
}