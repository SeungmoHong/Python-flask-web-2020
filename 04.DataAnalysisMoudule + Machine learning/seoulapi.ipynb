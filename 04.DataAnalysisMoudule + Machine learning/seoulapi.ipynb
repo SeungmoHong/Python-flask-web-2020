{
 "metadata": {
  "language_info": {
   "codemirror_mode": {
    "name": "ipython",
    "version": 3
   },
   "file_extension": ".py",
   "mimetype": "text/x-python",
   "name": "python",
   "nbconvert_exporter": "python",
   "pygments_lexer": "ipython3",
   "version": "3.8.5-final"
  },
  "orig_nbformat": 2,
  "kernelspec": {
   "name": "python3",
   "display_name": "Python 3",
   "language": "python"
  }
 },
 "nbformat": 4,
 "nbformat_minor": 2,
 "cells": [
  {
   "cell_type": "code",
   "execution_count": 1,
   "metadata": {},
   "outputs": [],
   "source": [
    "from bs4 import BeautifulSoup\n",
    "import requests\n",
    "import math\n",
    "import pandas as pd\n",
    "import numpy as np\n",
    "from urllib.parse import urlparse\n",
    "import sqlite3\n",
    "key_fd = open('./과제data/kakaomapkey.txt', mode='r')\n",
    "kmap_key = key_fd.read(100)\n",
    "key_fd.close()"
   ]
  },
  {
   "cell_type": "code",
   "execution_count": 2,
   "metadata": {},
   "outputs": [],
   "source": [
    "key_fd = open('./과제data/seoulapikey.txt', mode='r')\n",
    "seoul_key = key_fd.read(100)\n",
    "key_fd.close()"
   ]
  },
  {
   "cell_type": "code",
   "execution_count": 3,
   "metadata": {},
   "outputs": [],
   "source": [
    "seoul_url = 'http://openapi.seoul.go.kr:8088/'\n",
    "url = f'{seoul_url}{seoul_key}/xml/Corona19Status/1/1000'"
   ]
  },
  {
   "cell_type": "code",
   "execution_count": 4,
   "metadata": {},
   "outputs": [
    {
     "output_type": "execute_result",
     "data": {
      "text/plain": [
       "'http://openapi.seoul.go.kr:8088/694f57486f686a6b33387443706a41/xml/Corona19Status/1/1000'"
      ]
     },
     "metadata": {},
     "execution_count": 4
    }
   ],
   "source": [
    "url"
   ]
  },
  {
   "cell_type": "code",
   "execution_count": 5,
   "metadata": {},
   "outputs": [
    {
     "output_type": "execute_result",
     "data": {
      "text/plain": [
       "'정상 처리되었습니다'"
      ]
     },
     "metadata": {},
     "execution_count": 5
    }
   ],
   "source": [
    "result = requests.get(url)\n",
    "soup = BeautifulSoup(result.text, 'xml')\n",
    "soup.find('MESSAGE').get_text()"
   ]
  },
  {
   "cell_type": "code",
   "execution_count": 6,
   "metadata": {},
   "outputs": [],
   "source": [
    "total_count = int(soup.find('list_total_count').get_text())"
   ]
  },
  {
   "cell_type": "code",
   "execution_count": 7,
   "metadata": {},
   "outputs": [
    {
     "output_type": "execute_result",
     "data": {
      "text/plain": [
       "22.484"
      ]
     },
     "metadata": {},
     "execution_count": 7
    }
   ],
   "source": [
    "total_count/1000"
   ]
  },
  {
   "cell_type": "code",
   "execution_count": 8,
   "metadata": {},
   "outputs": [
    {
     "output_type": "execute_result",
     "data": {
      "text/plain": [
       "23"
      ]
     },
     "metadata": {},
     "execution_count": 8
    }
   ],
   "source": [
    "count = math.ceil(total_count/1000)\n",
    "count"
   ]
  },
  {
   "cell_type": "code",
   "execution_count": 9,
   "metadata": {},
   "outputs": [],
   "source": [
    "rows = soup.find_all('row')"
   ]
  },
  {
   "cell_type": "code",
   "execution_count": 10,
   "metadata": {},
   "outputs": [
    {
     "output_type": "execute_result",
     "data": {
      "text/plain": [
       "'2021-01-16'"
      ]
     },
     "metadata": {},
     "execution_count": 10
    }
   ],
   "source": [
    "rows[0].find('CORONA19_DATE').text"
   ]
  },
  {
   "cell_type": "code",
   "execution_count": 11,
   "metadata": {},
   "outputs": [
    {
     "output_type": "execute_result",
     "data": {
      "text/plain": [
       "'타시도'"
      ]
     },
     "metadata": {},
     "execution_count": 11
    }
   ],
   "source": [
    "rows[0].find('CORONA19_AREA').text"
   ]
  },
  {
   "cell_type": "code",
   "execution_count": 12,
   "metadata": {},
   "outputs": [
    {
     "output_type": "execute_result",
     "data": {
      "text/plain": [
       "'22484'"
      ]
     },
     "metadata": {},
     "execution_count": 12
    }
   ],
   "source": [
    "rows[0].find('CORONA19_ID').text"
   ]
  },
  {
   "cell_type": "code",
   "execution_count": 13,
   "metadata": {},
   "outputs": [
    {
     "output_type": "execute_result",
     "data": {
      "text/plain": [
       "'감염경로 조사중'"
      ]
     },
     "metadata": {},
     "execution_count": 13
    }
   ],
   "source": [
    "rows[0].find('CORONA19_CONTACT_HISTORY').text"
   ]
  },
  {
   "cell_type": "code",
   "execution_count": 14,
   "metadata": {},
   "outputs": [],
   "source": [
    "id_list, area_list, date_list,histroy_list = [],[],[],[]\n",
    "a_url = f'{seoul_url}{seoul_key}/xml/Corona19Status'\n",
    "x = 1\n",
    "for i in range(count):  \n",
    "    url = f'{a_url}/{x}/{x+999}'\n",
    "    x += 1000\n",
    "    result = requests.get(url)\n",
    "    soup = BeautifulSoup(result.text, 'xml')\n",
    "    rows = soup.find_all('row')\n",
    "    for row in rows:\n",
    "        id_list.append(row.find('CORONA19_ID').text)\n",
    "        area_list.append(row.find('CORONA19_AREA').text)\n",
    "        date_list.append(row.find('CORONA19_DATE').text)\n",
    "        histroy_list.append(row.find('CORONA19_CONTACT_HISTORY').text)"
   ]
  },
  {
   "cell_type": "code",
   "execution_count": 15,
   "metadata": {},
   "outputs": [],
   "source": [
    "df = pd.DataFrame({\n",
    "    '연번' : id_list,\n",
    "    '확진일' : date_list,\n",
    "    '지역' : area_list,\n",
    "    '접촉력' : histroy_list\n",
    "})"
   ]
  },
  {
   "cell_type": "code",
   "execution_count": 16,
   "metadata": {},
   "outputs": [
    {
     "output_type": "execute_result",
     "data": {
      "text/plain": [
       "22484"
      ]
     },
     "metadata": {},
     "execution_count": 16
    }
   ],
   "source": [
    "len(histroy_list)"
   ]
  },
  {
   "cell_type": "code",
   "execution_count": 17,
   "metadata": {},
   "outputs": [],
   "source": [
    "df['지역'] = df['지역'].str.replace(' ','')"
   ]
  },
  {
   "cell_type": "code",
   "execution_count": 18,
   "metadata": {},
   "outputs": [
    {
     "output_type": "execute_result",
     "data": {
      "text/plain": [
       "Series([], Name: 지역, dtype: object)"
      ]
     },
     "metadata": {},
     "execution_count": 18
    }
   ],
   "source": [
    "df['지역'][df['지역'] == '중로구']"
   ]
  },
  {
   "cell_type": "code",
   "execution_count": 19,
   "metadata": {},
   "outputs": [],
   "source": [
    "df['지역'][df['지역'] == '중로구'] = '종로구'\n",
    "df['지역'][df['지역'] == '앙쳔구'] = '양천구'"
   ]
  },
  {
   "cell_type": "code",
   "execution_count": 20,
   "metadata": {},
   "outputs": [
    {
     "output_type": "execute_result",
     "data": {
      "text/plain": [
       "Series([], Name: 지역, dtype: object)"
      ]
     },
     "metadata": {},
     "execution_count": 20
    }
   ],
   "source": [
    "df['지역'][df['지역'] == '앙쳔구']"
   ]
  },
  {
   "cell_type": "code",
   "execution_count": 21,
   "metadata": {},
   "outputs": [
    {
     "output_type": "execute_result",
     "data": {
      "text/plain": [
       "0        2021-01-16\n",
       "1        2021-01-16\n",
       "2        2021-01-16\n",
       "3        2021-01-16\n",
       "4        2021-01-16\n",
       "            ...    \n",
       "22479    2020-01-31\n",
       "22480    2020-01-30\n",
       "22481    2020-01-30\n",
       "22482    2020-01-30\n",
       "22483    2020-01-24\n",
       "Name: 확진일, Length: 22484, dtype: object"
      ]
     },
     "metadata": {},
     "execution_count": 21
    }
   ],
   "source": [
    "df['확진일']"
   ]
  },
  {
   "cell_type": "code",
   "execution_count": 22,
   "metadata": {},
   "outputs": [],
   "source": [
    "df['확진일'] = pd.to_datetime(df['확진일'])"
   ]
  },
  {
   "cell_type": "code",
   "execution_count": 23,
   "metadata": {},
   "outputs": [],
   "source": [
    "df['확진일'] = df['확진일'].astype(str)"
   ]
  },
  {
   "cell_type": "code",
   "execution_count": 24,
   "metadata": {},
   "outputs": [],
   "source": [
    "df = df.sort_values(by='확진일')"
   ]
  },
  {
   "cell_type": "code",
   "execution_count": 25,
   "metadata": {},
   "outputs": [],
   "source": [
    "df.reset_index(drop=True,inplace=True)"
   ]
  },
  {
   "cell_type": "code",
   "execution_count": 26,
   "metadata": {},
   "outputs": [
    {
     "output_type": "execute_result",
     "data": {
      "text/plain": [
       "          연번         확진일   지역        접촉력\n",
       "22479  22390  2021-01-16  노원구  기타 확진자 접촉\n",
       "22480  22391  2021-01-16  노원구   감염경로 조사중\n",
       "22481  22392  2021-01-16  노원구  기타 확진자 접촉\n",
       "22482  22376  2021-01-16  구로구   감염경로 조사중\n",
       "22483  22484  2021-01-16  타시도   감염경로 조사중"
      ],
      "text/html": "<div>\n<style scoped>\n    .dataframe tbody tr th:only-of-type {\n        vertical-align: middle;\n    }\n\n    .dataframe tbody tr th {\n        vertical-align: top;\n    }\n\n    .dataframe thead th {\n        text-align: right;\n    }\n</style>\n<table border=\"1\" class=\"dataframe\">\n  <thead>\n    <tr style=\"text-align: right;\">\n      <th></th>\n      <th>연번</th>\n      <th>확진일</th>\n      <th>지역</th>\n      <th>접촉력</th>\n    </tr>\n  </thead>\n  <tbody>\n    <tr>\n      <th>22479</th>\n      <td>22390</td>\n      <td>2021-01-16</td>\n      <td>노원구</td>\n      <td>기타 확진자 접촉</td>\n    </tr>\n    <tr>\n      <th>22480</th>\n      <td>22391</td>\n      <td>2021-01-16</td>\n      <td>노원구</td>\n      <td>감염경로 조사중</td>\n    </tr>\n    <tr>\n      <th>22481</th>\n      <td>22392</td>\n      <td>2021-01-16</td>\n      <td>노원구</td>\n      <td>기타 확진자 접촉</td>\n    </tr>\n    <tr>\n      <th>22482</th>\n      <td>22376</td>\n      <td>2021-01-16</td>\n      <td>구로구</td>\n      <td>감염경로 조사중</td>\n    </tr>\n    <tr>\n      <th>22483</th>\n      <td>22484</td>\n      <td>2021-01-16</td>\n      <td>타시도</td>\n      <td>감염경로 조사중</td>\n    </tr>\n  </tbody>\n</table>\n</div>"
     },
     "metadata": {},
     "execution_count": 26
    }
   ],
   "source": [
    "df.tail()"
   ]
  },
  {
   "cell_type": "code",
   "execution_count": 27,
   "metadata": {},
   "outputs": [],
   "source": [
    "conn = sqlite3.connect('./DB/covid-19.db')\n",
    "cur = conn.cursor()"
   ]
  },
  {
   "cell_type": "code",
   "execution_count": 28,
   "metadata": {},
   "outputs": [],
   "source": [
    "sql_table = '''\n",
    "    create table '서울시 확진자 현황'(\n",
    "        '연번' text not null primary key, '확진일' text not null,\n",
    "        '지역' text not null, 접촉력 text not null\n",
    "    )\n",
    "'''"
   ]
  },
  {
   "cell_type": "code",
   "execution_count": 29,
   "metadata": {},
   "outputs": [],
   "source": [
    "cur.execute(sql_table)\n",
    "conn.commit()"
   ]
  },
  {
   "cell_type": "code",
   "execution_count": 30,
   "metadata": {},
   "outputs": [],
   "source": [
    "sql_insert = 'insert into \"서울시 확진자 현황\" values(?,?,?,?)'"
   ]
  },
  {
   "cell_type": "code",
   "execution_count": 31,
   "metadata": {},
   "outputs": [],
   "source": [
    "for i in df.index:\n",
    "    params = list(df.loc[i])\n",
    "    cur.execute(sql_insert, params)\n",
    "    conn.commit()"
   ]
  },
  {
   "cell_type": "code",
   "execution_count": 32,
   "metadata": {},
   "outputs": [],
   "source": [
    "conn.close()"
   ]
  },
  {
   "cell_type": "code",
   "execution_count": 33,
   "metadata": {},
   "outputs": [],
   "source": [
    "conn = sqlite3.connect('./DB/covid-19.db')\n",
    "cur = conn.cursor()\n",
    "cur.execute(f'select * from \"서울시 확진자 현황\"')\n",
    "rows = cur.fetchall()\n",
    "conn.close()"
   ]
  },
  {
   "cell_type": "code",
   "execution_count": 34,
   "metadata": {},
   "outputs": [],
   "source": [
    "df = pd.DataFrame(rows, columns=['연번','확진일','지역','접촉력'])"
   ]
  },
  {
   "cell_type": "code",
   "execution_count": 35,
   "metadata": {},
   "outputs": [
    {
     "output_type": "execute_result",
     "data": {
      "text/plain": [
       "          연번         확진일   지역        접촉력\n",
       "0          1  2020-01-24  강서구       해외유입\n",
       "1          4  2020-01-30  마포구       해외유입\n",
       "2          2  2020-01-30  중랑구       해외유입\n",
       "3          3  2020-01-30  종로구   종로구 집단발병\n",
       "4          5  2020-01-31  성북구  기타 확진자 접촉\n",
       "...      ...         ...  ...        ...\n",
       "22479  22390  2021-01-16  노원구  기타 확진자 접촉\n",
       "22480  22391  2021-01-16  노원구   감염경로 조사중\n",
       "22481  22392  2021-01-16  노원구  기타 확진자 접촉\n",
       "22482  22376  2021-01-16  구로구   감염경로 조사중\n",
       "22483  22484  2021-01-16  타시도   감염경로 조사중\n",
       "\n",
       "[22484 rows x 4 columns]"
      ],
      "text/html": "<div>\n<style scoped>\n    .dataframe tbody tr th:only-of-type {\n        vertical-align: middle;\n    }\n\n    .dataframe tbody tr th {\n        vertical-align: top;\n    }\n\n    .dataframe thead th {\n        text-align: right;\n    }\n</style>\n<table border=\"1\" class=\"dataframe\">\n  <thead>\n    <tr style=\"text-align: right;\">\n      <th></th>\n      <th>연번</th>\n      <th>확진일</th>\n      <th>지역</th>\n      <th>접촉력</th>\n    </tr>\n  </thead>\n  <tbody>\n    <tr>\n      <th>0</th>\n      <td>1</td>\n      <td>2020-01-24</td>\n      <td>강서구</td>\n      <td>해외유입</td>\n    </tr>\n    <tr>\n      <th>1</th>\n      <td>4</td>\n      <td>2020-01-30</td>\n      <td>마포구</td>\n      <td>해외유입</td>\n    </tr>\n    <tr>\n      <th>2</th>\n      <td>2</td>\n      <td>2020-01-30</td>\n      <td>중랑구</td>\n      <td>해외유입</td>\n    </tr>\n    <tr>\n      <th>3</th>\n      <td>3</td>\n      <td>2020-01-30</td>\n      <td>종로구</td>\n      <td>종로구 집단발병</td>\n    </tr>\n    <tr>\n      <th>4</th>\n      <td>5</td>\n      <td>2020-01-31</td>\n      <td>성북구</td>\n      <td>기타 확진자 접촉</td>\n    </tr>\n    <tr>\n      <th>...</th>\n      <td>...</td>\n      <td>...</td>\n      <td>...</td>\n      <td>...</td>\n    </tr>\n    <tr>\n      <th>22479</th>\n      <td>22390</td>\n      <td>2021-01-16</td>\n      <td>노원구</td>\n      <td>기타 확진자 접촉</td>\n    </tr>\n    <tr>\n      <th>22480</th>\n      <td>22391</td>\n      <td>2021-01-16</td>\n      <td>노원구</td>\n      <td>감염경로 조사중</td>\n    </tr>\n    <tr>\n      <th>22481</th>\n      <td>22392</td>\n      <td>2021-01-16</td>\n      <td>노원구</td>\n      <td>기타 확진자 접촉</td>\n    </tr>\n    <tr>\n      <th>22482</th>\n      <td>22376</td>\n      <td>2021-01-16</td>\n      <td>구로구</td>\n      <td>감염경로 조사중</td>\n    </tr>\n    <tr>\n      <th>22483</th>\n      <td>22484</td>\n      <td>2021-01-16</td>\n      <td>타시도</td>\n      <td>감염경로 조사중</td>\n    </tr>\n  </tbody>\n</table>\n<p>22484 rows × 4 columns</p>\n</div>"
     },
     "metadata": {},
     "execution_count": 35
    }
   ],
   "source": [
    "df"
   ]
  },
  {
   "cell_type": "code",
   "execution_count": 36,
   "metadata": {},
   "outputs": [],
   "source": [
    "sam = df[df['지역'] == '강서구'].pivot_table('연번','접촉력',aggfunc=\"count\")"
   ]
  },
  {
   "cell_type": "code",
   "execution_count": 37,
   "metadata": {},
   "outputs": [
    {
     "output_type": "execute_result",
     "data": {
      "text/plain": [
       "                    연번\n",
       "접촉력                   \n",
       "기타 확진자 접촉          397\n",
       "감염경로 조사중           299\n",
       "강서구 교회 관련          170\n",
       "강서구 댄스교습관련 시설      163\n",
       "타시도 확진자 접촉          51\n",
       "해외유입                27\n",
       "강서구 요양시설 관련         24\n",
       "강서구 댄스교습 연관 병원 관련   21\n",
       "8.15서울도심집회          18\n",
       "강서구 소재 병원관련(11월)    15"
      ],
      "text/html": "<div>\n<style scoped>\n    .dataframe tbody tr th:only-of-type {\n        vertical-align: middle;\n    }\n\n    .dataframe tbody tr th {\n        vertical-align: top;\n    }\n\n    .dataframe thead th {\n        text-align: right;\n    }\n</style>\n<table border=\"1\" class=\"dataframe\">\n  <thead>\n    <tr style=\"text-align: right;\">\n      <th></th>\n      <th>연번</th>\n    </tr>\n    <tr>\n      <th>접촉력</th>\n      <th></th>\n    </tr>\n  </thead>\n  <tbody>\n    <tr>\n      <th>기타 확진자 접촉</th>\n      <td>397</td>\n    </tr>\n    <tr>\n      <th>감염경로 조사중</th>\n      <td>299</td>\n    </tr>\n    <tr>\n      <th>강서구 교회 관련</th>\n      <td>170</td>\n    </tr>\n    <tr>\n      <th>강서구 댄스교습관련 시설</th>\n      <td>163</td>\n    </tr>\n    <tr>\n      <th>타시도 확진자 접촉</th>\n      <td>51</td>\n    </tr>\n    <tr>\n      <th>해외유입</th>\n      <td>27</td>\n    </tr>\n    <tr>\n      <th>강서구 요양시설 관련</th>\n      <td>24</td>\n    </tr>\n    <tr>\n      <th>강서구 댄스교습 연관 병원 관련</th>\n      <td>21</td>\n    </tr>\n    <tr>\n      <th>8.15서울도심집회</th>\n      <td>18</td>\n    </tr>\n    <tr>\n      <th>강서구 소재 병원관련(11월)</th>\n      <td>15</td>\n    </tr>\n  </tbody>\n</table>\n</div>"
     },
     "metadata": {},
     "execution_count": 37
    }
   ],
   "source": [
    "sam.sort_values(by='연번', ascending=False).head(10)"
   ]
  },
  {
   "cell_type": "code",
   "execution_count": 38,
   "metadata": {},
   "outputs": [
    {
     "output_type": "execute_result",
     "data": {
      "text/plain": [
       "['기타 확진자 접촉',\n",
       " '감염경로 조사중',\n",
       " '강서구 교회 관련',\n",
       " '강서구 댄스교습관련 시설',\n",
       " '타시도 확진자 접촉',\n",
       " '해외유입',\n",
       " '강서구 요양시설 관련',\n",
       " '강서구 댄스교습 연관 병원 관련',\n",
       " '8.15서울도심집회',\n",
       " '강서구 소재 병원관련(11월)']"
      ]
     },
     "metadata": {},
     "execution_count": 38
    }
   ],
   "source": [
    "list(sam.sort_values(by='연번', ascending=False).head(10).index)"
   ]
  },
  {
   "cell_type": "code",
   "execution_count": 39,
   "metadata": {},
   "outputs": [
    {
     "output_type": "execute_result",
     "data": {
      "text/plain": [
       "접촉력\n",
       "기타 확진자 접촉            397\n",
       "감염경로 조사중             299\n",
       "강서구 교회 관련            170\n",
       "강서구 댄스교습관련 시설        163\n",
       "타시도 확진자 접촉            51\n",
       "해외유입                  27\n",
       "강서구 요양시설 관련           24\n",
       "강서구 댄스교습 연관 병원 관련     21\n",
       "8.15서울도심집회            18\n",
       "강서구 소재 병원관련(11월)      15\n",
       "Name: 연번, dtype: int64"
      ]
     },
     "metadata": {},
     "execution_count": 39
    }
   ],
   "source": [
    "sam.sort_values(by='연번', ascending=False).head(10)['연번']"
   ]
  },
  {
   "cell_type": "code",
   "execution_count": 40,
   "metadata": {},
   "outputs": [],
   "source": [
    "a_d = df.pivot_table('연번', '지역', aggfunc='count')"
   ]
  },
  {
   "cell_type": "code",
   "execution_count": 41,
   "metadata": {},
   "outputs": [],
   "source": [
    "a_d.rename({'연번':'확진자수'},axis=1, inplace=True)"
   ]
  },
  {
   "cell_type": "code",
   "execution_count": 42,
   "metadata": {},
   "outputs": [
    {
     "output_type": "execute_result",
     "data": {
      "text/plain": [
       "      확진자수\n",
       "지역        \n",
       "강남구   1051\n",
       "강동구    685\n",
       "강북구    571\n",
       "강서구   1488\n",
       "관악구   1116\n",
       "광진구    554\n",
       "구로구    720\n",
       "금천구    372\n",
       "기타    1741\n",
       "노원구    936\n",
       "도봉구    667\n",
       "동대문구   787\n",
       "동작구    953\n",
       "마포구    790\n",
       "서대문구   612\n",
       "서초구    905\n",
       "성동구    534\n",
       "성북구    945\n",
       "송파구   1282\n",
       "양천구    810\n",
       "영등포구   816\n",
       "용산구    477\n",
       "은평구    923\n",
       "종로구    474\n",
       "중구     322\n",
       "중랑구    920\n",
       "타시도   1033"
      ],
      "text/html": "<div>\n<style scoped>\n    .dataframe tbody tr th:only-of-type {\n        vertical-align: middle;\n    }\n\n    .dataframe tbody tr th {\n        vertical-align: top;\n    }\n\n    .dataframe thead th {\n        text-align: right;\n    }\n</style>\n<table border=\"1\" class=\"dataframe\">\n  <thead>\n    <tr style=\"text-align: right;\">\n      <th></th>\n      <th>확진자수</th>\n    </tr>\n    <tr>\n      <th>지역</th>\n      <th></th>\n    </tr>\n  </thead>\n  <tbody>\n    <tr>\n      <th>강남구</th>\n      <td>1051</td>\n    </tr>\n    <tr>\n      <th>강동구</th>\n      <td>685</td>\n    </tr>\n    <tr>\n      <th>강북구</th>\n      <td>571</td>\n    </tr>\n    <tr>\n      <th>강서구</th>\n      <td>1488</td>\n    </tr>\n    <tr>\n      <th>관악구</th>\n      <td>1116</td>\n    </tr>\n    <tr>\n      <th>광진구</th>\n      <td>554</td>\n    </tr>\n    <tr>\n      <th>구로구</th>\n      <td>720</td>\n    </tr>\n    <tr>\n      <th>금천구</th>\n      <td>372</td>\n    </tr>\n    <tr>\n      <th>기타</th>\n      <td>1741</td>\n    </tr>\n    <tr>\n      <th>노원구</th>\n      <td>936</td>\n    </tr>\n    <tr>\n      <th>도봉구</th>\n      <td>667</td>\n    </tr>\n    <tr>\n      <th>동대문구</th>\n      <td>787</td>\n    </tr>\n    <tr>\n      <th>동작구</th>\n      <td>953</td>\n    </tr>\n    <tr>\n      <th>마포구</th>\n      <td>790</td>\n    </tr>\n    <tr>\n      <th>서대문구</th>\n      <td>612</td>\n    </tr>\n    <tr>\n      <th>서초구</th>\n      <td>905</td>\n    </tr>\n    <tr>\n      <th>성동구</th>\n      <td>534</td>\n    </tr>\n    <tr>\n      <th>성북구</th>\n      <td>945</td>\n    </tr>\n    <tr>\n      <th>송파구</th>\n      <td>1282</td>\n    </tr>\n    <tr>\n      <th>양천구</th>\n      <td>810</td>\n    </tr>\n    <tr>\n      <th>영등포구</th>\n      <td>816</td>\n    </tr>\n    <tr>\n      <th>용산구</th>\n      <td>477</td>\n    </tr>\n    <tr>\n      <th>은평구</th>\n      <td>923</td>\n    </tr>\n    <tr>\n      <th>종로구</th>\n      <td>474</td>\n    </tr>\n    <tr>\n      <th>중구</th>\n      <td>322</td>\n    </tr>\n    <tr>\n      <th>중랑구</th>\n      <td>920</td>\n    </tr>\n    <tr>\n      <th>타시도</th>\n      <td>1033</td>\n    </tr>\n  </tbody>\n</table>\n</div>"
     },
     "metadata": {},
     "execution_count": 42
    }
   ],
   "source": [
    "a_d"
   ]
  },
  {
   "cell_type": "code",
   "execution_count": 43,
   "metadata": {},
   "outputs": [],
   "source": [
    "d_day = df[df['지역'] == '강서구'].pivot_table('연번','확진일',aggfunc=\"count\")"
   ]
  },
  {
   "cell_type": "code",
   "execution_count": 44,
   "metadata": {},
   "outputs": [],
   "source": [
    "ten_day = d_day.sort_values(by='확진일', ascending=False).head(10)"
   ]
  },
  {
   "cell_type": "code",
   "execution_count": 45,
   "metadata": {},
   "outputs": [
    {
     "output_type": "execute_result",
     "data": {
      "text/plain": [
       "['2021-01-07',\n",
       " '2021-01-08',\n",
       " '2021-01-09',\n",
       " '2021-01-10',\n",
       " '2021-01-11',\n",
       " '2021-01-12',\n",
       " '2021-01-13',\n",
       " '2021-01-14',\n",
       " '2021-01-15',\n",
       " '2021-01-16']"
      ]
     },
     "metadata": {},
     "execution_count": 45
    }
   ],
   "source": [
    "list(ten_day.index)[::-1]\n"
   ]
  },
  {
   "cell_type": "code",
   "execution_count": 119,
   "metadata": {},
   "outputs": [
    {
     "output_type": "execute_result",
     "data": {
      "text/plain": [
       "'2020-12-28'"
      ]
     },
     "metadata": {},
     "execution_count": 119
    }
   ],
   "source": []
  },
  {
   "cell_type": "code",
   "execution_count": 46,
   "metadata": {},
   "outputs": [],
   "source": [
    "ten_day = d_day.sort_values(by='확진일', ascending=False).head(10)\n",
    "ten_date = list(ten_day.index)\n",
    "ten_val = list(ten_day['연번'].values)"
   ]
  }
 ]
}