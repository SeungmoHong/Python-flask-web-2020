{
 "metadata": {
  "language_info": {
   "codemirror_mode": {
    "name": "ipython",
    "version": 3
   },
   "file_extension": ".py",
   "mimetype": "text/x-python",
   "name": "python",
   "nbconvert_exporter": "python",
   "pygments_lexer": "ipython3",
   "version": "3.8.5-final"
  },
  "orig_nbformat": 2,
  "kernelspec": {
   "name": "python3",
   "display_name": "Python 3",
   "language": "python"
  }
 },
 "nbformat": 4,
 "nbformat_minor": 2,
 "cells": [
  {
   "source": [
    "# IMDB 영화평 테스트셋 분리 , 모델 만들기"
   ],
   "cell_type": "markdown",
   "metadata": {}
  },
  {
   "cell_type": "code",
   "execution_count": 1,
   "metadata": {},
   "outputs": [],
   "source": [
    "import numpy as np \n",
    "import pandas as pd\n",
    "from sklearn.model_selection import train_test_split\n",
    "from sklearn.feature_extraction.text import CountVectorizer, TfidfVectorizer\n",
    "from sklearn.linear_model import LogisticRegression\n",
    "from sklearn.metrics import accuracy_score\n",
    "from sklearn.pipeline import Pipeline\n",
    "import joblib\n",
    "from sklearn.model_selection import GridSearchCV"
   ]
  },
  {
   "cell_type": "code",
   "execution_count": 2,
   "metadata": {},
   "outputs": [
    {
     "output_type": "execute_result",
     "data": {
      "text/plain": [
       "         id  sentiment                                             review\n",
       "0  \"5814_8\"          1  \"With all this stuff going down at the moment ...\n",
       "1  \"2381_9\"          1  \"\\\"The Classic War of the Worlds\\\" by Timothy ...\n",
       "2  \"7759_3\"          0  \"The film starts with a manager (Nicholas Bell..."
      ],
      "text/html": "<div>\n<style scoped>\n    .dataframe tbody tr th:only-of-type {\n        vertical-align: middle;\n    }\n\n    .dataframe tbody tr th {\n        vertical-align: top;\n    }\n\n    .dataframe thead th {\n        text-align: right;\n    }\n</style>\n<table border=\"1\" class=\"dataframe\">\n  <thead>\n    <tr style=\"text-align: right;\">\n      <th></th>\n      <th>id</th>\n      <th>sentiment</th>\n      <th>review</th>\n    </tr>\n  </thead>\n  <tbody>\n    <tr>\n      <th>0</th>\n      <td>\"5814_8\"</td>\n      <td>1</td>\n      <td>\"With all this stuff going down at the moment ...</td>\n    </tr>\n    <tr>\n      <th>1</th>\n      <td>\"2381_9\"</td>\n      <td>1</td>\n      <td>\"\\\"The Classic War of the Worlds\\\" by Timothy ...</td>\n    </tr>\n    <tr>\n      <th>2</th>\n      <td>\"7759_3\"</td>\n      <td>0</td>\n      <td>\"The film starts with a manager (Nicholas Bell...</td>\n    </tr>\n  </tbody>\n</table>\n</div>"
     },
     "metadata": {},
     "execution_count": 2
    }
   ],
   "source": [
    "df = pd.read_csv('../static/data/IMDB.tsv', header=0, sep ='\\t', quoting=3)\n",
    "df.head(3)"
   ]
  },
  {
   "cell_type": "code",
   "execution_count": 3,
   "metadata": {},
   "outputs": [],
   "source": [
    "# 영어 이외의 문자는 공백으로 변환\n",
    "import re\n",
    "\n",
    "df['review'] = df.review.apply(lambda x : re.sub('[^a-zA-Z]', ' ',x))\n",
    "# br태그를 공백으로 바꾸기\n",
    "df['review'] = df.review.str.replace('<br />', ' ')"
   ]
  },
  {
   "cell_type": "code",
   "execution_count": 4,
   "metadata": {},
   "outputs": [
    {
     "output_type": "execute_result",
     "data": {
      "text/plain": [
       "                                              review  sentiment\n",
       "0   With all this stuff going down at the moment ...          1\n",
       "1     The Classic War of the Worlds   by Timothy ...          1\n",
       "2   The film starts with a manager  Nicholas Bell...          0"
      ],
      "text/html": "<div>\n<style scoped>\n    .dataframe tbody tr th:only-of-type {\n        vertical-align: middle;\n    }\n\n    .dataframe tbody tr th {\n        vertical-align: top;\n    }\n\n    .dataframe thead th {\n        text-align: right;\n    }\n</style>\n<table border=\"1\" class=\"dataframe\">\n  <thead>\n    <tr style=\"text-align: right;\">\n      <th></th>\n      <th>review</th>\n      <th>sentiment</th>\n    </tr>\n  </thead>\n  <tbody>\n    <tr>\n      <th>0</th>\n      <td>With all this stuff going down at the moment ...</td>\n      <td>1</td>\n    </tr>\n    <tr>\n      <th>1</th>\n      <td>The Classic War of the Worlds   by Timothy ...</td>\n      <td>1</td>\n    </tr>\n    <tr>\n      <th>2</th>\n      <td>The film starts with a manager  Nicholas Bell...</td>\n      <td>0</td>\n    </tr>\n  </tbody>\n</table>\n</div>"
     },
     "metadata": {},
     "execution_count": 4
    }
   ],
   "source": [
    "df = df[['review','sentiment']]\n",
    "df.head(3)"
   ]
  },
  {
   "cell_type": "code",
   "execution_count": 5,
   "metadata": {},
   "outputs": [],
   "source": [
    "X_train, X_test, y_train, y_test = train_test_split(\n",
    "    df, df.sentiment, test_size=0.25, stratify=df.sentiment, random_state=2021\n",
    ")"
   ]
  },
  {
   "cell_type": "code",
   "execution_count": 6,
   "metadata": {},
   "outputs": [],
   "source": [
    "X_train.to_csv('../static/data/imdb_train.csv', index=False)\n",
    "X_test.to_csv('../static/data/imdb_test.csv', index=False)"
   ]
  },
  {
   "cell_type": "code",
   "execution_count": 7,
   "metadata": {},
   "outputs": [
    {
     "output_type": "execute_result",
     "data": {
      "text/plain": [
       "                                              review  sentiment\n",
       "0     Still Crazy   is without a doubt the greate...          1\n",
       "1   For me the only reason for having a look at t...          0\n",
       "2   This is one of the funniest movies I have see...          1"
      ],
      "text/html": "<div>\n<style scoped>\n    .dataframe tbody tr th:only-of-type {\n        vertical-align: middle;\n    }\n\n    .dataframe tbody tr th {\n        vertical-align: top;\n    }\n\n    .dataframe thead th {\n        text-align: right;\n    }\n</style>\n<table border=\"1\" class=\"dataframe\">\n  <thead>\n    <tr style=\"text-align: right;\">\n      <th></th>\n      <th>review</th>\n      <th>sentiment</th>\n    </tr>\n  </thead>\n  <tbody>\n    <tr>\n      <th>0</th>\n      <td>Still Crazy   is without a doubt the greate...</td>\n      <td>1</td>\n    </tr>\n    <tr>\n      <th>1</th>\n      <td>For me the only reason for having a look at t...</td>\n      <td>0</td>\n    </tr>\n    <tr>\n      <th>2</th>\n      <td>This is one of the funniest movies I have see...</td>\n      <td>1</td>\n    </tr>\n  </tbody>\n</table>\n</div>"
     },
     "metadata": {},
     "execution_count": 7
    }
   ],
   "source": [
    "df_train = pd.read_csv('../static/data/imdb_train.csv')\n",
    "df_train.head(3)"
   ]
  },
  {
   "cell_type": "code",
   "execution_count": 8,
   "metadata": {},
   "outputs": [
    {
     "output_type": "execute_result",
     "data": {
      "text/plain": [
       "                                              review  sentiment\n",
       "0     Johnny Dangerously   is a sort of hit and m...          1\n",
       "1   Along with Fernando Fragata  Jo o M rio Grilo...          1\n",
       "2   Okay  I absolutely LOVE Ben Stiller  although...          0"
      ],
      "text/html": "<div>\n<style scoped>\n    .dataframe tbody tr th:only-of-type {\n        vertical-align: middle;\n    }\n\n    .dataframe tbody tr th {\n        vertical-align: top;\n    }\n\n    .dataframe thead th {\n        text-align: right;\n    }\n</style>\n<table border=\"1\" class=\"dataframe\">\n  <thead>\n    <tr style=\"text-align: right;\">\n      <th></th>\n      <th>review</th>\n      <th>sentiment</th>\n    </tr>\n  </thead>\n  <tbody>\n    <tr>\n      <th>0</th>\n      <td>Johnny Dangerously   is a sort of hit and m...</td>\n      <td>1</td>\n    </tr>\n    <tr>\n      <th>1</th>\n      <td>Along with Fernando Fragata  Jo o M rio Grilo...</td>\n      <td>1</td>\n    </tr>\n    <tr>\n      <th>2</th>\n      <td>Okay  I absolutely LOVE Ben Stiller  although...</td>\n      <td>0</td>\n    </tr>\n  </tbody>\n</table>\n</div>"
     },
     "metadata": {},
     "execution_count": 8
    }
   ],
   "source": [
    "df_test = pd.read_csv('../static/data/imdb_test.csv')\n",
    "df_test.head(3)"
   ]
  },
  {
   "cell_type": "code",
   "execution_count": 23,
   "metadata": {},
   "outputs": [],
   "source": [
    "X_train = df_train.review\n",
    "y_train = df_train.sentiment\n",
    "X_test = df_test.review\n",
    "y_test = df_test.sentiment"
   ]
  },
  {
   "cell_type": "code",
   "execution_count": 10,
   "metadata": {},
   "outputs": [],
   "source": [
    "# TfidfVectorizer\n",
    "tfidf_vect = TfidfVectorizer(stop_words='english')\n",
    "tfidf_vect.fit(df.review)\n",
    "X_train_tfidf = tfidf_vect.transform(X_train)\n",
    "X_test_tfidf = tfidf_vect.transform(X_test)\n",
    "# CountVectorizer\n",
    "count_vect = CountVectorizer(stop_words='english')\n",
    "count_vect.fit(df.review)\n",
    "X_train_count = count_vect.transform(X_train)\n",
    "X_test_count = count_vect.transform(X_test)"
   ]
  },
  {
   "source": [
    "### 모델 저장"
   ],
   "cell_type": "markdown",
   "metadata": {}
  },
  {
   "cell_type": "code",
   "execution_count": 11,
   "metadata": {},
   "outputs": [
    {
     "output_type": "execute_result",
     "data": {
      "text/plain": [
       "['../static/model/imdb_count.pkl']"
      ]
     },
     "metadata": {},
     "execution_count": 11
    }
   ],
   "source": [
    "joblib.dump(tfidf_vect, '../static/model/imdb_tfidf.pkl')\n",
    "joblib.dump(count_vect, '../static/model/imdb_count.pkl')"
   ]
  },
  {
   "source": [
    "### 불러오기"
   ],
   "cell_type": "markdown",
   "metadata": {}
  },
  {
   "cell_type": "code",
   "execution_count": 12,
   "metadata": {},
   "outputs": [],
   "source": [
    "tfidf_vect = joblib.load('../static/model/imdb_tfidf.pkl')\n",
    "counmt_vect = joblib.load('../static/model/imdb_count.pkl')"
   ]
  },
  {
   "source": [
    "### 성능체크"
   ],
   "cell_type": "markdown",
   "metadata": {}
  },
  {
   "cell_type": "code",
   "execution_count": 13,
   "metadata": {},
   "outputs": [],
   "source": [
    "pipeline1 = Pipeline([\n",
    "    ('tfidf_vect', TfidfVectorizer(stop_words='english')),\n",
    "    ('lr_clf', LogisticRegression())\n",
    "])"
   ]
  },
  {
   "cell_type": "code",
   "execution_count": 14,
   "metadata": {},
   "outputs": [],
   "source": [
    "pipeline2 = Pipeline([\n",
    "    ('count_vect', CountVectorizer(stop_words='english')),\n",
    "    ('lr_clf', LogisticRegression())\n",
    "])"
   ]
  },
  {
   "cell_type": "code",
   "execution_count": 15,
   "metadata": {},
   "outputs": [
    {
     "output_type": "execute_result",
     "data": {
      "text/plain": [
       "{'memory': None,\n",
       " 'steps': [('tfidf_vect', TfidfVectorizer(stop_words='english')),\n",
       "  ('lr_clf', LogisticRegression())],\n",
       " 'verbose': False,\n",
       " 'tfidf_vect': TfidfVectorizer(stop_words='english'),\n",
       " 'lr_clf': LogisticRegression(),\n",
       " 'tfidf_vect__analyzer': 'word',\n",
       " 'tfidf_vect__binary': False,\n",
       " 'tfidf_vect__decode_error': 'strict',\n",
       " 'tfidf_vect__dtype': numpy.float64,\n",
       " 'tfidf_vect__encoding': 'utf-8',\n",
       " 'tfidf_vect__input': 'content',\n",
       " 'tfidf_vect__lowercase': True,\n",
       " 'tfidf_vect__max_df': 1.0,\n",
       " 'tfidf_vect__max_features': None,\n",
       " 'tfidf_vect__min_df': 1,\n",
       " 'tfidf_vect__ngram_range': (1, 1),\n",
       " 'tfidf_vect__norm': 'l2',\n",
       " 'tfidf_vect__preprocessor': None,\n",
       " 'tfidf_vect__smooth_idf': True,\n",
       " 'tfidf_vect__stop_words': 'english',\n",
       " 'tfidf_vect__strip_accents': None,\n",
       " 'tfidf_vect__sublinear_tf': False,\n",
       " 'tfidf_vect__token_pattern': '(?u)\\\\b\\\\w\\\\w+\\\\b',\n",
       " 'tfidf_vect__tokenizer': None,\n",
       " 'tfidf_vect__use_idf': True,\n",
       " 'tfidf_vect__vocabulary': None,\n",
       " 'lr_clf__C': 1.0,\n",
       " 'lr_clf__class_weight': None,\n",
       " 'lr_clf__dual': False,\n",
       " 'lr_clf__fit_intercept': True,\n",
       " 'lr_clf__intercept_scaling': 1,\n",
       " 'lr_clf__l1_ratio': None,\n",
       " 'lr_clf__max_iter': 100,\n",
       " 'lr_clf__multi_class': 'auto',\n",
       " 'lr_clf__n_jobs': None,\n",
       " 'lr_clf__penalty': 'l2',\n",
       " 'lr_clf__random_state': None,\n",
       " 'lr_clf__solver': 'lbfgs',\n",
       " 'lr_clf__tol': 0.0001,\n",
       " 'lr_clf__verbose': 0,\n",
       " 'lr_clf__warm_start': False}"
      ]
     },
     "metadata": {},
     "execution_count": 15
    }
   ],
   "source": [
    "pipeline1.get_params()"
   ]
  },
  {
   "cell_type": "code",
   "execution_count": 16,
   "metadata": {},
   "outputs": [
    {
     "output_type": "execute_result",
     "data": {
      "text/plain": [
       "{'memory': None,\n",
       " 'steps': [('count_vect', CountVectorizer(stop_words='english')),\n",
       "  ('lr_clf', LogisticRegression())],\n",
       " 'verbose': False,\n",
       " 'count_vect': CountVectorizer(stop_words='english'),\n",
       " 'lr_clf': LogisticRegression(),\n",
       " 'count_vect__analyzer': 'word',\n",
       " 'count_vect__binary': False,\n",
       " 'count_vect__decode_error': 'strict',\n",
       " 'count_vect__dtype': numpy.int64,\n",
       " 'count_vect__encoding': 'utf-8',\n",
       " 'count_vect__input': 'content',\n",
       " 'count_vect__lowercase': True,\n",
       " 'count_vect__max_df': 1.0,\n",
       " 'count_vect__max_features': None,\n",
       " 'count_vect__min_df': 1,\n",
       " 'count_vect__ngram_range': (1, 1),\n",
       " 'count_vect__preprocessor': None,\n",
       " 'count_vect__stop_words': 'english',\n",
       " 'count_vect__strip_accents': None,\n",
       " 'count_vect__token_pattern': '(?u)\\\\b\\\\w\\\\w+\\\\b',\n",
       " 'count_vect__tokenizer': None,\n",
       " 'count_vect__vocabulary': None,\n",
       " 'lr_clf__C': 1.0,\n",
       " 'lr_clf__class_weight': None,\n",
       " 'lr_clf__dual': False,\n",
       " 'lr_clf__fit_intercept': True,\n",
       " 'lr_clf__intercept_scaling': 1,\n",
       " 'lr_clf__l1_ratio': None,\n",
       " 'lr_clf__max_iter': 100,\n",
       " 'lr_clf__multi_class': 'auto',\n",
       " 'lr_clf__n_jobs': None,\n",
       " 'lr_clf__penalty': 'l2',\n",
       " 'lr_clf__random_state': None,\n",
       " 'lr_clf__solver': 'lbfgs',\n",
       " 'lr_clf__tol': 0.0001,\n",
       " 'lr_clf__verbose': 0,\n",
       " 'lr_clf__warm_start': False}"
      ]
     },
     "metadata": {},
     "execution_count": 16
    }
   ],
   "source": [
    "pipeline2.get_params()"
   ]
  },
  {
   "cell_type": "code",
   "execution_count": 17,
   "metadata": {},
   "outputs": [],
   "source": [
    "params = {\n",
    "    'tfidf_vect__ngram_range' : [(1,2)],\n",
    "    'tfidf_vect__max_df'  : [800, 900, 1000],\n",
    "    'lr_clf__C': [8,10,20,30],\n",
    "    'tfidf_vect__min_df': [2],\n",
    "}"
   ]
  },
  {
   "cell_type": "code",
   "execution_count": 18,
   "metadata": {},
   "outputs": [
    {
     "output_type": "stream",
     "name": "stdout",
     "text": [
      "Fitting 5 folds for each of 12 candidates, totalling 60 fits\n",
      "[Parallel(n_jobs=1)]: Using backend SequentialBackend with 1 concurrent workers.\n",
      "[Parallel(n_jobs=1)]: Done  60 out of  60 | elapsed:  9.1min finished\n",
      "{'lr_clf__C': 20, 'tfidf_vect__max_df': 1000, 'tfidf_vect__min_df': 2, 'tfidf_vect__ngram_range': (1, 2)} 0.8924266666666668\n"
     ]
    }
   ],
   "source": [
    "grid_pipe = GridSearchCV(pipeline1, param_grid= params, cv=5, scoring='accuracy', verbose=1)\n",
    "\n",
    "grid_pipe.fit(X_train, y_train)\n",
    "print(grid_pipe.best_params_, grid_pipe.best_score_)"
   ]
  },
  {
   "cell_type": "code",
   "execution_count": 24,
   "metadata": {},
   "outputs": [
    {
     "output_type": "execute_result",
     "data": {
      "text/plain": [
       "0.88992"
      ]
     },
     "metadata": {},
     "execution_count": 24
    }
   ],
   "source": [
    "best = grid_pipe.best_estimator_\n",
    "pred = grid_pipe.predict(X_test)\n",
    "accuracy_score(y_test, pred)"
   ]
  },
  {
   "cell_type": "code",
   "execution_count": 25,
   "metadata": {},
   "outputs": [
    {
     "output_type": "execute_result",
     "data": {
      "text/plain": [
       "['../static/model/tf_lr_imdb.pkl']"
      ]
     },
     "metadata": {},
     "execution_count": 25
    }
   ],
   "source": [
    "joblib.dump(best, '../static/model/tf_lr_imdb.pkl')"
   ]
  },
  {
   "cell_type": "code",
   "execution_count": 26,
   "metadata": {},
   "outputs": [],
   "source": [
    "params = {\n",
    "    'count_vect__ngram_range' : [(1,1), (1,2), (1,3)],\n",
    "    'count_vect__max_df'  : [700,800, 900, 1000],\n",
    "    'lr_clf__C': [0.1, 1, 10, 50],\n",
    "    'count_vect__min_df': [2,3,4,5],\n",
    "}"
   ]
  },
  {
   "cell_type": "code",
   "execution_count": 27,
   "metadata": {},
   "outputs": [
    {
     "output_type": "stream",
     "name": "stdout",
     "text": [
      "Fitting 5 folds for each of 192 candidates, totalling 960 fits\n",
      "[Parallel(n_jobs=1)]: Using backend SequentialBackend with 1 concurrent workers.\n",
      "[Parallel(n_jobs=1)]: Done 960 out of 960 | elapsed: 114.1min finished\n",
      "{'count_vect__max_df': 900, 'count_vect__min_df': 3, 'count_vect__ngram_range': (1, 3), 'lr_clf__C': 0.1} 0.8826666666666666\n"
     ]
    }
   ],
   "source": [
    "grid_pipe = GridSearchCV(pipeline2, param_grid= params, cv=5, scoring='accuracy', verbose=1)\n",
    "\n",
    "grid_pipe.fit(X_train, y_train)\n",
    "print(grid_pipe.best_params_, grid_pipe.best_score_)"
   ]
  },
  {
   "cell_type": "code",
   "execution_count": 28,
   "metadata": {},
   "outputs": [
    {
     "output_type": "execute_result",
     "data": {
      "text/plain": [
       "0.87888"
      ]
     },
     "metadata": {},
     "execution_count": 28
    }
   ],
   "source": [
    "best = grid_pipe.best_estimator_\n",
    "pred = grid_pipe.predict(X_test)\n",
    "accuracy_score(y_test, pred)"
   ]
  },
  {
   "cell_type": "code",
   "execution_count": 29,
   "metadata": {},
   "outputs": [
    {
     "output_type": "execute_result",
     "data": {
      "text/plain": [
       "['../static/model/co_lr_imdb.pkl']"
      ]
     },
     "metadata": {},
     "execution_count": 29
    }
   ],
   "source": [
    "joblib.dump(best, '../static/model/co_lr_imdb.pkl')"
   ]
  },
  {
   "source": [
    "### test"
   ],
   "cell_type": "markdown",
   "metadata": {}
  },
  {
   "cell_type": "code",
   "execution_count": 31,
   "metadata": {},
   "outputs": [],
   "source": [
    "index = 100"
   ]
  },
  {
   "cell_type": "code",
   "execution_count": 32,
   "metadata": {},
   "outputs": [
    {
     "output_type": "execute_result",
     "data": {
      "text/plain": [
       "(0, 0)"
      ]
     },
     "metadata": {},
     "execution_count": 32
    }
   ],
   "source": [
    "y_test[100],pred[100]"
   ]
  },
  {
   "cell_type": "code",
   "execution_count": 38,
   "metadata": {},
   "outputs": [],
   "source": [
    "# 별점 1개, 7개,  10개 , 4개순\n",
    "test_list = [''' Why is it that when a movie is boring and makes a pretense of being 'about something', we are supposed to take it more seriously than say, a comedy. This movie actually made me feel ill for movies in general. It took some time to watch another movie after this experience.\n",
    "\n",
    "Whatever foreign-movie cliches this movie avoids, it substitutes stupidity in its place. The pouting, silent and pliable French lead is so seriously dull how can u watch her? The old man is supposed to be wise in the ways of the world and people, yet with that jaded disdain that gives him a sense of superiority. He really KNOWS people. The stuff this guy spits out is so outrageously phony and dull it's hard to keep a straight face. I suppose he is the sly fox who educates the innocent babe, never mind how false and boring it is. This is 'serious' filmmaking, remember.\n",
    "\n",
    "This movie is like a boring sculpture sitting in a vacuum-it's hard to breathe in here. Each scene seems as if carved from lead. It violates what i think is one of the rules of effective dramaturgy: Not every single scene should be dramatic. These movies are supposed to move us and make us feel something, but they only put us in a trance with their emotional sameness.\n",
    "\n",
    "Witness Woody Allen's Interiors, another narcoleptic masterpiece of dreadful seriousness. There are scenes in both these movies which go so far in trying to be heavy and dramatic they are comic. Further, they betray the labored effects of an unimaginative writer. Is the best way to show us a character is feeling something by having them push it in our face every other stupid scene?''',\n",
    "'''\n",
    "Krzysztof Kieslowski's third and last of the Three Colors trilgy' \"Red\" (1994), I found to be a more philosophical film than its predecessors, \"Blue\" (1993) and \"White\" (1994).\n",
    "\n",
    "We follow Valentine, a young model living in Geneva. By literal accident, she meets a retired judge who spies his neighbours' phone calls, not for money but to feed his cynicism.\n",
    "\n",
    "The film is primarily the story of the relationship between Valentine and the judge, and their relationship is evolved and portrayed in a very convincing manner, thematically centrering around love, loss, forgiveness and redemption.\n",
    "\n",
    "Visually, once again it is a masterpiece, just as impressive a film as \"Blue\", and again drawing on symbolism in its visual storytelling. Also, Kieslowski's intelligent directional style, combined with an interesting plot, made me really like the end of the trilogy.\n",
    "\n",
    "The ending is particularly intelligent and interesting in its execution. Wonder what the thoughts and intentions were for Kieslowski. Highly recommended to watch in concordance with its predecessors.\n",
    "''',\n",
    "'''\n",
    "See Three Colors: Blue and Three Colors: White. They are both wonderful films and will give an added dimension to the finale Three Colors: Red. Red is a fantastic film. It can be enjoyed in a single viewing, and indeed, the climax of the film is very powerful in that first viewing. But, watch it again. Once you understand the use of symbolism and character parallels in this movie, you will see new things with each viewing. With the first viewing you understand that the film is the work of a brilliant mind. With each additional viewing, you find yourself discovering that it is, in fact, a work of genius. Red is meant to symbolize fraternity in the French flag. The story turns the theme of fraternity around to be viewed at angles one would never suspect. The facets of fraternity shared by the different characters is as deep as you care to peer. If you are used to the blatant \"symbolism\" in most mass films, you may find Red a bit slow. You may find yourself looking at a screen filled with intensity that you do not fathom... and yawning, wonder what all the excitement is about. This is not a mindless, vicarious experience. Everything is not explained to you. You must think as you watch. You must see... not simply look. Wonderful movie... one meant to be enjoyed by a wonderful moviegoer.\n",
    "''',\n",
    "'''\n",
    "What's the fuss about? I am going to be the one who points out that the Emperor has no clothes here. Three Colours Red is nothing special at all. It starts slowly and doesn't get much more pacey as it goes along; it's moderately intriguing but that's it. It never hits any sort of heights.\n",
    "\n",
    "The whole effect is so muted, so underplayed that nothing grabs the attention. Visually it may look good on occasions but dramatically speaking it is inert; there is nothing there. I thought that after the dog incident things would begin to happen and I would be drawn into a web of intrigue. Nope.\n",
    "\n",
    "It's not that I dislike slow, arty films or French films (though I'm not keen), but this one just said very little to me. There are no answers to the meaning of life here. I am amazed that this vaguely pretentious movie has got such good reviews on IMDb and is awarded four stars in Halliwell's Film Guide. (The editor clearly had a bit of a dizzy spell when it came to the Three Colours films as he gives ALL of them maximum marks.)\n",
    "''']"
   ]
  },
  {
   "cell_type": "code",
   "execution_count": 39,
   "metadata": {},
   "outputs": [
    {
     "output_type": "execute_result",
     "data": {
      "text/plain": [
       "array([0, 1, 1, 0], dtype=int64)"
      ]
     },
     "metadata": {},
     "execution_count": 39
    }
   ],
   "source": [
    "# 성능확인\n",
    "grid_pipe.predict(test_list)"
   ]
  },
  {
   "cell_type": "code",
   "execution_count": null,
   "metadata": {},
   "outputs": [],
   "source": []
  }
 ]
}