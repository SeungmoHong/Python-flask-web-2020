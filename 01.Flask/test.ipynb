{
 "metadata": {
  "language_info": {
   "codemirror_mode": {
    "name": "ipython",
    "version": 3
   },
   "file_extension": ".py",
   "mimetype": "text/x-python",
   "name": "python",
   "nbconvert_exporter": "python",
   "pygments_lexer": "ipython3",
   "version": "3.8.5-final"
  },
  "orig_nbformat": 2,
  "kernelspec": {
   "name": "python3",
   "display_name": "Python 3",
   "language": "python"
  }
 },
 "nbformat": 4,
 "nbformat_minor": 2,
 "cells": [
  {
   "cell_type": "code",
   "execution_count": 26,
   "metadata": {},
   "outputs": [],
   "source": [
    "import pandas as pd\n",
    "\n"
   ]
  },
  {
   "cell_type": "code",
   "execution_count": 27,
   "metadata": {},
   "outputs": [],
   "source": [
    "import pandas_datareader as pdr\n",
    "from datetime import datetime\n",
    "start = datetime(2013, 1, 1)\n",
    "end = datetime(2020, 12, 4)"
   ]
  },
  {
   "cell_type": "code",
   "execution_count": 28,
   "metadata": {},
   "outputs": [],
   "source": [
    "kakao = pdr.DataReader('095570.KS', data_source='yahoo', start=start, end=end)"
   ]
  },
  {
   "cell_type": "code",
   "execution_count": 29,
   "metadata": {},
   "outputs": [
    {
     "output_type": "execute_result",
     "data": {
      "text/plain": [
       "              High     Low    Open   Close     Volume    Adj Close\n",
       "Date                                                              \n",
       "2015-08-21  7300.0  5600.0  6180.0  7100.0  9970110.0  6947.291016\n",
       "2015-08-24  6940.0  6240.0  6700.0  6480.0  1964155.0  6340.625977\n",
       "2015-08-25  6730.0  6190.0  6610.0  6220.0  1213650.0  6086.218262\n",
       "2015-08-26  7760.0  6260.0  6260.0  7090.0  3518605.0  6937.505859\n",
       "2015-08-27  8060.0  6960.0  7240.0  7570.0  2499565.0  7407.182129\n",
       "...            ...     ...     ...     ...        ...          ...\n",
       "2020-11-30  4660.0  4515.0  4660.0  4530.0   325273.0  4530.000000\n",
       "2020-12-01  4560.0  4445.0  4560.0  4460.0   208335.0  4460.000000\n",
       "2020-12-02  4505.0  4350.0  4460.0  4365.0   243752.0  4365.000000\n",
       "2020-12-03  4535.0  4355.0  4450.0  4480.0   198469.0  4480.000000\n",
       "2020-12-04  4575.0  4495.0  4495.0  4550.0   222605.0  4550.000000\n",
       "\n",
       "[1293 rows x 6 columns]"
      ],
      "text/html": "<div>\n<style scoped>\n    .dataframe tbody tr th:only-of-type {\n        vertical-align: middle;\n    }\n\n    .dataframe tbody tr th {\n        vertical-align: top;\n    }\n\n    .dataframe thead th {\n        text-align: right;\n    }\n</style>\n<table border=\"1\" class=\"dataframe\">\n  <thead>\n    <tr style=\"text-align: right;\">\n      <th></th>\n      <th>High</th>\n      <th>Low</th>\n      <th>Open</th>\n      <th>Close</th>\n      <th>Volume</th>\n      <th>Adj Close</th>\n    </tr>\n    <tr>\n      <th>Date</th>\n      <th></th>\n      <th></th>\n      <th></th>\n      <th></th>\n      <th></th>\n      <th></th>\n    </tr>\n  </thead>\n  <tbody>\n    <tr>\n      <th>2015-08-21</th>\n      <td>7300.0</td>\n      <td>5600.0</td>\n      <td>6180.0</td>\n      <td>7100.0</td>\n      <td>9970110.0</td>\n      <td>6947.291016</td>\n    </tr>\n    <tr>\n      <th>2015-08-24</th>\n      <td>6940.0</td>\n      <td>6240.0</td>\n      <td>6700.0</td>\n      <td>6480.0</td>\n      <td>1964155.0</td>\n      <td>6340.625977</td>\n    </tr>\n    <tr>\n      <th>2015-08-25</th>\n      <td>6730.0</td>\n      <td>6190.0</td>\n      <td>6610.0</td>\n      <td>6220.0</td>\n      <td>1213650.0</td>\n      <td>6086.218262</td>\n    </tr>\n    <tr>\n      <th>2015-08-26</th>\n      <td>7760.0</td>\n      <td>6260.0</td>\n      <td>6260.0</td>\n      <td>7090.0</td>\n      <td>3518605.0</td>\n      <td>6937.505859</td>\n    </tr>\n    <tr>\n      <th>2015-08-27</th>\n      <td>8060.0</td>\n      <td>6960.0</td>\n      <td>7240.0</td>\n      <td>7570.0</td>\n      <td>2499565.0</td>\n      <td>7407.182129</td>\n    </tr>\n    <tr>\n      <th>...</th>\n      <td>...</td>\n      <td>...</td>\n      <td>...</td>\n      <td>...</td>\n      <td>...</td>\n      <td>...</td>\n    </tr>\n    <tr>\n      <th>2020-11-30</th>\n      <td>4660.0</td>\n      <td>4515.0</td>\n      <td>4660.0</td>\n      <td>4530.0</td>\n      <td>325273.0</td>\n      <td>4530.000000</td>\n    </tr>\n    <tr>\n      <th>2020-12-01</th>\n      <td>4560.0</td>\n      <td>4445.0</td>\n      <td>4560.0</td>\n      <td>4460.0</td>\n      <td>208335.0</td>\n      <td>4460.000000</td>\n    </tr>\n    <tr>\n      <th>2020-12-02</th>\n      <td>4505.0</td>\n      <td>4350.0</td>\n      <td>4460.0</td>\n      <td>4365.0</td>\n      <td>243752.0</td>\n      <td>4365.000000</td>\n    </tr>\n    <tr>\n      <th>2020-12-03</th>\n      <td>4535.0</td>\n      <td>4355.0</td>\n      <td>4450.0</td>\n      <td>4480.0</td>\n      <td>198469.0</td>\n      <td>4480.000000</td>\n    </tr>\n    <tr>\n      <th>2020-12-04</th>\n      <td>4575.0</td>\n      <td>4495.0</td>\n      <td>4495.0</td>\n      <td>4550.0</td>\n      <td>222605.0</td>\n      <td>4550.000000</td>\n    </tr>\n  </tbody>\n</table>\n<p>1293 rows × 6 columns</p>\n</div>"
     },
     "metadata": {},
     "execution_count": 29
    }
   ],
   "source": [
    "kakao"
   ]
  },
  {
   "cell_type": "code",
   "execution_count": 30,
   "metadata": {},
   "outputs": [
    {
     "output_type": "execute_result",
     "data": {
      "text/plain": [
       "     종목코드      종목명      현재가      대비  등락률(%)     매도호가     매수호가     거래량(주)  \\\n",
       "0  095570   AJ네트웍스    4,590      30    0.66    4,590    4,585    781,237   \n",
       "1  006840    AK홀딩스   25,300  -1,250    4.71   25,450   25,300    106,732   \n",
       "2  027410      BGF    4,820      20    0.42    4,830    4,815  1,089,384   \n",
       "3  282330   BGF리테일  129,000  -3,000    2.27  129,500  129,000     43,637   \n",
       "4  138930  BNK금융지주    5,830     -10    0.17    5,840    5,830  1,241,588   \n",
       "\n",
       "         거래대금(원)       시가       고가       저가    액면가    통화구분     상장주식수(주)  \\\n",
       "0  3,706,015,025    4,735    4,950    4,585  1,000  원(KRW)   46,822,295   \n",
       "1  2,718,418,700   26,200   26,200   25,050  5,000  원(KRW)   13,247,561   \n",
       "2  5,252,573,200    4,760    4,885    4,720  1,000  원(KRW)   95,716,791   \n",
       "3  5,671,121,000  133,500  134,000  128,000  1,000  원(KRW)   17,283,906   \n",
       "4  7,261,144,190    5,870    5,890    5,810  5,000  원(KRW)  325,935,246   \n",
       "\n",
       "           상장시가총액(원)   총카운트  \n",
       "0    214,914,334,050  917.0  \n",
       "1    335,163,293,300    NaN  \n",
       "2    461,354,932,620    NaN  \n",
       "3  2,229,623,874,000    NaN  \n",
       "4  1,900,202,484,180    NaN  "
      ],
      "text/html": "<div>\n<style scoped>\n    .dataframe tbody tr th:only-of-type {\n        vertical-align: middle;\n    }\n\n    .dataframe tbody tr th {\n        vertical-align: top;\n    }\n\n    .dataframe thead th {\n        text-align: right;\n    }\n</style>\n<table border=\"1\" class=\"dataframe\">\n  <thead>\n    <tr style=\"text-align: right;\">\n      <th></th>\n      <th>종목코드</th>\n      <th>종목명</th>\n      <th>현재가</th>\n      <th>대비</th>\n      <th>등락률(%)</th>\n      <th>매도호가</th>\n      <th>매수호가</th>\n      <th>거래량(주)</th>\n      <th>거래대금(원)</th>\n      <th>시가</th>\n      <th>고가</th>\n      <th>저가</th>\n      <th>액면가</th>\n      <th>통화구분</th>\n      <th>상장주식수(주)</th>\n      <th>상장시가총액(원)</th>\n      <th>총카운트</th>\n    </tr>\n  </thead>\n  <tbody>\n    <tr>\n      <th>0</th>\n      <td>095570</td>\n      <td>AJ네트웍스</td>\n      <td>4,590</td>\n      <td>30</td>\n      <td>0.66</td>\n      <td>4,590</td>\n      <td>4,585</td>\n      <td>781,237</td>\n      <td>3,706,015,025</td>\n      <td>4,735</td>\n      <td>4,950</td>\n      <td>4,585</td>\n      <td>1,000</td>\n      <td>원(KRW)</td>\n      <td>46,822,295</td>\n      <td>214,914,334,050</td>\n      <td>917.0</td>\n    </tr>\n    <tr>\n      <th>1</th>\n      <td>006840</td>\n      <td>AK홀딩스</td>\n      <td>25,300</td>\n      <td>-1,250</td>\n      <td>4.71</td>\n      <td>25,450</td>\n      <td>25,300</td>\n      <td>106,732</td>\n      <td>2,718,418,700</td>\n      <td>26,200</td>\n      <td>26,200</td>\n      <td>25,050</td>\n      <td>5,000</td>\n      <td>원(KRW)</td>\n      <td>13,247,561</td>\n      <td>335,163,293,300</td>\n      <td>NaN</td>\n    </tr>\n    <tr>\n      <th>2</th>\n      <td>027410</td>\n      <td>BGF</td>\n      <td>4,820</td>\n      <td>20</td>\n      <td>0.42</td>\n      <td>4,830</td>\n      <td>4,815</td>\n      <td>1,089,384</td>\n      <td>5,252,573,200</td>\n      <td>4,760</td>\n      <td>4,885</td>\n      <td>4,720</td>\n      <td>1,000</td>\n      <td>원(KRW)</td>\n      <td>95,716,791</td>\n      <td>461,354,932,620</td>\n      <td>NaN</td>\n    </tr>\n    <tr>\n      <th>3</th>\n      <td>282330</td>\n      <td>BGF리테일</td>\n      <td>129,000</td>\n      <td>-3,000</td>\n      <td>2.27</td>\n      <td>129,500</td>\n      <td>129,000</td>\n      <td>43,637</td>\n      <td>5,671,121,000</td>\n      <td>133,500</td>\n      <td>134,000</td>\n      <td>128,000</td>\n      <td>1,000</td>\n      <td>원(KRW)</td>\n      <td>17,283,906</td>\n      <td>2,229,623,874,000</td>\n      <td>NaN</td>\n    </tr>\n    <tr>\n      <th>4</th>\n      <td>138930</td>\n      <td>BNK금융지주</td>\n      <td>5,830</td>\n      <td>-10</td>\n      <td>0.17</td>\n      <td>5,840</td>\n      <td>5,830</td>\n      <td>1,241,588</td>\n      <td>7,261,144,190</td>\n      <td>5,870</td>\n      <td>5,890</td>\n      <td>5,810</td>\n      <td>5,000</td>\n      <td>원(KRW)</td>\n      <td>325,935,246</td>\n      <td>1,900,202,484,180</td>\n      <td>NaN</td>\n    </tr>\n  </tbody>\n</table>\n</div>"
     },
     "metadata": {},
     "execution_count": 30
    }
   ],
   "source": [
    "kospi = pd.read_csv('kospi.csv')\n",
    "kospi.head()"
   ]
  },
  {
   "cell_type": "code",
   "execution_count": 31,
   "metadata": {},
   "outputs": [
    {
     "output_type": "execute_result",
     "data": {
      "text/plain": [
       "        종목코드      종목명      현재가      대비  등락률(%)     매도호가     매수호가     거래량(주)  \\\n",
       "0  095570.KS   AJ네트웍스    4,590      30    0.66    4,590    4,585    781,237   \n",
       "1  006840.KS    AK홀딩스   25,300  -1,250    4.71   25,450   25,300    106,732   \n",
       "2  027410.KS      BGF    4,820      20    0.42    4,830    4,815  1,089,384   \n",
       "3  282330.KS   BGF리테일  129,000  -3,000    2.27  129,500  129,000     43,637   \n",
       "4  138930.KS  BNK금융지주    5,830     -10    0.17    5,840    5,830  1,241,588   \n",
       "\n",
       "         거래대금(원)       시가       고가       저가    액면가    통화구분     상장주식수(주)  \\\n",
       "0  3,706,015,025    4,735    4,950    4,585  1,000  원(KRW)   46,822,295   \n",
       "1  2,718,418,700   26,200   26,200   25,050  5,000  원(KRW)   13,247,561   \n",
       "2  5,252,573,200    4,760    4,885    4,720  1,000  원(KRW)   95,716,791   \n",
       "3  5,671,121,000  133,500  134,000  128,000  1,000  원(KRW)   17,283,906   \n",
       "4  7,261,144,190    5,870    5,890    5,810  5,000  원(KRW)  325,935,246   \n",
       "\n",
       "           상장시가총액(원)   총카운트  \n",
       "0    214,914,334,050  917.0  \n",
       "1    335,163,293,300    NaN  \n",
       "2    461,354,932,620    NaN  \n",
       "3  2,229,623,874,000    NaN  \n",
       "4  1,900,202,484,180    NaN  "
      ],
      "text/html": "<div>\n<style scoped>\n    .dataframe tbody tr th:only-of-type {\n        vertical-align: middle;\n    }\n\n    .dataframe tbody tr th {\n        vertical-align: top;\n    }\n\n    .dataframe thead th {\n        text-align: right;\n    }\n</style>\n<table border=\"1\" class=\"dataframe\">\n  <thead>\n    <tr style=\"text-align: right;\">\n      <th></th>\n      <th>종목코드</th>\n      <th>종목명</th>\n      <th>현재가</th>\n      <th>대비</th>\n      <th>등락률(%)</th>\n      <th>매도호가</th>\n      <th>매수호가</th>\n      <th>거래량(주)</th>\n      <th>거래대금(원)</th>\n      <th>시가</th>\n      <th>고가</th>\n      <th>저가</th>\n      <th>액면가</th>\n      <th>통화구분</th>\n      <th>상장주식수(주)</th>\n      <th>상장시가총액(원)</th>\n      <th>총카운트</th>\n    </tr>\n  </thead>\n  <tbody>\n    <tr>\n      <th>0</th>\n      <td>095570.KS</td>\n      <td>AJ네트웍스</td>\n      <td>4,590</td>\n      <td>30</td>\n      <td>0.66</td>\n      <td>4,590</td>\n      <td>4,585</td>\n      <td>781,237</td>\n      <td>3,706,015,025</td>\n      <td>4,735</td>\n      <td>4,950</td>\n      <td>4,585</td>\n      <td>1,000</td>\n      <td>원(KRW)</td>\n      <td>46,822,295</td>\n      <td>214,914,334,050</td>\n      <td>917.0</td>\n    </tr>\n    <tr>\n      <th>1</th>\n      <td>006840.KS</td>\n      <td>AK홀딩스</td>\n      <td>25,300</td>\n      <td>-1,250</td>\n      <td>4.71</td>\n      <td>25,450</td>\n      <td>25,300</td>\n      <td>106,732</td>\n      <td>2,718,418,700</td>\n      <td>26,200</td>\n      <td>26,200</td>\n      <td>25,050</td>\n      <td>5,000</td>\n      <td>원(KRW)</td>\n      <td>13,247,561</td>\n      <td>335,163,293,300</td>\n      <td>NaN</td>\n    </tr>\n    <tr>\n      <th>2</th>\n      <td>027410.KS</td>\n      <td>BGF</td>\n      <td>4,820</td>\n      <td>20</td>\n      <td>0.42</td>\n      <td>4,830</td>\n      <td>4,815</td>\n      <td>1,089,384</td>\n      <td>5,252,573,200</td>\n      <td>4,760</td>\n      <td>4,885</td>\n      <td>4,720</td>\n      <td>1,000</td>\n      <td>원(KRW)</td>\n      <td>95,716,791</td>\n      <td>461,354,932,620</td>\n      <td>NaN</td>\n    </tr>\n    <tr>\n      <th>3</th>\n      <td>282330.KS</td>\n      <td>BGF리테일</td>\n      <td>129,000</td>\n      <td>-3,000</td>\n      <td>2.27</td>\n      <td>129,500</td>\n      <td>129,000</td>\n      <td>43,637</td>\n      <td>5,671,121,000</td>\n      <td>133,500</td>\n      <td>134,000</td>\n      <td>128,000</td>\n      <td>1,000</td>\n      <td>원(KRW)</td>\n      <td>17,283,906</td>\n      <td>2,229,623,874,000</td>\n      <td>NaN</td>\n    </tr>\n    <tr>\n      <th>4</th>\n      <td>138930.KS</td>\n      <td>BNK금융지주</td>\n      <td>5,830</td>\n      <td>-10</td>\n      <td>0.17</td>\n      <td>5,840</td>\n      <td>5,830</td>\n      <td>1,241,588</td>\n      <td>7,261,144,190</td>\n      <td>5,870</td>\n      <td>5,890</td>\n      <td>5,810</td>\n      <td>5,000</td>\n      <td>원(KRW)</td>\n      <td>325,935,246</td>\n      <td>1,900,202,484,180</td>\n      <td>NaN</td>\n    </tr>\n  </tbody>\n</table>\n</div>"
     },
     "metadata": {},
     "execution_count": 31
    }
   ],
   "source": [
    "kospi['종목코드'] =  kospi['종목코드'] + '.KS'\n",
    "kospi.head()"
   ]
  },
  {
   "cell_type": "code",
   "execution_count": 32,
   "metadata": {},
   "outputs": [
    {
     "output_type": "execute_result",
     "data": {
      "text/plain": [
       "        종목코드      종목명\n",
       "0  095570.KS   AJ네트웍스\n",
       "1  006840.KS    AK홀딩스\n",
       "2  027410.KS      BGF\n",
       "3  282330.KS   BGF리테일\n",
       "4  138930.KS  BNK금융지주"
      ],
      "text/html": "<div>\n<style scoped>\n    .dataframe tbody tr th:only-of-type {\n        vertical-align: middle;\n    }\n\n    .dataframe tbody tr th {\n        vertical-align: top;\n    }\n\n    .dataframe thead th {\n        text-align: right;\n    }\n</style>\n<table border=\"1\" class=\"dataframe\">\n  <thead>\n    <tr style=\"text-align: right;\">\n      <th></th>\n      <th>종목코드</th>\n      <th>종목명</th>\n    </tr>\n  </thead>\n  <tbody>\n    <tr>\n      <th>0</th>\n      <td>095570.KS</td>\n      <td>AJ네트웍스</td>\n    </tr>\n    <tr>\n      <th>1</th>\n      <td>006840.KS</td>\n      <td>AK홀딩스</td>\n    </tr>\n    <tr>\n      <th>2</th>\n      <td>027410.KS</td>\n      <td>BGF</td>\n    </tr>\n    <tr>\n      <th>3</th>\n      <td>282330.KS</td>\n      <td>BGF리테일</td>\n    </tr>\n    <tr>\n      <th>4</th>\n      <td>138930.KS</td>\n      <td>BNK금융지주</td>\n    </tr>\n  </tbody>\n</table>\n</div>"
     },
     "metadata": {},
     "execution_count": 32
    }
   ],
   "source": [
    "kospi = kospi[['종목코드','종목명']]\n",
    "kospi.head()"
   ]
  },
  {
   "cell_type": "code",
   "execution_count": 33,
   "metadata": {},
   "outputs": [
    {
     "output_type": "execute_result",
     "data": {
      "text/plain": [
       "     종목코드     종목명      현재가    대비  등락률(%)     매도호가     매수호가   거래량(주)  \\\n",
       "0  060310      3S    2,180   -30    1.36    2,180    2,175  122,723   \n",
       "1  054620  APS홀딩스    8,190   310    3.93    8,200    8,190  236,442   \n",
       "2  265520   AP시스템   24,100  -200    0.82   24,100   24,050  108,121   \n",
       "3  211270    AP위성    6,970   -10    0.14    6,970    6,960   53,629   \n",
       "4  035760  CJ ENM  136,400  -600    0.44  136,700  136,400   48,178   \n",
       "\n",
       "         거래대금(원)       시가       고가       저가    액면가    통화구분    상장주식수(주)  \\\n",
       "0    267,747,005    2,205    2,205    2,150    500  원(KRW)  44,802,511   \n",
       "1  1,912,455,300    7,880    8,220    7,810    500  원(KRW)  20,394,221   \n",
       "2  2,594,868,600   24,300   24,300   23,800    500  원(KRW)  14,480,227   \n",
       "3    374,020,120    6,980    7,020    6,910    500  원(KRW)  15,014,804   \n",
       "4  6,551,114,400  136,700  136,900  135,300  5,000  원(KRW)  21,929,154   \n",
       "\n",
       "           상장시가총액(원)    총카운트  \n",
       "0     97,669,473,980  1463.0  \n",
       "1    167,028,669,990     NaN  \n",
       "2    348,973,470,700     NaN  \n",
       "3    104,653,183,880     NaN  \n",
       "4  2,991,136,605,600     NaN  "
      ],
      "text/html": "<div>\n<style scoped>\n    .dataframe tbody tr th:only-of-type {\n        vertical-align: middle;\n    }\n\n    .dataframe tbody tr th {\n        vertical-align: top;\n    }\n\n    .dataframe thead th {\n        text-align: right;\n    }\n</style>\n<table border=\"1\" class=\"dataframe\">\n  <thead>\n    <tr style=\"text-align: right;\">\n      <th></th>\n      <th>종목코드</th>\n      <th>종목명</th>\n      <th>현재가</th>\n      <th>대비</th>\n      <th>등락률(%)</th>\n      <th>매도호가</th>\n      <th>매수호가</th>\n      <th>거래량(주)</th>\n      <th>거래대금(원)</th>\n      <th>시가</th>\n      <th>고가</th>\n      <th>저가</th>\n      <th>액면가</th>\n      <th>통화구분</th>\n      <th>상장주식수(주)</th>\n      <th>상장시가총액(원)</th>\n      <th>총카운트</th>\n    </tr>\n  </thead>\n  <tbody>\n    <tr>\n      <th>0</th>\n      <td>060310</td>\n      <td>3S</td>\n      <td>2,180</td>\n      <td>-30</td>\n      <td>1.36</td>\n      <td>2,180</td>\n      <td>2,175</td>\n      <td>122,723</td>\n      <td>267,747,005</td>\n      <td>2,205</td>\n      <td>2,205</td>\n      <td>2,150</td>\n      <td>500</td>\n      <td>원(KRW)</td>\n      <td>44,802,511</td>\n      <td>97,669,473,980</td>\n      <td>1463.0</td>\n    </tr>\n    <tr>\n      <th>1</th>\n      <td>054620</td>\n      <td>APS홀딩스</td>\n      <td>8,190</td>\n      <td>310</td>\n      <td>3.93</td>\n      <td>8,200</td>\n      <td>8,190</td>\n      <td>236,442</td>\n      <td>1,912,455,300</td>\n      <td>7,880</td>\n      <td>8,220</td>\n      <td>7,810</td>\n      <td>500</td>\n      <td>원(KRW)</td>\n      <td>20,394,221</td>\n      <td>167,028,669,990</td>\n      <td>NaN</td>\n    </tr>\n    <tr>\n      <th>2</th>\n      <td>265520</td>\n      <td>AP시스템</td>\n      <td>24,100</td>\n      <td>-200</td>\n      <td>0.82</td>\n      <td>24,100</td>\n      <td>24,050</td>\n      <td>108,121</td>\n      <td>2,594,868,600</td>\n      <td>24,300</td>\n      <td>24,300</td>\n      <td>23,800</td>\n      <td>500</td>\n      <td>원(KRW)</td>\n      <td>14,480,227</td>\n      <td>348,973,470,700</td>\n      <td>NaN</td>\n    </tr>\n    <tr>\n      <th>3</th>\n      <td>211270</td>\n      <td>AP위성</td>\n      <td>6,970</td>\n      <td>-10</td>\n      <td>0.14</td>\n      <td>6,970</td>\n      <td>6,960</td>\n      <td>53,629</td>\n      <td>374,020,120</td>\n      <td>6,980</td>\n      <td>7,020</td>\n      <td>6,910</td>\n      <td>500</td>\n      <td>원(KRW)</td>\n      <td>15,014,804</td>\n      <td>104,653,183,880</td>\n      <td>NaN</td>\n    </tr>\n    <tr>\n      <th>4</th>\n      <td>035760</td>\n      <td>CJ ENM</td>\n      <td>136,400</td>\n      <td>-600</td>\n      <td>0.44</td>\n      <td>136,700</td>\n      <td>136,400</td>\n      <td>48,178</td>\n      <td>6,551,114,400</td>\n      <td>136,700</td>\n      <td>136,900</td>\n      <td>135,300</td>\n      <td>5,000</td>\n      <td>원(KRW)</td>\n      <td>21,929,154</td>\n      <td>2,991,136,605,600</td>\n      <td>NaN</td>\n    </tr>\n  </tbody>\n</table>\n</div>"
     },
     "metadata": {},
     "execution_count": 33
    }
   ],
   "source": [
    "kosdaq = pd.read_csv('kosdaq.csv')\n",
    "kosdaq.head()"
   ]
  },
  {
   "cell_type": "code",
   "execution_count": 34,
   "metadata": {},
   "outputs": [
    {
     "output_type": "execute_result",
     "data": {
      "text/plain": [
       "        종목코드     종목명      현재가    대비  등락률(%)     매도호가     매수호가   거래량(주)  \\\n",
       "0  060310.KQ      3S    2,180   -30    1.36    2,180    2,175  122,723   \n",
       "1  054620.KQ  APS홀딩스    8,190   310    3.93    8,200    8,190  236,442   \n",
       "2  265520.KQ   AP시스템   24,100  -200    0.82   24,100   24,050  108,121   \n",
       "3  211270.KQ    AP위성    6,970   -10    0.14    6,970    6,960   53,629   \n",
       "4  035760.KQ  CJ ENM  136,400  -600    0.44  136,700  136,400   48,178   \n",
       "\n",
       "         거래대금(원)       시가       고가       저가    액면가    통화구분    상장주식수(주)  \\\n",
       "0    267,747,005    2,205    2,205    2,150    500  원(KRW)  44,802,511   \n",
       "1  1,912,455,300    7,880    8,220    7,810    500  원(KRW)  20,394,221   \n",
       "2  2,594,868,600   24,300   24,300   23,800    500  원(KRW)  14,480,227   \n",
       "3    374,020,120    6,980    7,020    6,910    500  원(KRW)  15,014,804   \n",
       "4  6,551,114,400  136,700  136,900  135,300  5,000  원(KRW)  21,929,154   \n",
       "\n",
       "           상장시가총액(원)    총카운트  \n",
       "0     97,669,473,980  1463.0  \n",
       "1    167,028,669,990     NaN  \n",
       "2    348,973,470,700     NaN  \n",
       "3    104,653,183,880     NaN  \n",
       "4  2,991,136,605,600     NaN  "
      ],
      "text/html": "<div>\n<style scoped>\n    .dataframe tbody tr th:only-of-type {\n        vertical-align: middle;\n    }\n\n    .dataframe tbody tr th {\n        vertical-align: top;\n    }\n\n    .dataframe thead th {\n        text-align: right;\n    }\n</style>\n<table border=\"1\" class=\"dataframe\">\n  <thead>\n    <tr style=\"text-align: right;\">\n      <th></th>\n      <th>종목코드</th>\n      <th>종목명</th>\n      <th>현재가</th>\n      <th>대비</th>\n      <th>등락률(%)</th>\n      <th>매도호가</th>\n      <th>매수호가</th>\n      <th>거래량(주)</th>\n      <th>거래대금(원)</th>\n      <th>시가</th>\n      <th>고가</th>\n      <th>저가</th>\n      <th>액면가</th>\n      <th>통화구분</th>\n      <th>상장주식수(주)</th>\n      <th>상장시가총액(원)</th>\n      <th>총카운트</th>\n    </tr>\n  </thead>\n  <tbody>\n    <tr>\n      <th>0</th>\n      <td>060310.KQ</td>\n      <td>3S</td>\n      <td>2,180</td>\n      <td>-30</td>\n      <td>1.36</td>\n      <td>2,180</td>\n      <td>2,175</td>\n      <td>122,723</td>\n      <td>267,747,005</td>\n      <td>2,205</td>\n      <td>2,205</td>\n      <td>2,150</td>\n      <td>500</td>\n      <td>원(KRW)</td>\n      <td>44,802,511</td>\n      <td>97,669,473,980</td>\n      <td>1463.0</td>\n    </tr>\n    <tr>\n      <th>1</th>\n      <td>054620.KQ</td>\n      <td>APS홀딩스</td>\n      <td>8,190</td>\n      <td>310</td>\n      <td>3.93</td>\n      <td>8,200</td>\n      <td>8,190</td>\n      <td>236,442</td>\n      <td>1,912,455,300</td>\n      <td>7,880</td>\n      <td>8,220</td>\n      <td>7,810</td>\n      <td>500</td>\n      <td>원(KRW)</td>\n      <td>20,394,221</td>\n      <td>167,028,669,990</td>\n      <td>NaN</td>\n    </tr>\n    <tr>\n      <th>2</th>\n      <td>265520.KQ</td>\n      <td>AP시스템</td>\n      <td>24,100</td>\n      <td>-200</td>\n      <td>0.82</td>\n      <td>24,100</td>\n      <td>24,050</td>\n      <td>108,121</td>\n      <td>2,594,868,600</td>\n      <td>24,300</td>\n      <td>24,300</td>\n      <td>23,800</td>\n      <td>500</td>\n      <td>원(KRW)</td>\n      <td>14,480,227</td>\n      <td>348,973,470,700</td>\n      <td>NaN</td>\n    </tr>\n    <tr>\n      <th>3</th>\n      <td>211270.KQ</td>\n      <td>AP위성</td>\n      <td>6,970</td>\n      <td>-10</td>\n      <td>0.14</td>\n      <td>6,970</td>\n      <td>6,960</td>\n      <td>53,629</td>\n      <td>374,020,120</td>\n      <td>6,980</td>\n      <td>7,020</td>\n      <td>6,910</td>\n      <td>500</td>\n      <td>원(KRW)</td>\n      <td>15,014,804</td>\n      <td>104,653,183,880</td>\n      <td>NaN</td>\n    </tr>\n    <tr>\n      <th>4</th>\n      <td>035760.KQ</td>\n      <td>CJ ENM</td>\n      <td>136,400</td>\n      <td>-600</td>\n      <td>0.44</td>\n      <td>136,700</td>\n      <td>136,400</td>\n      <td>48,178</td>\n      <td>6,551,114,400</td>\n      <td>136,700</td>\n      <td>136,900</td>\n      <td>135,300</td>\n      <td>5,000</td>\n      <td>원(KRW)</td>\n      <td>21,929,154</td>\n      <td>2,991,136,605,600</td>\n      <td>NaN</td>\n    </tr>\n  </tbody>\n</table>\n</div>"
     },
     "metadata": {},
     "execution_count": 34
    }
   ],
   "source": [
    "kosdaq['종목코드'] =  kosdaq['종목코드'] + '.KQ'\n",
    "kosdaq.head()"
   ]
  },
  {
   "cell_type": "code",
   "execution_count": 35,
   "metadata": {},
   "outputs": [
    {
     "output_type": "execute_result",
     "data": {
      "text/plain": [
       "        종목코드     종목명\n",
       "0  060310.KQ      3S\n",
       "1  054620.KQ  APS홀딩스\n",
       "2  265520.KQ   AP시스템\n",
       "3  211270.KQ    AP위성\n",
       "4  035760.KQ  CJ ENM"
      ],
      "text/html": "<div>\n<style scoped>\n    .dataframe tbody tr th:only-of-type {\n        vertical-align: middle;\n    }\n\n    .dataframe tbody tr th {\n        vertical-align: top;\n    }\n\n    .dataframe thead th {\n        text-align: right;\n    }\n</style>\n<table border=\"1\" class=\"dataframe\">\n  <thead>\n    <tr style=\"text-align: right;\">\n      <th></th>\n      <th>종목코드</th>\n      <th>종목명</th>\n    </tr>\n  </thead>\n  <tbody>\n    <tr>\n      <th>0</th>\n      <td>060310.KQ</td>\n      <td>3S</td>\n    </tr>\n    <tr>\n      <th>1</th>\n      <td>054620.KQ</td>\n      <td>APS홀딩스</td>\n    </tr>\n    <tr>\n      <th>2</th>\n      <td>265520.KQ</td>\n      <td>AP시스템</td>\n    </tr>\n    <tr>\n      <th>3</th>\n      <td>211270.KQ</td>\n      <td>AP위성</td>\n    </tr>\n    <tr>\n      <th>4</th>\n      <td>035760.KQ</td>\n      <td>CJ ENM</td>\n    </tr>\n  </tbody>\n</table>\n</div>"
     },
     "metadata": {},
     "execution_count": 35
    }
   ],
   "source": [
    "kosdaq = kosdaq[['종목코드','종목명']]\n",
    "kosdaq.head()"
   ]
  },
  {
   "cell_type": "code",
   "execution_count": 36,
   "metadata": {},
   "outputs": [],
   "source": [
    "df = pd.concat([kospi,kosdaq])"
   ]
  },
  {
   "cell_type": "code",
   "execution_count": 37,
   "metadata": {},
   "outputs": [
    {
     "output_type": "execute_result",
     "data": {
      "text/plain": [
       "412    005930.KS\n",
       "Name: 종목코드, dtype: object"
      ]
     },
     "metadata": {},
     "execution_count": 37
    }
   ],
   "source": [
    "df[df['종목명'] == '삼성전자']['종목코드']"
   ]
  },
  {
   "cell_type": "code",
   "execution_count": 39,
   "metadata": {},
   "outputs": [],
   "source": [
    "df.to_csv(\"result.csv\", encoding='utf-8', sep=',')"
   ]
  },
  {
   "cell_type": "code",
   "execution_count": 47,
   "metadata": {},
   "outputs": [],
   "source": [
    "df = pd.read_csv('result.csv',sep=',',  index_col=0)"
   ]
  },
  {
   "cell_type": "code",
   "execution_count": 48,
   "metadata": {},
   "outputs": [
    {
     "output_type": "execute_result",
     "data": {
      "text/plain": [
       "           종목코드      종목명\n",
       "0     095570.KS   AJ네트웍스\n",
       "1     006840.KS    AK홀딩스\n",
       "2     027410.KS      BGF\n",
       "3     282330.KS   BGF리테일\n",
       "4     138930.KS  BNK금융지주\n",
       "...         ...      ...\n",
       "1458  024060.KQ     흥구석유\n",
       "1459  010240.KQ       흥국\n",
       "1460  189980.KQ   흥국에프엔비\n",
       "1461  037440.KQ       희림\n",
       "1462  238490.KQ       힘스\n",
       "\n",
       "[2380 rows x 2 columns]"
      ],
      "text/html": "<div>\n<style scoped>\n    .dataframe tbody tr th:only-of-type {\n        vertical-align: middle;\n    }\n\n    .dataframe tbody tr th {\n        vertical-align: top;\n    }\n\n    .dataframe thead th {\n        text-align: right;\n    }\n</style>\n<table border=\"1\" class=\"dataframe\">\n  <thead>\n    <tr style=\"text-align: right;\">\n      <th></th>\n      <th>종목코드</th>\n      <th>종목명</th>\n    </tr>\n  </thead>\n  <tbody>\n    <tr>\n      <th>0</th>\n      <td>095570.KS</td>\n      <td>AJ네트웍스</td>\n    </tr>\n    <tr>\n      <th>1</th>\n      <td>006840.KS</td>\n      <td>AK홀딩스</td>\n    </tr>\n    <tr>\n      <th>2</th>\n      <td>027410.KS</td>\n      <td>BGF</td>\n    </tr>\n    <tr>\n      <th>3</th>\n      <td>282330.KS</td>\n      <td>BGF리테일</td>\n    </tr>\n    <tr>\n      <th>4</th>\n      <td>138930.KS</td>\n      <td>BNK금융지주</td>\n    </tr>\n    <tr>\n      <th>...</th>\n      <td>...</td>\n      <td>...</td>\n    </tr>\n    <tr>\n      <th>1458</th>\n      <td>024060.KQ</td>\n      <td>흥구석유</td>\n    </tr>\n    <tr>\n      <th>1459</th>\n      <td>010240.KQ</td>\n      <td>흥국</td>\n    </tr>\n    <tr>\n      <th>1460</th>\n      <td>189980.KQ</td>\n      <td>흥국에프엔비</td>\n    </tr>\n    <tr>\n      <th>1461</th>\n      <td>037440.KQ</td>\n      <td>희림</td>\n    </tr>\n    <tr>\n      <th>1462</th>\n      <td>238490.KQ</td>\n      <td>힘스</td>\n    </tr>\n  </tbody>\n</table>\n<p>2380 rows × 2 columns</p>\n</div>"
     },
     "metadata": {},
     "execution_count": 48
    }
   ],
   "source": [
    "df"
   ]
  },
  {
   "cell_type": "code",
   "execution_count": 49,
   "metadata": {},
   "outputs": [],
   "source": [
    "code = '삼성전자'\n",
    "code = df[df['종목명'] == code ]['종목코드']"
   ]
  },
  {
   "cell_type": "code",
   "execution_count": 70,
   "metadata": {},
   "outputs": [
    {
     "output_type": "execute_result",
     "data": {
      "text/plain": [
       "'005930.KS'"
      ]
     },
     "metadata": {},
     "execution_count": 70
    }
   ],
   "source": [
    "df['종목코드'][df['종목명'] == '삼성전자'].to_list()[0]"
   ]
  },
  {
   "cell_type": "code",
   "execution_count": 67,
   "metadata": {},
   "outputs": [
    {
     "output_type": "execute_result",
     "data": {
      "text/plain": [
       "'005930.KS'"
      ]
     },
     "metadata": {},
     "execution_count": 67
    }
   ],
   "source": [
    "a[412]"
   ]
  },
  {
   "cell_type": "code",
   "execution_count": null,
   "metadata": {},
   "outputs": [],
   "source": []
  }
 ]
}