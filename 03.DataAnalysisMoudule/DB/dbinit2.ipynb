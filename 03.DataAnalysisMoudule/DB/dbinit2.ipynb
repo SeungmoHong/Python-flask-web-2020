{
 "metadata": {
  "language_info": {
   "codemirror_mode": {
    "name": "ipython",
    "version": 3
   },
   "file_extension": ".py",
   "mimetype": "text/x-python",
   "name": "python",
   "nbconvert_exporter": "python",
   "pygments_lexer": "ipython3",
   "version": "3.8.5-final"
  },
  "orig_nbformat": 2,
  "kernelspec": {
   "name": "python3",
   "display_name": "Python 3",
   "language": "python"
  }
 },
 "nbformat": 4,
 "nbformat_minor": 2,
 "cells": [
  {
   "cell_type": "code",
   "execution_count": 2,
   "metadata": {},
   "outputs": [
    {
     "output_type": "execute_result",
     "data": {
      "text/plain": [
       "         date  서울  부산   대구  인천  대전  광주  울산  세종  경기  강원  충북  충남  경북  경남  전북  \\\n",
       "0  2020-03-01   0   0    0   0   0   0   0   0   0   0   0   0   0   0   0   \n",
       "1  2020-03-02  10   3  469   0   0   0   3   0   7   8   1  13  67   4   1   \n",
       "2  2020-03-03   0   0    0   0   0   0   0   0   0   0   0   0   0   0   0   \n",
       "3  2020-03-04   1   3  405   2   1   2   3   0   7   1   0   1  89   1   0   \n",
       "4  2020-03-05   4  -1  321   0   1   1   0   0   9   2   1   4  87   9   0   \n",
       "\n",
       "   전남  제주   합계  \n",
       "0   0   0    0  \n",
       "1   0   0  586  \n",
       "2   0   0    0  \n",
       "3   0   0  516  \n",
       "4  -1   1  438  "
      ],
      "text/html": "<div>\n<style scoped>\n    .dataframe tbody tr th:only-of-type {\n        vertical-align: middle;\n    }\n\n    .dataframe tbody tr th {\n        vertical-align: top;\n    }\n\n    .dataframe thead th {\n        text-align: right;\n    }\n</style>\n<table border=\"1\" class=\"dataframe\">\n  <thead>\n    <tr style=\"text-align: right;\">\n      <th></th>\n      <th>date</th>\n      <th>서울</th>\n      <th>부산</th>\n      <th>대구</th>\n      <th>인천</th>\n      <th>대전</th>\n      <th>광주</th>\n      <th>울산</th>\n      <th>세종</th>\n      <th>경기</th>\n      <th>강원</th>\n      <th>충북</th>\n      <th>충남</th>\n      <th>경북</th>\n      <th>경남</th>\n      <th>전북</th>\n      <th>전남</th>\n      <th>제주</th>\n      <th>합계</th>\n    </tr>\n  </thead>\n  <tbody>\n    <tr>\n      <th>0</th>\n      <td>2020-03-01</td>\n      <td>0</td>\n      <td>0</td>\n      <td>0</td>\n      <td>0</td>\n      <td>0</td>\n      <td>0</td>\n      <td>0</td>\n      <td>0</td>\n      <td>0</td>\n      <td>0</td>\n      <td>0</td>\n      <td>0</td>\n      <td>0</td>\n      <td>0</td>\n      <td>0</td>\n      <td>0</td>\n      <td>0</td>\n      <td>0</td>\n    </tr>\n    <tr>\n      <th>1</th>\n      <td>2020-03-02</td>\n      <td>10</td>\n      <td>3</td>\n      <td>469</td>\n      <td>0</td>\n      <td>0</td>\n      <td>0</td>\n      <td>3</td>\n      <td>0</td>\n      <td>7</td>\n      <td>8</td>\n      <td>1</td>\n      <td>13</td>\n      <td>67</td>\n      <td>4</td>\n      <td>1</td>\n      <td>0</td>\n      <td>0</td>\n      <td>586</td>\n    </tr>\n    <tr>\n      <th>2</th>\n      <td>2020-03-03</td>\n      <td>0</td>\n      <td>0</td>\n      <td>0</td>\n      <td>0</td>\n      <td>0</td>\n      <td>0</td>\n      <td>0</td>\n      <td>0</td>\n      <td>0</td>\n      <td>0</td>\n      <td>0</td>\n      <td>0</td>\n      <td>0</td>\n      <td>0</td>\n      <td>0</td>\n      <td>0</td>\n      <td>0</td>\n      <td>0</td>\n    </tr>\n    <tr>\n      <th>3</th>\n      <td>2020-03-04</td>\n      <td>1</td>\n      <td>3</td>\n      <td>405</td>\n      <td>2</td>\n      <td>1</td>\n      <td>2</td>\n      <td>3</td>\n      <td>0</td>\n      <td>7</td>\n      <td>1</td>\n      <td>0</td>\n      <td>1</td>\n      <td>89</td>\n      <td>1</td>\n      <td>0</td>\n      <td>0</td>\n      <td>0</td>\n      <td>516</td>\n    </tr>\n    <tr>\n      <th>4</th>\n      <td>2020-03-05</td>\n      <td>4</td>\n      <td>-1</td>\n      <td>321</td>\n      <td>0</td>\n      <td>1</td>\n      <td>1</td>\n      <td>0</td>\n      <td>0</td>\n      <td>9</td>\n      <td>2</td>\n      <td>1</td>\n      <td>4</td>\n      <td>87</td>\n      <td>9</td>\n      <td>0</td>\n      <td>-1</td>\n      <td>1</td>\n      <td>438</td>\n    </tr>\n  </tbody>\n</table>\n</div>"
     },
     "metadata": {},
     "execution_count": 2
    }
   ],
   "source": [
    "import sqlite3\n",
    "import pandas as pd\n",
    "covid = pd.read_csv('전국코로나일별.csv')\n",
    "covid.head()"
   ]
  },
  {
   "cell_type": "code",
   "execution_count": 4,
   "metadata": {},
   "outputs": [],
   "source": [
    "conn = sqlite3.connect('co2.db')\n",
    "cur = conn.cursor()"
   ]
  },
  {
   "cell_type": "code",
   "execution_count": null,
   "metadata": {},
   "outputs": [],
   "source": []
  }
 ]
}