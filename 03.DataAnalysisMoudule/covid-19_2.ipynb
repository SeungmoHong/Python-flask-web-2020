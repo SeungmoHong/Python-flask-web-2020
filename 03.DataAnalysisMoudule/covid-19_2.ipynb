{
 "metadata": {
  "language_info": {
   "codemirror_mode": {
    "name": "ipython",
    "version": 3
   },
   "file_extension": ".py",
   "mimetype": "text/x-python",
   "name": "python",
   "nbconvert_exporter": "python",
   "pygments_lexer": "ipython3",
   "version": "3.8.5-final"
  },
  "orig_nbformat": 2,
  "kernelspec": {
   "name": "python3",
   "display_name": "Python 3",
   "language": "python"
  }
 },
 "nbformat": 4,
 "nbformat_minor": 2,
 "cells": [
  {
   "cell_type": "code",
   "execution_count": 2,
   "metadata": {},
   "outputs": [],
   "source": [
    "# import\n",
    "import requests\n",
    "from urllib.parse import urlparse\n",
    "import urllib.parse\n",
    "import numpy as np\n",
    "import pandas as pd\n",
    "from bs4 import BeautifulSoup\n",
    "from datetime import datetime\n",
    "import re\n",
    "import seaborn as sns\n",
    "import json\n",
    "import folium\n",
    "import matplotlib as mpl\n",
    "import matplotlib.pyplot as plt\n",
    "%matplotlib inline\n",
    "mpl.rc('font', family='Malgun Gothic')\n",
    "mpl.rc('axes', unicode_minus=False)\n",
    "import sqlite3"
   ]
  },
  {
   "cell_type": "code",
   "execution_count": 3,
   "metadata": {},
   "outputs": [],
   "source": [
    "key_fd = open('./과제data/gov_data_api_key.txt', mode='r')\n",
    "govapi_key = key_fd.read(100)\n",
    "key_fd.close()"
   ]
  },
  {
   "cell_type": "code",
   "execution_count": 4,
   "metadata": {},
   "outputs": [],
   "source": [
    "start_date = '20200101'\n",
    "end_date = datetime.today().strftime(\"%Y%m%d\")"
   ]
  },
  {
   "source": [
    "### 시도발생현황"
   ],
   "cell_type": "markdown",
   "metadata": {}
  },
  {
   "cell_type": "code",
   "execution_count": 104,
   "metadata": {},
   "outputs": [],
   "source": [
    "corona_url = 'http://openapi.data.go.kr/openapi/service/rest/Covid19/getCovid19SidoInfStateJson'\n",
    "url = f'{corona_url}?ServiceKey={govapi_key}&pageNo=1&numOfRows=10&startCreateDt={start_date}&endCreateDt={end_date}'"
   ]
  },
  {
   "cell_type": "code",
   "execution_count": 105,
   "metadata": {},
   "outputs": [
    {
     "output_type": "execute_result",
     "data": {
      "text/plain": [
       "'00'"
      ]
     },
     "metadata": {},
     "execution_count": 105
    }
   ],
   "source": [
    "result = requests.get(url)\n",
    "soup = BeautifulSoup(result.text, 'xml')\n",
    "soup.find('resultCode').get_text()"
   ]
  },
  {
   "cell_type": "code",
   "execution_count": 106,
   "metadata": {},
   "outputs": [
    {
     "output_type": "execute_result",
     "data": {
      "text/plain": [
       "'http://openapi.data.go.kr/openapi/service/rest/Covid19/getCovid19SidoInfStateJson?ServiceKey=QdYry9tFcAehmt%2BH6Q2LYgChFxQ%2BMZu1oMldd711rMJLoU%2FNOZ61YLzvo01MFZJSElrRYZSRwyDwO6M7Bsmikw%3D%3D&pageNo=1&numOfRows=10&startCreateDt=20200101&endCreateDt=20201224'"
      ]
     },
     "metadata": {},
     "execution_count": 106
    }
   ],
   "source": [
    "url"
   ]
  },
  {
   "cell_type": "code",
   "execution_count": 107,
   "metadata": {},
   "outputs": [
    {
     "output_type": "execute_result",
     "data": {
      "text/plain": [
       "                         등록시간 사망자   확진자 광역시도 전일대비  격리해제  격리중 지역발생 해외유입  10만명당  \\\n",
       "0      2020-12-24 09:45:57.88   1  2381   검역   11  1661  719    0   11      -   \n",
       "1      2020-12-24 09:45:57.88   0   330   제주   26   116  214   26    0  49.20   \n",
       "2     2020-12-24 09:45:57.879   3  1145   경남   21   811  331   21    0  34.06   \n",
       "3     2020-12-24 09:45:57.879  61  2169   경북   50  1742  366   50    0  81.46   \n",
       "4     2020-12-24 09:45:57.879   5   527   전남    2   450   72    2    0  28.26   \n",
       "...                       ...  ..   ...  ...  ...   ...  ...  ...  ...    ...   \n",
       "5947   2020-03-02 19:27:57.57   0     0   인천    0                        None   \n",
       "5948   2020-03-02 19:27:57.57   9     0   대구  469                        None   \n",
       "5949   2020-03-02 19:27:57.57   0     0   부산    3                        None   \n",
       "5950   2020-03-02 19:27:57.57   0     0   서울   10                        None   \n",
       "5951   2020-03-02 19:27:57.57  18     0   합계  586                        None   \n",
       "\n",
       "                   기준시간  수정시간   seq  \n",
       "0     2020년 12월 24일 00시  null  6600  \n",
       "1     2020년 12월 24일 00시  null  6599  \n",
       "2     2020년 12월 24일 00시  null  6598  \n",
       "3     2020년 12월 24일 00시  null  6597  \n",
       "4     2020년 12월 24일 00시  null  6596  \n",
       "...                 ...   ...   ...  \n",
       "5947    2020년 3월 1일 16시  None     5  \n",
       "5948    2020년 3월 1일 16시  None     4  \n",
       "5949    2020년 3월 1일 16시  None     3  \n",
       "5950    2020년 3월 1일 16시  None     2  \n",
       "5951    2020년 3월 1일 16시  None     1  \n",
       "\n",
       "[5952 rows x 13 columns]"
      ],
      "text/html": "<div>\n<style scoped>\n    .dataframe tbody tr th:only-of-type {\n        vertical-align: middle;\n    }\n\n    .dataframe tbody tr th {\n        vertical-align: top;\n    }\n\n    .dataframe thead th {\n        text-align: right;\n    }\n</style>\n<table border=\"1\" class=\"dataframe\">\n  <thead>\n    <tr style=\"text-align: right;\">\n      <th></th>\n      <th>등록시간</th>\n      <th>사망자</th>\n      <th>확진자</th>\n      <th>광역시도</th>\n      <th>전일대비</th>\n      <th>격리해제</th>\n      <th>격리중</th>\n      <th>지역발생</th>\n      <th>해외유입</th>\n      <th>10만명당</th>\n      <th>기준시간</th>\n      <th>수정시간</th>\n      <th>seq</th>\n    </tr>\n  </thead>\n  <tbody>\n    <tr>\n      <th>0</th>\n      <td>2020-12-24 09:45:57.88</td>\n      <td>1</td>\n      <td>2381</td>\n      <td>검역</td>\n      <td>11</td>\n      <td>1661</td>\n      <td>719</td>\n      <td>0</td>\n      <td>11</td>\n      <td>-</td>\n      <td>2020년 12월 24일 00시</td>\n      <td>null</td>\n      <td>6600</td>\n    </tr>\n    <tr>\n      <th>1</th>\n      <td>2020-12-24 09:45:57.88</td>\n      <td>0</td>\n      <td>330</td>\n      <td>제주</td>\n      <td>26</td>\n      <td>116</td>\n      <td>214</td>\n      <td>26</td>\n      <td>0</td>\n      <td>49.20</td>\n      <td>2020년 12월 24일 00시</td>\n      <td>null</td>\n      <td>6599</td>\n    </tr>\n    <tr>\n      <th>2</th>\n      <td>2020-12-24 09:45:57.879</td>\n      <td>3</td>\n      <td>1145</td>\n      <td>경남</td>\n      <td>21</td>\n      <td>811</td>\n      <td>331</td>\n      <td>21</td>\n      <td>0</td>\n      <td>34.06</td>\n      <td>2020년 12월 24일 00시</td>\n      <td>null</td>\n      <td>6598</td>\n    </tr>\n    <tr>\n      <th>3</th>\n      <td>2020-12-24 09:45:57.879</td>\n      <td>61</td>\n      <td>2169</td>\n      <td>경북</td>\n      <td>50</td>\n      <td>1742</td>\n      <td>366</td>\n      <td>50</td>\n      <td>0</td>\n      <td>81.46</td>\n      <td>2020년 12월 24일 00시</td>\n      <td>null</td>\n      <td>6597</td>\n    </tr>\n    <tr>\n      <th>4</th>\n      <td>2020-12-24 09:45:57.879</td>\n      <td>5</td>\n      <td>527</td>\n      <td>전남</td>\n      <td>2</td>\n      <td>450</td>\n      <td>72</td>\n      <td>2</td>\n      <td>0</td>\n      <td>28.26</td>\n      <td>2020년 12월 24일 00시</td>\n      <td>null</td>\n      <td>6596</td>\n    </tr>\n    <tr>\n      <th>...</th>\n      <td>...</td>\n      <td>...</td>\n      <td>...</td>\n      <td>...</td>\n      <td>...</td>\n      <td>...</td>\n      <td>...</td>\n      <td>...</td>\n      <td>...</td>\n      <td>...</td>\n      <td>...</td>\n      <td>...</td>\n      <td>...</td>\n    </tr>\n    <tr>\n      <th>5947</th>\n      <td>2020-03-02 19:27:57.57</td>\n      <td>0</td>\n      <td>0</td>\n      <td>인천</td>\n      <td>0</td>\n      <td></td>\n      <td></td>\n      <td></td>\n      <td></td>\n      <td>None</td>\n      <td>2020년 3월 1일 16시</td>\n      <td>None</td>\n      <td>5</td>\n    </tr>\n    <tr>\n      <th>5948</th>\n      <td>2020-03-02 19:27:57.57</td>\n      <td>9</td>\n      <td>0</td>\n      <td>대구</td>\n      <td>469</td>\n      <td></td>\n      <td></td>\n      <td></td>\n      <td></td>\n      <td>None</td>\n      <td>2020년 3월 1일 16시</td>\n      <td>None</td>\n      <td>4</td>\n    </tr>\n    <tr>\n      <th>5949</th>\n      <td>2020-03-02 19:27:57.57</td>\n      <td>0</td>\n      <td>0</td>\n      <td>부산</td>\n      <td>3</td>\n      <td></td>\n      <td></td>\n      <td></td>\n      <td></td>\n      <td>None</td>\n      <td>2020년 3월 1일 16시</td>\n      <td>None</td>\n      <td>3</td>\n    </tr>\n    <tr>\n      <th>5950</th>\n      <td>2020-03-02 19:27:57.57</td>\n      <td>0</td>\n      <td>0</td>\n      <td>서울</td>\n      <td>10</td>\n      <td></td>\n      <td></td>\n      <td></td>\n      <td></td>\n      <td>None</td>\n      <td>2020년 3월 1일 16시</td>\n      <td>None</td>\n      <td>2</td>\n    </tr>\n    <tr>\n      <th>5951</th>\n      <td>2020-03-02 19:27:57.57</td>\n      <td>18</td>\n      <td>0</td>\n      <td>합계</td>\n      <td>586</td>\n      <td></td>\n      <td></td>\n      <td></td>\n      <td></td>\n      <td>None</td>\n      <td>2020년 3월 1일 16시</td>\n      <td>None</td>\n      <td>1</td>\n    </tr>\n  </tbody>\n</table>\n<p>5952 rows × 13 columns</p>\n</div>"
     },
     "metadata": {},
     "execution_count": 107
    }
   ],
   "source": [
    "createDt_list,deathCnt_list,defCnt_list,gubun_list,incDec_list = [],[],[],[],[]\n",
    "isolClearCnt_list,isolIngCnt_list,localOccCnt_list,overFlowCnt_list = [],[],[],[]\n",
    "seq_list,qurRate_list,stdDay_list,updateDt_list = [],[],[],[]\n",
    "items = soup.find_all('item')\n",
    "for item in items:\n",
    "    createDt_list.append(item.find('createDt').string if item.find('createDt') else '')\n",
    "    deathCnt_list.append(item.find('deathCnt').string if item.find('deathCnt') else '')\n",
    "    defCnt_list.append(item.find('defCnt').string if item.find('defCnt') else 0)\n",
    "    gubun_list.append(item.find('gubun').string if item.find('gubun') else '')\n",
    "    incDec_list.append(item.find('incDec').string if item.find('incDec') else '')\n",
    "    isolClearCnt_list.append(item.find('isolClearCnt').string if item.find('isolClearCnt') else '')\n",
    "    isolIngCnt_list.append(item.find('isolIngCnt').string if item.find('isolIngCnt') else '')\n",
    "    localOccCnt_list.append(item.find('localOccCnt').string if item.find('localOccCnt') else '')\n",
    "    overFlowCnt_list.append(item.find('overFlowCnt').string if item.find('overFlowCnt') else '')\n",
    "    qurRate_list.append(item.find('qurRate').string if item.find('qurRate') else '')\n",
    "    stdDay_list.append(item.find('stdDay').string if item.find('stdDay') else '')\n",
    "    updateDt_list.append(item.find('updateDt').string if item.find('updateDt') else '')\n",
    "    seq_list.append(item.find('seq').string)\n",
    "\n",
    "df = pd.DataFrame({\n",
    "    '등록시간':createDt_list, '사망자':deathCnt_list, '확진자':defCnt_list,\n",
    "    '광역시도':gubun_list, '전일대비':incDec_list, '격리해제':isolClearCnt_list, \n",
    "    '격리중':isolIngCnt_list, '지역발생':localOccCnt_list,'해외유입':overFlowCnt_list,\n",
    "    '10만명당':qurRate_list, '기준시간':stdDay_list, '수정시간':updateDt_list, 'seq' : seq_list\n",
    "})\n",
    "df\n"
   ]
  },
  {
   "cell_type": "code",
   "execution_count": 108,
   "metadata": {},
   "outputs": [],
   "source": [
    "df = df[['기준시간', '광역시도', '확진자', '사망자', '전일대비', '격리해제', '격리중', '지역발생', '해외유입', '10만명당','seq']]"
   ]
  },
  {
   "cell_type": "code",
   "execution_count": 109,
   "metadata": {},
   "outputs": [
    {
     "output_type": "stream",
     "name": "stdout",
     "text": [
      "<class 'pandas.core.frame.DataFrame'>\nRangeIndex: 5952 entries, 0 to 5951\nData columns (total 11 columns):\n #   Column  Non-Null Count  Dtype \n---  ------  --------------  ----- \n 0   기준시간    5952 non-null   object\n 1   광역시도    5952 non-null   object\n 2   확진자     5952 non-null   object\n 3   사망자     5952 non-null   object\n 4   전일대비    5952 non-null   object\n 5   격리해제    5952 non-null   object\n 6   격리중     5952 non-null   object\n 7   지역발생    5952 non-null   object\n 8   해외유입    5952 non-null   object\n 9   10만명당   5933 non-null   object\n 10  seq     5952 non-null   object\ndtypes: object(11)\nmemory usage: 511.6+ KB\n"
     ]
    }
   ],
   "source": [
    "df.info()"
   ]
  },
  {
   "cell_type": "code",
   "execution_count": 110,
   "metadata": {},
   "outputs": [],
   "source": [
    "df['일자'] = df['기준시간'].apply(lambda r : r.split('일')[0].replace('년 ','-').replace('월 ','-'))"
   ]
  },
  {
   "cell_type": "code",
   "execution_count": 111,
   "metadata": {},
   "outputs": [
    {
     "output_type": "execute_result",
     "data": {
      "text/plain": [
       "0       2020-12-24\n",
       "1       2020-12-24\n",
       "2       2020-12-24\n",
       "3       2020-12-24\n",
       "4       2020-12-24\n",
       "           ...    \n",
       "5947      2020-3-1\n",
       "5948      2020-3-1\n",
       "5949      2020-3-1\n",
       "5950      2020-3-1\n",
       "5951      2020-3-1\n",
       "Name: 일자, Length: 5952, dtype: object"
      ]
     },
     "metadata": {},
     "execution_count": 111
    }
   ],
   "source": [
    "df['일자']"
   ]
  },
  {
   "cell_type": "code",
   "execution_count": 112,
   "metadata": {},
   "outputs": [],
   "source": [
    "df['일자'] = pd.to_datetime(df['일자']) "
   ]
  },
  {
   "cell_type": "code",
   "execution_count": 113,
   "metadata": {},
   "outputs": [],
   "source": [
    "df['일자2'] = df['일자'].astype(str)"
   ]
  },
  {
   "cell_type": "code",
   "execution_count": 114,
   "metadata": {},
   "outputs": [
    {
     "output_type": "stream",
     "name": "stdout",
     "text": [
      "<class 'pandas.core.frame.DataFrame'>\nRangeIndex: 5952 entries, 0 to 5951\nData columns (total 13 columns):\n #   Column  Non-Null Count  Dtype         \n---  ------  --------------  -----         \n 0   기준시간    5952 non-null   object        \n 1   광역시도    5952 non-null   object        \n 2   확진자     5952 non-null   object        \n 3   사망자     5952 non-null   object        \n 4   전일대비    5952 non-null   object        \n 5   격리해제    5952 non-null   object        \n 6   격리중     5952 non-null   object        \n 7   지역발생    5952 non-null   object        \n 8   해외유입    5952 non-null   object        \n 9   10만명당   5933 non-null   object        \n 10  seq     5952 non-null   object        \n 11  일자      5952 non-null   datetime64[ns]\n 12  일자2     5952 non-null   object        \ndtypes: datetime64[ns](1), object(12)\nmemory usage: 604.6+ KB\n"
     ]
    }
   ],
   "source": [
    "df.info()"
   ]
  },
  {
   "cell_type": "code",
   "execution_count": 115,
   "metadata": {},
   "outputs": [],
   "source": [
    "for i in df['seq'].unique():\n",
    "    if len(df[df['seq'] == i]) > 1 :\n",
    "        x = df[df['seq'] == i][1:].index\n",
    "        for k in x :\n",
    "            df.drop(k, inplace=True)"
   ]
  },
  {
   "cell_type": "code",
   "execution_count": 116,
   "metadata": {},
   "outputs": [],
   "source": [
    "for i in df['일자2'].unique():\n",
    "    if len(df[df['일자2'] == i]) > 20:\n",
    "        x = df[df['일자2'] == i].tail(len(df[df['일자2'] == i]) - 19).index\n",
    "        for k in x:\n",
    "            df.drop(k, inplace=True)"
   ]
  },
  {
   "cell_type": "code",
   "execution_count": 117,
   "metadata": {},
   "outputs": [
    {
     "output_type": "execute_result",
     "data": {
      "text/plain": [
       "                  기준시간 광역시도    확진자  사망자 전일대비   격리해제    격리중 지역발생 해외유입   10만명당  \\\n",
       "138  2020년 12월 21일 00시   검역   2343    1   10   1658    684    0   10       -   \n",
       "139  2020년 12월 21일 00시   제주    252    0   23    102    150   23    0   18.93   \n",
       "141  2020년 12월 21일 00시   경남   1077    3   15    748    326   15    0   26.36   \n",
       "143  2020년 12월 21일 00시   경북   2035   61   48   1715    259   48    0   70.05   \n",
       "145  2020년 12월 21일 00시   전남    508    5    9    418     85    8    1   25.79   \n",
       "147  2020년 12월 21일 00시   전북    688    7   13    441    240   11    2   28.67   \n",
       "149  2020년 12월 21일 00시   충남   1288   18   16    950    320   16    0   54.47   \n",
       "151  2020년 12월 21일 00시   충북    803   13   33    424    366   29    4   36.26   \n",
       "153  2020년 12월 21일 00시   강원    976   13   25    692    271   22    3   54.14   \n",
       "155  2020년 12월 21일 00시   경기  11946  173  244   8235   3538  237    7   77.36   \n",
       "157  2020년 12월 21일 00시   세종    129    0    0    121      8    0    0   37.39   \n",
       "159  2020년 12월 21일 00시   울산    562   16   17    280    266   17    0   42.11   \n",
       "161  2020년 12월 21일 00시   대전    699    6    3    568    125    3    0   44.57   \n",
       "163  2020년 12월 21일 00시   광주    879    3   13    751    125   11    2   56.77   \n",
       "165  2020년 12월 21일 00시   인천   2336   15   88   1591    730   85    3   65.36   \n",
       "167  2020년 12월 21일 00시   대구   7518  200   21   7082    236   21    0  303.06   \n",
       "169  2020년 12월 21일 00시   부산   1513   28   20   1009    476   19    1   38.01   \n",
       "171  2020년 12월 21일 00시   서울  15039  136  328   8370   6533  327    1  130.04   \n",
       "173  2020년 12월 21일 00시   합계  50591  698  926  35155  14738  892   34  154.51   \n",
       "\n",
       "      seq         일자         일자2  \n",
       "138  6467 2020-12-21  2020-12-21  \n",
       "139  6466 2020-12-21  2020-12-21  \n",
       "141  6465 2020-12-21  2020-12-21  \n",
       "143  6464 2020-12-21  2020-12-21  \n",
       "145  6463 2020-12-21  2020-12-21  \n",
       "147  6462 2020-12-21  2020-12-21  \n",
       "149  6461 2020-12-21  2020-12-21  \n",
       "151  6460 2020-12-21  2020-12-21  \n",
       "153  6459 2020-12-21  2020-12-21  \n",
       "155  6458 2020-12-21  2020-12-21  \n",
       "157  6457 2020-12-21  2020-12-21  \n",
       "159  6456 2020-12-21  2020-12-21  \n",
       "161  6455 2020-12-21  2020-12-21  \n",
       "163  6454 2020-12-21  2020-12-21  \n",
       "165  6453 2020-12-21  2020-12-21  \n",
       "167  6452 2020-12-21  2020-12-21  \n",
       "169  6451 2020-12-21  2020-12-21  \n",
       "171  6450 2020-12-21  2020-12-21  \n",
       "173  6449 2020-12-21  2020-12-21  "
      ],
      "text/html": "<div>\n<style scoped>\n    .dataframe tbody tr th:only-of-type {\n        vertical-align: middle;\n    }\n\n    .dataframe tbody tr th {\n        vertical-align: top;\n    }\n\n    .dataframe thead th {\n        text-align: right;\n    }\n</style>\n<table border=\"1\" class=\"dataframe\">\n  <thead>\n    <tr style=\"text-align: right;\">\n      <th></th>\n      <th>기준시간</th>\n      <th>광역시도</th>\n      <th>확진자</th>\n      <th>사망자</th>\n      <th>전일대비</th>\n      <th>격리해제</th>\n      <th>격리중</th>\n      <th>지역발생</th>\n      <th>해외유입</th>\n      <th>10만명당</th>\n      <th>seq</th>\n      <th>일자</th>\n      <th>일자2</th>\n    </tr>\n  </thead>\n  <tbody>\n    <tr>\n      <th>138</th>\n      <td>2020년 12월 21일 00시</td>\n      <td>검역</td>\n      <td>2343</td>\n      <td>1</td>\n      <td>10</td>\n      <td>1658</td>\n      <td>684</td>\n      <td>0</td>\n      <td>10</td>\n      <td>-</td>\n      <td>6467</td>\n      <td>2020-12-21</td>\n      <td>2020-12-21</td>\n    </tr>\n    <tr>\n      <th>139</th>\n      <td>2020년 12월 21일 00시</td>\n      <td>제주</td>\n      <td>252</td>\n      <td>0</td>\n      <td>23</td>\n      <td>102</td>\n      <td>150</td>\n      <td>23</td>\n      <td>0</td>\n      <td>18.93</td>\n      <td>6466</td>\n      <td>2020-12-21</td>\n      <td>2020-12-21</td>\n    </tr>\n    <tr>\n      <th>141</th>\n      <td>2020년 12월 21일 00시</td>\n      <td>경남</td>\n      <td>1077</td>\n      <td>3</td>\n      <td>15</td>\n      <td>748</td>\n      <td>326</td>\n      <td>15</td>\n      <td>0</td>\n      <td>26.36</td>\n      <td>6465</td>\n      <td>2020-12-21</td>\n      <td>2020-12-21</td>\n    </tr>\n    <tr>\n      <th>143</th>\n      <td>2020년 12월 21일 00시</td>\n      <td>경북</td>\n      <td>2035</td>\n      <td>61</td>\n      <td>48</td>\n      <td>1715</td>\n      <td>259</td>\n      <td>48</td>\n      <td>0</td>\n      <td>70.05</td>\n      <td>6464</td>\n      <td>2020-12-21</td>\n      <td>2020-12-21</td>\n    </tr>\n    <tr>\n      <th>145</th>\n      <td>2020년 12월 21일 00시</td>\n      <td>전남</td>\n      <td>508</td>\n      <td>5</td>\n      <td>9</td>\n      <td>418</td>\n      <td>85</td>\n      <td>8</td>\n      <td>1</td>\n      <td>25.79</td>\n      <td>6463</td>\n      <td>2020-12-21</td>\n      <td>2020-12-21</td>\n    </tr>\n    <tr>\n      <th>147</th>\n      <td>2020년 12월 21일 00시</td>\n      <td>전북</td>\n      <td>688</td>\n      <td>7</td>\n      <td>13</td>\n      <td>441</td>\n      <td>240</td>\n      <td>11</td>\n      <td>2</td>\n      <td>28.67</td>\n      <td>6462</td>\n      <td>2020-12-21</td>\n      <td>2020-12-21</td>\n    </tr>\n    <tr>\n      <th>149</th>\n      <td>2020년 12월 21일 00시</td>\n      <td>충남</td>\n      <td>1288</td>\n      <td>18</td>\n      <td>16</td>\n      <td>950</td>\n      <td>320</td>\n      <td>16</td>\n      <td>0</td>\n      <td>54.47</td>\n      <td>6461</td>\n      <td>2020-12-21</td>\n      <td>2020-12-21</td>\n    </tr>\n    <tr>\n      <th>151</th>\n      <td>2020년 12월 21일 00시</td>\n      <td>충북</td>\n      <td>803</td>\n      <td>13</td>\n      <td>33</td>\n      <td>424</td>\n      <td>366</td>\n      <td>29</td>\n      <td>4</td>\n      <td>36.26</td>\n      <td>6460</td>\n      <td>2020-12-21</td>\n      <td>2020-12-21</td>\n    </tr>\n    <tr>\n      <th>153</th>\n      <td>2020년 12월 21일 00시</td>\n      <td>강원</td>\n      <td>976</td>\n      <td>13</td>\n      <td>25</td>\n      <td>692</td>\n      <td>271</td>\n      <td>22</td>\n      <td>3</td>\n      <td>54.14</td>\n      <td>6459</td>\n      <td>2020-12-21</td>\n      <td>2020-12-21</td>\n    </tr>\n    <tr>\n      <th>155</th>\n      <td>2020년 12월 21일 00시</td>\n      <td>경기</td>\n      <td>11946</td>\n      <td>173</td>\n      <td>244</td>\n      <td>8235</td>\n      <td>3538</td>\n      <td>237</td>\n      <td>7</td>\n      <td>77.36</td>\n      <td>6458</td>\n      <td>2020-12-21</td>\n      <td>2020-12-21</td>\n    </tr>\n    <tr>\n      <th>157</th>\n      <td>2020년 12월 21일 00시</td>\n      <td>세종</td>\n      <td>129</td>\n      <td>0</td>\n      <td>0</td>\n      <td>121</td>\n      <td>8</td>\n      <td>0</td>\n      <td>0</td>\n      <td>37.39</td>\n      <td>6457</td>\n      <td>2020-12-21</td>\n      <td>2020-12-21</td>\n    </tr>\n    <tr>\n      <th>159</th>\n      <td>2020년 12월 21일 00시</td>\n      <td>울산</td>\n      <td>562</td>\n      <td>16</td>\n      <td>17</td>\n      <td>280</td>\n      <td>266</td>\n      <td>17</td>\n      <td>0</td>\n      <td>42.11</td>\n      <td>6456</td>\n      <td>2020-12-21</td>\n      <td>2020-12-21</td>\n    </tr>\n    <tr>\n      <th>161</th>\n      <td>2020년 12월 21일 00시</td>\n      <td>대전</td>\n      <td>699</td>\n      <td>6</td>\n      <td>3</td>\n      <td>568</td>\n      <td>125</td>\n      <td>3</td>\n      <td>0</td>\n      <td>44.57</td>\n      <td>6455</td>\n      <td>2020-12-21</td>\n      <td>2020-12-21</td>\n    </tr>\n    <tr>\n      <th>163</th>\n      <td>2020년 12월 21일 00시</td>\n      <td>광주</td>\n      <td>879</td>\n      <td>3</td>\n      <td>13</td>\n      <td>751</td>\n      <td>125</td>\n      <td>11</td>\n      <td>2</td>\n      <td>56.77</td>\n      <td>6454</td>\n      <td>2020-12-21</td>\n      <td>2020-12-21</td>\n    </tr>\n    <tr>\n      <th>165</th>\n      <td>2020년 12월 21일 00시</td>\n      <td>인천</td>\n      <td>2336</td>\n      <td>15</td>\n      <td>88</td>\n      <td>1591</td>\n      <td>730</td>\n      <td>85</td>\n      <td>3</td>\n      <td>65.36</td>\n      <td>6453</td>\n      <td>2020-12-21</td>\n      <td>2020-12-21</td>\n    </tr>\n    <tr>\n      <th>167</th>\n      <td>2020년 12월 21일 00시</td>\n      <td>대구</td>\n      <td>7518</td>\n      <td>200</td>\n      <td>21</td>\n      <td>7082</td>\n      <td>236</td>\n      <td>21</td>\n      <td>0</td>\n      <td>303.06</td>\n      <td>6452</td>\n      <td>2020-12-21</td>\n      <td>2020-12-21</td>\n    </tr>\n    <tr>\n      <th>169</th>\n      <td>2020년 12월 21일 00시</td>\n      <td>부산</td>\n      <td>1513</td>\n      <td>28</td>\n      <td>20</td>\n      <td>1009</td>\n      <td>476</td>\n      <td>19</td>\n      <td>1</td>\n      <td>38.01</td>\n      <td>6451</td>\n      <td>2020-12-21</td>\n      <td>2020-12-21</td>\n    </tr>\n    <tr>\n      <th>171</th>\n      <td>2020년 12월 21일 00시</td>\n      <td>서울</td>\n      <td>15039</td>\n      <td>136</td>\n      <td>328</td>\n      <td>8370</td>\n      <td>6533</td>\n      <td>327</td>\n      <td>1</td>\n      <td>130.04</td>\n      <td>6450</td>\n      <td>2020-12-21</td>\n      <td>2020-12-21</td>\n    </tr>\n    <tr>\n      <th>173</th>\n      <td>2020년 12월 21일 00시</td>\n      <td>합계</td>\n      <td>50591</td>\n      <td>698</td>\n      <td>926</td>\n      <td>35155</td>\n      <td>14738</td>\n      <td>892</td>\n      <td>34</td>\n      <td>154.51</td>\n      <td>6449</td>\n      <td>2020-12-21</td>\n      <td>2020-12-21</td>\n    </tr>\n  </tbody>\n</table>\n</div>"
     },
     "metadata": {},
     "execution_count": 117
    }
   ],
   "source": [
    "df[df['일자2'] == '2020-12-21']"
   ]
  },
  {
   "cell_type": "code",
   "execution_count": 118,
   "metadata": {},
   "outputs": [
    {
     "output_type": "execute_result",
     "data": {
      "text/plain": [
       "19"
      ]
     },
     "metadata": {},
     "execution_count": 118
    }
   ],
   "source": [
    "len(df[df['일자2'] == '2020-12-17'])"
   ]
  },
  {
   "cell_type": "code",
   "execution_count": 119,
   "metadata": {},
   "outputs": [
    {
     "output_type": "execute_result",
     "data": {
      "text/plain": [
       "                기준시간 광역시도   확진자 사망자 전일대비  격리해제  격리중 지역발생 해외유입  10만명당   seq  \\\n",
       "0  2020년 12월 24일 00시   검역  2381   1   11  1661  719    0   11      -  6600   \n",
       "1  2020년 12월 24일 00시   제주   330   0   26   116  214   26    0  49.20  6599   \n",
       "2  2020년 12월 24일 00시   경남  1145   3   21   811  331   21    0  34.06  6598   \n",
       "3  2020년 12월 24일 00시   경북  2169  61   50  1742  366   50    0  81.46  6597   \n",
       "4  2020년 12월 24일 00시   전남   527   5    2   450   72    2    0  28.26  6596   \n",
       "\n",
       "          일자         일자2  \n",
       "0 2020-12-24  2020-12-24  \n",
       "1 2020-12-24  2020-12-24  \n",
       "2 2020-12-24  2020-12-24  \n",
       "3 2020-12-24  2020-12-24  \n",
       "4 2020-12-24  2020-12-24  "
      ],
      "text/html": "<div>\n<style scoped>\n    .dataframe tbody tr th:only-of-type {\n        vertical-align: middle;\n    }\n\n    .dataframe tbody tr th {\n        vertical-align: top;\n    }\n\n    .dataframe thead th {\n        text-align: right;\n    }\n</style>\n<table border=\"1\" class=\"dataframe\">\n  <thead>\n    <tr style=\"text-align: right;\">\n      <th></th>\n      <th>기준시간</th>\n      <th>광역시도</th>\n      <th>확진자</th>\n      <th>사망자</th>\n      <th>전일대비</th>\n      <th>격리해제</th>\n      <th>격리중</th>\n      <th>지역발생</th>\n      <th>해외유입</th>\n      <th>10만명당</th>\n      <th>seq</th>\n      <th>일자</th>\n      <th>일자2</th>\n    </tr>\n  </thead>\n  <tbody>\n    <tr>\n      <th>0</th>\n      <td>2020년 12월 24일 00시</td>\n      <td>검역</td>\n      <td>2381</td>\n      <td>1</td>\n      <td>11</td>\n      <td>1661</td>\n      <td>719</td>\n      <td>0</td>\n      <td>11</td>\n      <td>-</td>\n      <td>6600</td>\n      <td>2020-12-24</td>\n      <td>2020-12-24</td>\n    </tr>\n    <tr>\n      <th>1</th>\n      <td>2020년 12월 24일 00시</td>\n      <td>제주</td>\n      <td>330</td>\n      <td>0</td>\n      <td>26</td>\n      <td>116</td>\n      <td>214</td>\n      <td>26</td>\n      <td>0</td>\n      <td>49.20</td>\n      <td>6599</td>\n      <td>2020-12-24</td>\n      <td>2020-12-24</td>\n    </tr>\n    <tr>\n      <th>2</th>\n      <td>2020년 12월 24일 00시</td>\n      <td>경남</td>\n      <td>1145</td>\n      <td>3</td>\n      <td>21</td>\n      <td>811</td>\n      <td>331</td>\n      <td>21</td>\n      <td>0</td>\n      <td>34.06</td>\n      <td>6598</td>\n      <td>2020-12-24</td>\n      <td>2020-12-24</td>\n    </tr>\n    <tr>\n      <th>3</th>\n      <td>2020년 12월 24일 00시</td>\n      <td>경북</td>\n      <td>2169</td>\n      <td>61</td>\n      <td>50</td>\n      <td>1742</td>\n      <td>366</td>\n      <td>50</td>\n      <td>0</td>\n      <td>81.46</td>\n      <td>6597</td>\n      <td>2020-12-24</td>\n      <td>2020-12-24</td>\n    </tr>\n    <tr>\n      <th>4</th>\n      <td>2020년 12월 24일 00시</td>\n      <td>전남</td>\n      <td>527</td>\n      <td>5</td>\n      <td>2</td>\n      <td>450</td>\n      <td>72</td>\n      <td>2</td>\n      <td>0</td>\n      <td>28.26</td>\n      <td>6596</td>\n      <td>2020-12-24</td>\n      <td>2020-12-24</td>\n    </tr>\n  </tbody>\n</table>\n</div>"
     },
     "metadata": {},
     "execution_count": 119
    }
   ],
   "source": [
    "df.head()"
   ]
  },
  {
   "cell_type": "code",
   "execution_count": 120,
   "metadata": {},
   "outputs": [],
   "source": [
    "df.sort_index(ascending=False, inplace=True)"
   ]
  },
  {
   "cell_type": "code",
   "execution_count": 121,
   "metadata": {},
   "outputs": [
    {
     "output_type": "execute_result",
     "data": {
      "text/plain": [
       "                 기준시간 광역시도 확진자 사망자 전일대비 격리해제 격리중 지역발생 해외유입 10만명당 seq  \\\n",
       "5951  2020년 3월 1일 16시   합계   0  18  586                     None   1   \n",
       "5950  2020년 3월 1일 16시   서울   0   0   10                     None   2   \n",
       "5949  2020년 3월 1일 16시   부산   0   0    3                     None   3   \n",
       "5948  2020년 3월 1일 16시   대구   0   9  469                     None   4   \n",
       "5947  2020년 3월 1일 16시   인천   0   0    0                     None   5   \n",
       "\n",
       "             일자         일자2  \n",
       "5951 2020-03-01  2020-03-01  \n",
       "5950 2020-03-01  2020-03-01  \n",
       "5949 2020-03-01  2020-03-01  \n",
       "5948 2020-03-01  2020-03-01  \n",
       "5947 2020-03-01  2020-03-01  "
      ],
      "text/html": "<div>\n<style scoped>\n    .dataframe tbody tr th:only-of-type {\n        vertical-align: middle;\n    }\n\n    .dataframe tbody tr th {\n        vertical-align: top;\n    }\n\n    .dataframe thead th {\n        text-align: right;\n    }\n</style>\n<table border=\"1\" class=\"dataframe\">\n  <thead>\n    <tr style=\"text-align: right;\">\n      <th></th>\n      <th>기준시간</th>\n      <th>광역시도</th>\n      <th>확진자</th>\n      <th>사망자</th>\n      <th>전일대비</th>\n      <th>격리해제</th>\n      <th>격리중</th>\n      <th>지역발생</th>\n      <th>해외유입</th>\n      <th>10만명당</th>\n      <th>seq</th>\n      <th>일자</th>\n      <th>일자2</th>\n    </tr>\n  </thead>\n  <tbody>\n    <tr>\n      <th>5951</th>\n      <td>2020년 3월 1일 16시</td>\n      <td>합계</td>\n      <td>0</td>\n      <td>18</td>\n      <td>586</td>\n      <td></td>\n      <td></td>\n      <td></td>\n      <td></td>\n      <td>None</td>\n      <td>1</td>\n      <td>2020-03-01</td>\n      <td>2020-03-01</td>\n    </tr>\n    <tr>\n      <th>5950</th>\n      <td>2020년 3월 1일 16시</td>\n      <td>서울</td>\n      <td>0</td>\n      <td>0</td>\n      <td>10</td>\n      <td></td>\n      <td></td>\n      <td></td>\n      <td></td>\n      <td>None</td>\n      <td>2</td>\n      <td>2020-03-01</td>\n      <td>2020-03-01</td>\n    </tr>\n    <tr>\n      <th>5949</th>\n      <td>2020년 3월 1일 16시</td>\n      <td>부산</td>\n      <td>0</td>\n      <td>0</td>\n      <td>3</td>\n      <td></td>\n      <td></td>\n      <td></td>\n      <td></td>\n      <td>None</td>\n      <td>3</td>\n      <td>2020-03-01</td>\n      <td>2020-03-01</td>\n    </tr>\n    <tr>\n      <th>5948</th>\n      <td>2020년 3월 1일 16시</td>\n      <td>대구</td>\n      <td>0</td>\n      <td>9</td>\n      <td>469</td>\n      <td></td>\n      <td></td>\n      <td></td>\n      <td></td>\n      <td>None</td>\n      <td>4</td>\n      <td>2020-03-01</td>\n      <td>2020-03-01</td>\n    </tr>\n    <tr>\n      <th>5947</th>\n      <td>2020년 3월 1일 16시</td>\n      <td>인천</td>\n      <td>0</td>\n      <td>0</td>\n      <td>0</td>\n      <td></td>\n      <td></td>\n      <td></td>\n      <td></td>\n      <td>None</td>\n      <td>5</td>\n      <td>2020-03-01</td>\n      <td>2020-03-01</td>\n    </tr>\n  </tbody>\n</table>\n</div>"
     },
     "metadata": {},
     "execution_count": 121
    }
   ],
   "source": [
    "df.head()"
   ]
  },
  {
   "cell_type": "code",
   "execution_count": 122,
   "metadata": {},
   "outputs": [],
   "source": [
    "df = df[['seq','일자2','광역시도','확진자','사망자','전일대비','격리해제','격리중','지역발생','해외유입','10만명당']]"
   ]
  },
  {
   "cell_type": "code",
   "execution_count": 123,
   "metadata": {},
   "outputs": [
    {
     "output_type": "execute_result",
     "data": {
      "text/plain": [
       "  seq         일자2 광역시도 확진자 사망자 전일대비 격리해제 격리중 지역발생 해외유입 10만명당\n",
       "0   1  2020-03-01   합계   0  18  586                     None\n",
       "1   2  2020-03-01   서울   0   0   10                     None\n",
       "2   3  2020-03-01   부산   0   0    3                     None\n",
       "3   4  2020-03-01   대구   0   9  469                     None\n",
       "4   5  2020-03-01   인천   0   0    0                     None"
      ],
      "text/html": "<div>\n<style scoped>\n    .dataframe tbody tr th:only-of-type {\n        vertical-align: middle;\n    }\n\n    .dataframe tbody tr th {\n        vertical-align: top;\n    }\n\n    .dataframe thead th {\n        text-align: right;\n    }\n</style>\n<table border=\"1\" class=\"dataframe\">\n  <thead>\n    <tr style=\"text-align: right;\">\n      <th></th>\n      <th>seq</th>\n      <th>일자2</th>\n      <th>광역시도</th>\n      <th>확진자</th>\n      <th>사망자</th>\n      <th>전일대비</th>\n      <th>격리해제</th>\n      <th>격리중</th>\n      <th>지역발생</th>\n      <th>해외유입</th>\n      <th>10만명당</th>\n    </tr>\n  </thead>\n  <tbody>\n    <tr>\n      <th>0</th>\n      <td>1</td>\n      <td>2020-03-01</td>\n      <td>합계</td>\n      <td>0</td>\n      <td>18</td>\n      <td>586</td>\n      <td></td>\n      <td></td>\n      <td></td>\n      <td></td>\n      <td>None</td>\n    </tr>\n    <tr>\n      <th>1</th>\n      <td>2</td>\n      <td>2020-03-01</td>\n      <td>서울</td>\n      <td>0</td>\n      <td>0</td>\n      <td>10</td>\n      <td></td>\n      <td></td>\n      <td></td>\n      <td></td>\n      <td>None</td>\n    </tr>\n    <tr>\n      <th>2</th>\n      <td>3</td>\n      <td>2020-03-01</td>\n      <td>부산</td>\n      <td>0</td>\n      <td>0</td>\n      <td>3</td>\n      <td></td>\n      <td></td>\n      <td></td>\n      <td></td>\n      <td>None</td>\n    </tr>\n    <tr>\n      <th>3</th>\n      <td>4</td>\n      <td>2020-03-01</td>\n      <td>대구</td>\n      <td>0</td>\n      <td>9</td>\n      <td>469</td>\n      <td></td>\n      <td></td>\n      <td></td>\n      <td></td>\n      <td>None</td>\n    </tr>\n    <tr>\n      <th>4</th>\n      <td>5</td>\n      <td>2020-03-01</td>\n      <td>인천</td>\n      <td>0</td>\n      <td>0</td>\n      <td>0</td>\n      <td></td>\n      <td></td>\n      <td></td>\n      <td></td>\n      <td>None</td>\n    </tr>\n  </tbody>\n</table>\n</div>"
     },
     "metadata": {},
     "execution_count": 123
    }
   ],
   "source": [
    "df.reset_index(drop=True, inplace=True)\n",
    "df.head()"
   ]
  },
  {
   "cell_type": "code",
   "execution_count": 124,
   "metadata": {},
   "outputs": [],
   "source": [
    "conn = sqlite3.connect('./DB/covid-19.db')\n",
    "cur = conn.cursor()"
   ]
  },
  {
   "cell_type": "code",
   "execution_count": 125,
   "metadata": {},
   "outputs": [],
   "source": [
    "sql_table = '''\n",
    "create table '시도발생_현황'(\n",
    "       'seq' text not null primary key, '일자' text not null,\n",
    "       '광역시도' text not null,'확진자' int default 0, '사망자' int default 0,\n",
    "       '전일대비' int default 0, '격리해제' int default 0, '격리중' int default 0,\n",
    "       '지역발생' int default 0, '해외유입' int default 0, '10만명당' text default '-'\n",
    "       \n",
    ")\n",
    "'''"
   ]
  },
  {
   "cell_type": "code",
   "execution_count": 126,
   "metadata": {},
   "outputs": [],
   "source": [
    "cur.execute(sql_table)\n",
    "conn.commit()"
   ]
  },
  {
   "cell_type": "code",
   "execution_count": 127,
   "metadata": {},
   "outputs": [],
   "source": [
    "sql_insert = 'insert into \"시도발생_현황\" values(?,?,?,?,?,?,?,?,?,?,?)'"
   ]
  },
  {
   "cell_type": "code",
   "execution_count": 128,
   "metadata": {},
   "outputs": [],
   "source": [
    "for i in df.index:\n",
    "    params = list(df.loc[i])\n",
    "    cur.execute(sql_insert, params)\n",
    "    conn.commit()"
   ]
  },
  {
   "cell_type": "code",
   "execution_count": 129,
   "metadata": {},
   "outputs": [],
   "source": [
    "conn.close()"
   ]
  },
  {
   "cell_type": "code",
   "execution_count": 130,
   "metadata": {},
   "outputs": [],
   "source": [
    "df.to_csv('./DB/시도발생현황.csv')"
   ]
  },
  {
   "cell_type": "code",
   "execution_count": 131,
   "metadata": {},
   "outputs": [],
   "source": [
    "df['확진자'] = df['확진자'].astype(int)"
   ]
  },
  {
   "cell_type": "code",
   "execution_count": 132,
   "metadata": {},
   "outputs": [],
   "source": [
    "a_df = df.pivot_table('확진자', index=['일자2', '광역시도'])"
   ]
  },
  {
   "cell_type": "code",
   "execution_count": 133,
   "metadata": {},
   "outputs": [
    {
     "output_type": "execute_result",
     "data": {
      "text/plain": [
       "                   확진자\n",
       "일자2        광역시도       \n",
       "2020-03-01 강원        0\n",
       "           검역        0\n",
       "           경기        0\n",
       "           경남        0\n",
       "           경북        0\n",
       "...                ...\n",
       "2020-12-24 전북      725\n",
       "           제주      330\n",
       "           충남     1347\n",
       "           충북      939\n",
       "           합계    53533\n",
       "\n",
       "[5593 rows x 1 columns]"
      ],
      "text/html": "<div>\n<style scoped>\n    .dataframe tbody tr th:only-of-type {\n        vertical-align: middle;\n    }\n\n    .dataframe tbody tr th {\n        vertical-align: top;\n    }\n\n    .dataframe thead th {\n        text-align: right;\n    }\n</style>\n<table border=\"1\" class=\"dataframe\">\n  <thead>\n    <tr style=\"text-align: right;\">\n      <th></th>\n      <th></th>\n      <th>확진자</th>\n    </tr>\n    <tr>\n      <th>일자2</th>\n      <th>광역시도</th>\n      <th></th>\n    </tr>\n  </thead>\n  <tbody>\n    <tr>\n      <th rowspan=\"5\" valign=\"top\">2020-03-01</th>\n      <th>강원</th>\n      <td>0</td>\n    </tr>\n    <tr>\n      <th>검역</th>\n      <td>0</td>\n    </tr>\n    <tr>\n      <th>경기</th>\n      <td>0</td>\n    </tr>\n    <tr>\n      <th>경남</th>\n      <td>0</td>\n    </tr>\n    <tr>\n      <th>경북</th>\n      <td>0</td>\n    </tr>\n    <tr>\n      <th>...</th>\n      <th>...</th>\n      <td>...</td>\n    </tr>\n    <tr>\n      <th rowspan=\"5\" valign=\"top\">2020-12-24</th>\n      <th>전북</th>\n      <td>725</td>\n    </tr>\n    <tr>\n      <th>제주</th>\n      <td>330</td>\n    </tr>\n    <tr>\n      <th>충남</th>\n      <td>1347</td>\n    </tr>\n    <tr>\n      <th>충북</th>\n      <td>939</td>\n    </tr>\n    <tr>\n      <th>합계</th>\n      <td>53533</td>\n    </tr>\n  </tbody>\n</table>\n<p>5593 rows × 1 columns</p>\n</div>"
     },
     "metadata": {},
     "execution_count": 133
    }
   ],
   "source": [
    "a_df"
   ]
  },
  {
   "cell_type": "code",
   "execution_count": 134,
   "metadata": {},
   "outputs": [],
   "source": [
    "a_df.to_csv('./DB/광역시도별.csv')"
   ]
  },
  {
   "cell_type": "code",
   "execution_count": 135,
   "metadata": {},
   "outputs": [],
   "source": [
    "n_df = df.pivot_table('확진자', '일자2', '광역시도')"
   ]
  },
  {
   "cell_type": "code",
   "execution_count": 136,
   "metadata": {},
   "outputs": [],
   "source": [
    "day_df = n_df - n_df.shift(1)"
   ]
  },
  {
   "cell_type": "code",
   "execution_count": 137,
   "metadata": {},
   "outputs": [],
   "source": [
    "day_df.fillna(0,inplace=True)"
   ]
  },
  {
   "cell_type": "code",
   "execution_count": 138,
   "metadata": {},
   "outputs": [],
   "source": [
    "del day_df['검역']"
   ]
  },
  {
   "cell_type": "code",
   "execution_count": 139,
   "metadata": {},
   "outputs": [
    {
     "output_type": "execute_result",
     "data": {
      "text/plain": [
       "광역시도        강원   경기  경남   경북  광주    대구  대전  부산   서울  세종  울산  인천  전남  전북  제주  \\\n",
       "일자2                                                                           \n",
       "2020-03-01   0    0   0    0   0     0   0   0    0   0   0   0   0   0   0   \n",
       "2020-03-04  21  101  65  774  13  4006  15  93   99   1  23   9   5   7   3   \n",
       "2020-03-05   2    9   9   87   1   321   1  -1    4   0   0   0  -1   0   1   \n",
       "2020-03-06   2   10   3  123  -1   367   2   3    2   0   0   0   0   0   0   \n",
       "2020-03-07   1   10   5   65   0   390   0   1    3   1   0   0   0   0   0   \n",
       "...         ..  ...  ..  ...  ..   ...  ..  ..  ...  ..  ..  ..  ..  ..  ..   \n",
       "2020-12-20  55  249  51   25  14    25   3  33  471   1   6  62   4  29  24   \n",
       "2020-12-21  25  244  15   48  13    21   3  20  328   0  17  88   9  13  23   \n",
       "2020-12-22  23  206  18   59  26    39   9  26  317   1   6  45   5   4  19   \n",
       "2020-12-23  13  308  29   25  36    24  35  32  376   1  18  49  12  21  33   \n",
       "2020-12-24  21  284  21   50  15    26  11  44  318   2   9  53   2  12  26   \n",
       "\n",
       "광역시도        충남  충북    합계  \n",
       "일자2                       \n",
       "2020-03-01   0   0     0  \n",
       "2020-03-04  82  11  5328  \n",
       "2020-03-05   4   1   438  \n",
       "2020-03-06   4   3   518  \n",
       "2020-03-07   2   5   483  \n",
       "...         ..  ..   ...  \n",
       "2020-12-20  20  14  1095  \n",
       "2020-12-21  16  33   926  \n",
       "2020-12-22  17  31   869  \n",
       "2020-12-23  11  58  1090  \n",
       "2020-12-24  31  47   983  \n",
       "\n",
       "[295 rows x 18 columns]"
      ],
      "text/html": "<div>\n<style scoped>\n    .dataframe tbody tr th:only-of-type {\n        vertical-align: middle;\n    }\n\n    .dataframe tbody tr th {\n        vertical-align: top;\n    }\n\n    .dataframe thead th {\n        text-align: right;\n    }\n</style>\n<table border=\"1\" class=\"dataframe\">\n  <thead>\n    <tr style=\"text-align: right;\">\n      <th>광역시도</th>\n      <th>강원</th>\n      <th>경기</th>\n      <th>경남</th>\n      <th>경북</th>\n      <th>광주</th>\n      <th>대구</th>\n      <th>대전</th>\n      <th>부산</th>\n      <th>서울</th>\n      <th>세종</th>\n      <th>울산</th>\n      <th>인천</th>\n      <th>전남</th>\n      <th>전북</th>\n      <th>제주</th>\n      <th>충남</th>\n      <th>충북</th>\n      <th>합계</th>\n    </tr>\n    <tr>\n      <th>일자2</th>\n      <th></th>\n      <th></th>\n      <th></th>\n      <th></th>\n      <th></th>\n      <th></th>\n      <th></th>\n      <th></th>\n      <th></th>\n      <th></th>\n      <th></th>\n      <th></th>\n      <th></th>\n      <th></th>\n      <th></th>\n      <th></th>\n      <th></th>\n      <th></th>\n    </tr>\n  </thead>\n  <tbody>\n    <tr>\n      <th>2020-03-01</th>\n      <td>0</td>\n      <td>0</td>\n      <td>0</td>\n      <td>0</td>\n      <td>0</td>\n      <td>0</td>\n      <td>0</td>\n      <td>0</td>\n      <td>0</td>\n      <td>0</td>\n      <td>0</td>\n      <td>0</td>\n      <td>0</td>\n      <td>0</td>\n      <td>0</td>\n      <td>0</td>\n      <td>0</td>\n      <td>0</td>\n    </tr>\n    <tr>\n      <th>2020-03-04</th>\n      <td>21</td>\n      <td>101</td>\n      <td>65</td>\n      <td>774</td>\n      <td>13</td>\n      <td>4006</td>\n      <td>15</td>\n      <td>93</td>\n      <td>99</td>\n      <td>1</td>\n      <td>23</td>\n      <td>9</td>\n      <td>5</td>\n      <td>7</td>\n      <td>3</td>\n      <td>82</td>\n      <td>11</td>\n      <td>5328</td>\n    </tr>\n    <tr>\n      <th>2020-03-05</th>\n      <td>2</td>\n      <td>9</td>\n      <td>9</td>\n      <td>87</td>\n      <td>1</td>\n      <td>321</td>\n      <td>1</td>\n      <td>-1</td>\n      <td>4</td>\n      <td>0</td>\n      <td>0</td>\n      <td>0</td>\n      <td>-1</td>\n      <td>0</td>\n      <td>1</td>\n      <td>4</td>\n      <td>1</td>\n      <td>438</td>\n    </tr>\n    <tr>\n      <th>2020-03-06</th>\n      <td>2</td>\n      <td>10</td>\n      <td>3</td>\n      <td>123</td>\n      <td>-1</td>\n      <td>367</td>\n      <td>2</td>\n      <td>3</td>\n      <td>2</td>\n      <td>0</td>\n      <td>0</td>\n      <td>0</td>\n      <td>0</td>\n      <td>0</td>\n      <td>0</td>\n      <td>4</td>\n      <td>3</td>\n      <td>518</td>\n    </tr>\n    <tr>\n      <th>2020-03-07</th>\n      <td>1</td>\n      <td>10</td>\n      <td>5</td>\n      <td>65</td>\n      <td>0</td>\n      <td>390</td>\n      <td>0</td>\n      <td>1</td>\n      <td>3</td>\n      <td>1</td>\n      <td>0</td>\n      <td>0</td>\n      <td>0</td>\n      <td>0</td>\n      <td>0</td>\n      <td>2</td>\n      <td>5</td>\n      <td>483</td>\n    </tr>\n    <tr>\n      <th>...</th>\n      <td>...</td>\n      <td>...</td>\n      <td>...</td>\n      <td>...</td>\n      <td>...</td>\n      <td>...</td>\n      <td>...</td>\n      <td>...</td>\n      <td>...</td>\n      <td>...</td>\n      <td>...</td>\n      <td>...</td>\n      <td>...</td>\n      <td>...</td>\n      <td>...</td>\n      <td>...</td>\n      <td>...</td>\n      <td>...</td>\n    </tr>\n    <tr>\n      <th>2020-12-20</th>\n      <td>55</td>\n      <td>249</td>\n      <td>51</td>\n      <td>25</td>\n      <td>14</td>\n      <td>25</td>\n      <td>3</td>\n      <td>33</td>\n      <td>471</td>\n      <td>1</td>\n      <td>6</td>\n      <td>62</td>\n      <td>4</td>\n      <td>29</td>\n      <td>24</td>\n      <td>20</td>\n      <td>14</td>\n      <td>1095</td>\n    </tr>\n    <tr>\n      <th>2020-12-21</th>\n      <td>25</td>\n      <td>244</td>\n      <td>15</td>\n      <td>48</td>\n      <td>13</td>\n      <td>21</td>\n      <td>3</td>\n      <td>20</td>\n      <td>328</td>\n      <td>0</td>\n      <td>17</td>\n      <td>88</td>\n      <td>9</td>\n      <td>13</td>\n      <td>23</td>\n      <td>16</td>\n      <td>33</td>\n      <td>926</td>\n    </tr>\n    <tr>\n      <th>2020-12-22</th>\n      <td>23</td>\n      <td>206</td>\n      <td>18</td>\n      <td>59</td>\n      <td>26</td>\n      <td>39</td>\n      <td>9</td>\n      <td>26</td>\n      <td>317</td>\n      <td>1</td>\n      <td>6</td>\n      <td>45</td>\n      <td>5</td>\n      <td>4</td>\n      <td>19</td>\n      <td>17</td>\n      <td>31</td>\n      <td>869</td>\n    </tr>\n    <tr>\n      <th>2020-12-23</th>\n      <td>13</td>\n      <td>308</td>\n      <td>29</td>\n      <td>25</td>\n      <td>36</td>\n      <td>24</td>\n      <td>35</td>\n      <td>32</td>\n      <td>376</td>\n      <td>1</td>\n      <td>18</td>\n      <td>49</td>\n      <td>12</td>\n      <td>21</td>\n      <td>33</td>\n      <td>11</td>\n      <td>58</td>\n      <td>1090</td>\n    </tr>\n    <tr>\n      <th>2020-12-24</th>\n      <td>21</td>\n      <td>284</td>\n      <td>21</td>\n      <td>50</td>\n      <td>15</td>\n      <td>26</td>\n      <td>11</td>\n      <td>44</td>\n      <td>318</td>\n      <td>2</td>\n      <td>9</td>\n      <td>53</td>\n      <td>2</td>\n      <td>12</td>\n      <td>26</td>\n      <td>31</td>\n      <td>47</td>\n      <td>983</td>\n    </tr>\n  </tbody>\n</table>\n<p>295 rows × 18 columns</p>\n</div>"
     },
     "metadata": {},
     "execution_count": 139
    }
   ],
   "source": [
    "day_df.astype(int)"
   ]
  },
  {
   "cell_type": "code",
   "execution_count": 140,
   "metadata": {},
   "outputs": [],
   "source": [
    "conn = sqlite3.connect('./DB/covid-19.db')\n",
    "cur = conn.cursor()"
   ]
  },
  {
   "cell_type": "code",
   "execution_count": 141,
   "metadata": {},
   "outputs": [],
   "source": [
    "sql_table = '''\n",
    "create table '일일확진자 현황'(\n",
    "       '일자' text not null primary key,\n",
    "       '강원' int not null, '경기' int not null, '경남' int not null,\n",
    "       '경북' int not null, '광주' int not null, '대구' int not null,\n",
    "       '대전' int not null, '부산' int not null, '서울' int not null,\n",
    "       '세종' int not null, '울산' int not null, '인천' int not null,\n",
    "       '전남' int not null, '전북' int not null, '제주' int not null,\n",
    "       '충남' int not null, '충북' int not null, '합계' int not null\n",
    ")\n",
    "'''"
   ]
  },
  {
   "cell_type": "code",
   "execution_count": 142,
   "metadata": {},
   "outputs": [],
   "source": [
    "cur.execute(sql_table)\n",
    "conn.commit()"
   ]
  },
  {
   "cell_type": "code",
   "execution_count": 143,
   "metadata": {},
   "outputs": [],
   "source": [
    "sql_insert = 'insert into \"일일확진자 현황\" values(?,?,?,?,?,?,?,?,?,?,?,?,?,?,?,?,?,?,?)'"
   ]
  },
  {
   "cell_type": "code",
   "execution_count": 144,
   "metadata": {},
   "outputs": [],
   "source": [
    "for i in day_df[1:].index:\n",
    "    params = list(day_df.loc[i])\n",
    "    params.insert(0, i)\n",
    "    cur.execute(sql_insert, params)\n",
    "    conn.commit()"
   ]
  },
  {
   "cell_type": "code",
   "execution_count": 145,
   "metadata": {},
   "outputs": [],
   "source": [
    "conn.close()"
   ]
  },
  {
   "cell_type": "code",
   "execution_count": 146,
   "metadata": {},
   "outputs": [],
   "source": [
    "day_df.to_csv('./DB/일일확진자.csv')"
   ]
  },
  {
   "source": [
    "### 연령별 현황"
   ],
   "cell_type": "markdown",
   "metadata": {}
  },
  {
   "cell_type": "code",
   "execution_count": 5,
   "metadata": {},
   "outputs": [],
   "source": [
    "corona_url = 'http://openapi.data.go.kr/openapi/service/rest/Covid19/getCovid19GenAgeCaseInfJson?serviceKey='\n",
    "url = f'{corona_url}{govapi_key}&pageNo=1&numOfRows=10&startCreateDt={start_date}&endCreateDt={end_date}'"
   ]
  },
  {
   "cell_type": "code",
   "execution_count": 6,
   "metadata": {},
   "outputs": [
    {
     "output_type": "execute_result",
     "data": {
      "text/plain": [
       "'http://openapi.data.go.kr/openapi/service/rest/Covid19/getCovid19GenAgeCaseInfJson?serviceKey=QdYry9tFcAehmt%2BH6Q2LYgChFxQ%2BMZu1oMldd711rMJLoU%2FNOZ61YLzvo01MFZJSElrRYZSRwyDwO6M7Bsmikw%3D%3D&pageNo=1&numOfRows=10&startCreateDt=20200101&endCreateDt=20201228'"
      ]
     },
     "metadata": {},
     "execution_count": 6
    }
   ],
   "source": [
    "url"
   ]
  },
  {
   "cell_type": "code",
   "execution_count": 148,
   "metadata": {},
   "outputs": [
    {
     "output_type": "execute_result",
     "data": {
      "text/plain": [
       "'00'"
      ]
     },
     "metadata": {},
     "execution_count": 148
    }
   ],
   "source": [
    "result = requests.get(url)\n",
    "soup = BeautifulSoup(result.text, 'xml')\n",
    "soup.find('resultCode').get_text()"
   ]
  },
  {
   "cell_type": "code",
   "execution_count": 149,
   "metadata": {},
   "outputs": [
    {
     "output_type": "execute_result",
     "data": {
      "text/plain": [
       "     rowID         등록일   확진자    확진률    치명률 사망자    사망률     구분   수정일\n",
       "0     5609  2020-12-23  1761   3.35      0   0   0.00    0-9  null\n",
       "1     5608  2020-12-23  3268   6.22      0   0   0.00  10-19  null\n",
       "2     5607  2020-12-23  8758  16.67      0   0   0.00  20-29  null\n",
       "3     5606  2020-12-23  6642  12.64   0.05   3   0.41  30-39  null\n",
       "4     5605  2020-12-23  7367  14.02   0.08   6   0.81  40-49  null\n",
       "...    ...         ...   ...    ...    ...  ..    ...    ...   ...\n",
       "2845     5  2020-04-02  1235  12.62   1.78  22  13.58  60-69  None\n",
       "2846     4  2020-04-02   651   6.65   7.07  46   28.4  70-79  None\n",
       "2847     3  2020-04-02   442   4.52  18.55  82  50.62  80 이상  None\n",
       "2848     2  2020-04-02  5881   60.1   1.36  80  49.38     여성  None\n",
       "2849     1  2020-04-02  3905   39.9    2.1  82  50.62     남성  None\n",
       "\n",
       "[2850 rows x 9 columns]"
      ],
      "text/html": "<div>\n<style scoped>\n    .dataframe tbody tr th:only-of-type {\n        vertical-align: middle;\n    }\n\n    .dataframe tbody tr th {\n        vertical-align: top;\n    }\n\n    .dataframe thead th {\n        text-align: right;\n    }\n</style>\n<table border=\"1\" class=\"dataframe\">\n  <thead>\n    <tr style=\"text-align: right;\">\n      <th></th>\n      <th>rowID</th>\n      <th>등록일</th>\n      <th>확진자</th>\n      <th>확진률</th>\n      <th>치명률</th>\n      <th>사망자</th>\n      <th>사망률</th>\n      <th>구분</th>\n      <th>수정일</th>\n    </tr>\n  </thead>\n  <tbody>\n    <tr>\n      <th>0</th>\n      <td>5609</td>\n      <td>2020-12-23</td>\n      <td>1761</td>\n      <td>3.35</td>\n      <td>0</td>\n      <td>0</td>\n      <td>0.00</td>\n      <td>0-9</td>\n      <td>null</td>\n    </tr>\n    <tr>\n      <th>1</th>\n      <td>5608</td>\n      <td>2020-12-23</td>\n      <td>3268</td>\n      <td>6.22</td>\n      <td>0</td>\n      <td>0</td>\n      <td>0.00</td>\n      <td>10-19</td>\n      <td>null</td>\n    </tr>\n    <tr>\n      <th>2</th>\n      <td>5607</td>\n      <td>2020-12-23</td>\n      <td>8758</td>\n      <td>16.67</td>\n      <td>0</td>\n      <td>0</td>\n      <td>0.00</td>\n      <td>20-29</td>\n      <td>null</td>\n    </tr>\n    <tr>\n      <th>3</th>\n      <td>5606</td>\n      <td>2020-12-23</td>\n      <td>6642</td>\n      <td>12.64</td>\n      <td>0.05</td>\n      <td>3</td>\n      <td>0.41</td>\n      <td>30-39</td>\n      <td>null</td>\n    </tr>\n    <tr>\n      <th>4</th>\n      <td>5605</td>\n      <td>2020-12-23</td>\n      <td>7367</td>\n      <td>14.02</td>\n      <td>0.08</td>\n      <td>6</td>\n      <td>0.81</td>\n      <td>40-49</td>\n      <td>null</td>\n    </tr>\n    <tr>\n      <th>...</th>\n      <td>...</td>\n      <td>...</td>\n      <td>...</td>\n      <td>...</td>\n      <td>...</td>\n      <td>...</td>\n      <td>...</td>\n      <td>...</td>\n      <td>...</td>\n    </tr>\n    <tr>\n      <th>2845</th>\n      <td>5</td>\n      <td>2020-04-02</td>\n      <td>1235</td>\n      <td>12.62</td>\n      <td>1.78</td>\n      <td>22</td>\n      <td>13.58</td>\n      <td>60-69</td>\n      <td>None</td>\n    </tr>\n    <tr>\n      <th>2846</th>\n      <td>4</td>\n      <td>2020-04-02</td>\n      <td>651</td>\n      <td>6.65</td>\n      <td>7.07</td>\n      <td>46</td>\n      <td>28.4</td>\n      <td>70-79</td>\n      <td>None</td>\n    </tr>\n    <tr>\n      <th>2847</th>\n      <td>3</td>\n      <td>2020-04-02</td>\n      <td>442</td>\n      <td>4.52</td>\n      <td>18.55</td>\n      <td>82</td>\n      <td>50.62</td>\n      <td>80 이상</td>\n      <td>None</td>\n    </tr>\n    <tr>\n      <th>2848</th>\n      <td>2</td>\n      <td>2020-04-02</td>\n      <td>5881</td>\n      <td>60.1</td>\n      <td>1.36</td>\n      <td>80</td>\n      <td>49.38</td>\n      <td>여성</td>\n      <td>None</td>\n    </tr>\n    <tr>\n      <th>2849</th>\n      <td>1</td>\n      <td>2020-04-02</td>\n      <td>3905</td>\n      <td>39.9</td>\n      <td>2.1</td>\n      <td>82</td>\n      <td>50.62</td>\n      <td>남성</td>\n      <td>None</td>\n    </tr>\n  </tbody>\n</table>\n<p>2850 rows × 9 columns</p>\n</div>"
     },
     "metadata": {},
     "execution_count": 149
    }
   ],
   "source": [
    "confCase_list, confCaseRate_list, createDt_list, criticalRate_list = [],[],[],[]\n",
    "death_list, deathRate_list, gubun_list, id_list, updateDt_list =[],[],[],[],[]\n",
    "items = soup.find_all('item')\n",
    "for item in items:\n",
    "    id_list.append(item.find('seq').string)\n",
    "    createDt_list.append(item.find('createDt').string.split(' ')[0])\n",
    "    confCase_list.append(item.find('confCase').string)\n",
    "    confCaseRate_list.append(item.find('confCaseRate').string)\n",
    "    criticalRate_list.append(item.find('criticalRate').string)\n",
    "    death_list.append(item.find('death').string)\n",
    "    deathRate_list.append(item.find('deathRate').string)\n",
    "    gubun_list.append(item.find('gubun').string)\n",
    "    updateDt_list.append(item.find('updateDt').string if item.find('updateDt') else ' ')\n",
    "\n",
    "df = pd.DataFrame({\n",
    "    'rowID':id_list,\n",
    "    '등록일':createDt_list, \n",
    "    '확진자': confCase_list,\n",
    "    '확진률' : confCaseRate_list,\n",
    "    '치명률' : criticalRate_list,\n",
    "    '사망자' : death_list,\n",
    "    '사망률' : deathRate_list, \n",
    "    '구분' : gubun_list,\n",
    "    '수정일' :  updateDt_list\n",
    "})\n",
    "df"
   ]
  },
  {
   "cell_type": "code",
   "execution_count": 150,
   "metadata": {},
   "outputs": [],
   "source": [
    "df= df[['rowID', '등록일', '구분', '확진자', '확진률', '치명률', '사망자', '사망률', '수정일']]"
   ]
  },
  {
   "cell_type": "code",
   "execution_count": 151,
   "metadata": {},
   "outputs": [],
   "source": [
    "conn = sqlite3.connect('./DB/covid-19.db')\n",
    "cur = conn.cursor()"
   ]
  },
  {
   "cell_type": "code",
   "execution_count": 152,
   "metadata": {},
   "outputs": [],
   "source": [
    "sql_table = '''\n",
    "create table '연령별·성별감염_현황'(\n",
    "       'rowID' text not null primary key, '등록일' text not null, '구분' text not null,\n",
    "       '확진자' int not null, '확진률' int not null, '치명률' float default 0,\n",
    "       '사망자' int default 0, '사망률' int default 0, \n",
    "       '수정일' int default '-'\n",
    "       )\n",
    "'''"
   ]
  },
  {
   "cell_type": "code",
   "execution_count": 153,
   "metadata": {},
   "outputs": [],
   "source": [
    "cur.execute(sql_table)\n",
    "conn.commit()"
   ]
  },
  {
   "cell_type": "code",
   "execution_count": 154,
   "metadata": {},
   "outputs": [
    {
     "output_type": "execute_result",
     "data": {
      "text/plain": [
       "9"
      ]
     },
     "metadata": {},
     "execution_count": 154
    }
   ],
   "source": [
    "len(df.columns)"
   ]
  },
  {
   "cell_type": "code",
   "execution_count": 155,
   "metadata": {},
   "outputs": [],
   "source": [
    "sql_insert = 'insert into \"연령별·성별감염_현황\" values(?,?,?,?,?,?,?,?,?)'"
   ]
  },
  {
   "cell_type": "code",
   "execution_count": 156,
   "metadata": {},
   "outputs": [],
   "source": [
    "for i in range(len(df)):\n",
    "    params = list(df.loc[i])\n",
    "    cur.execute(sql_insert, params)\n",
    "    conn.commit()"
   ]
  },
  {
   "cell_type": "code",
   "execution_count": 157,
   "metadata": {},
   "outputs": [],
   "source": [
    "conn.close()"
   ]
  },
  {
   "cell_type": "code",
   "execution_count": 158,
   "metadata": {},
   "outputs": [],
   "source": [
    "df.to_csv('./DB/연령별,성별감염_현황.csv')"
   ]
  },
  {
   "source": [
    "###  코로나19감염증으로 인한 일별 확진자, 완치자, 치료중인환자, 사망자등에 대한 현황자료"
   ],
   "cell_type": "markdown",
   "metadata": {}
  },
  {
   "cell_type": "code",
   "execution_count": 159,
   "metadata": {},
   "outputs": [],
   "source": [
    "corona_url = 'http://openapi.data.go.kr/openapi/service/rest/Covid19/getCovid19InfStateJson'\n",
    "url = f'{corona_url}?ServiceKey={govapi_key}&pageNo=1&numOfRows=10&startCreateDt={start_date}&endCreateDt={end_date}'"
   ]
  },
  {
   "cell_type": "code",
   "execution_count": 160,
   "metadata": {},
   "outputs": [
    {
     "output_type": "execute_result",
     "data": {
      "text/plain": [
       "'99'"
      ]
     },
     "metadata": {},
     "execution_count": 160
    }
   ],
   "source": [
    "result = requests.get(url)\n",
    "soup = BeautifulSoup(result.text, 'xml')\n",
    "soup.find('resultCode').get_text()"
   ]
  },
  {
   "cell_type": "code",
   "execution_count": 161,
   "metadata": {},
   "outputs": [
    {
     "output_type": "execute_result",
     "data": {
      "text/plain": [
       "'http://openapi.data.go.kr/openapi/service/rest/Covid19/getCovid19InfStateJson?ServiceKey=QdYry9tFcAehmt%2BH6Q2LYgChFxQ%2BMZu1oMldd711rMJLoU%2FNOZ61YLzvo01MFZJSElrRYZSRwyDwO6M7Bsmikw%3D%3D&pageNo=1&numOfRows=10&startCreateDt=20200101&endCreateDt=20201224'"
      ]
     },
     "metadata": {},
     "execution_count": 161
    }
   ],
   "source": [
    "url"
   ]
  },
  {
   "cell_type": "code",
   "execution_count": 162,
   "metadata": {},
   "outputs": [],
   "source": [
    "accDefRate_list, accExamCnt_list, accExamCompCnt_list, careCnt_list = [],[],[],[]\n",
    "clearCnt_list, deathCnt_list, decideCnt_list, examCnt_list = [],[],[],[]\n",
    "resutlNegCnt_list, seq_list, stateDt_list, updateDt_list = [],[],[],[]\n",
    "items = soup.find_all('item')\n",
    "for item in items:\n",
    "    seq_list.append(item.find('seq').string)\n",
    "    stateDt_list.append(item.find('stateDt').string)\n",
    "    accDefRate_list.append(item.find('accDefRate').string if item.find('accDefRate') else '')\n",
    "    accExamCnt_list.append(item.find('accExamCnt').string if item.find('accExamCnt') else '')\n",
    "    accExamCompCnt_list.append(item.find('accExamCompCnt').string if item.find('accExamCompCnt') else '')\n",
    "    careCnt_list.append(item.find('careCnt').string if item.find('careCnt') else '')\n",
    "    clearCnt_list.append(item.find('clearCnt').string if item.find('clearCnt') else '')\n",
    "    deathCnt_list.append(item.find('deathCnt').string if item.find('deathCnt') else '')\n",
    "    decideCnt_list.append(item.find('decideCnt').string if item.find('decideCnt') else '')\n",
    "    examCnt_list.append(item.find('examCnt').string if item.find('examCnt') else '')\n",
    "    resutlNegCnt_list.append(item.find('resutlNegCnt').string if item.find('resutlNegCnt') else '')\n",
    "    updateDt_list.append(item.find('updateDt').string if item.find('updateDt') else '')"
   ]
  },
  {
   "cell_type": "code",
   "execution_count": 163,
   "metadata": {},
   "outputs": [
    {
     "output_type": "execute_result",
     "data": {
      "text/plain": [
       "Empty DataFrame\n",
       "Columns: [rowID, 기준일, 누적환진률, 누적검사수, 누적 검사 완료 수, 치료중 환자 수, 격리해제 수, 사망자 수, 확진자 수, 검사 진행 수, 결과 음성 수 , 수정일]\n",
       "Index: []"
      ],
      "text/html": "<div>\n<style scoped>\n    .dataframe tbody tr th:only-of-type {\n        vertical-align: middle;\n    }\n\n    .dataframe tbody tr th {\n        vertical-align: top;\n    }\n\n    .dataframe thead th {\n        text-align: right;\n    }\n</style>\n<table border=\"1\" class=\"dataframe\">\n  <thead>\n    <tr style=\"text-align: right;\">\n      <th></th>\n      <th>rowID</th>\n      <th>기준일</th>\n      <th>누적환진률</th>\n      <th>누적검사수</th>\n      <th>누적 검사 완료 수</th>\n      <th>치료중 환자 수</th>\n      <th>격리해제 수</th>\n      <th>사망자 수</th>\n      <th>확진자 수</th>\n      <th>검사 진행 수</th>\n      <th>결과 음성 수</th>\n      <th>수정일</th>\n    </tr>\n  </thead>\n  <tbody>\n  </tbody>\n</table>\n</div>"
     },
     "metadata": {},
     "execution_count": 163
    }
   ],
   "source": [
    "df = pd.DataFrame({\n",
    "    'rowID': seq_list,\n",
    "    '기준일': stateDt_list, \n",
    "    '누적환진률': accDefRate_list,\n",
    "    '누적검사수' : accExamCnt_list,\n",
    "    '누적 검사 완료 수' : accExamCompCnt_list,\n",
    "    '치료중 환자 수' : careCnt_list,\n",
    "    '격리해제 수' : clearCnt_list, \n",
    "    '사망자 수' : deathCnt_list,\n",
    "    '확진자 수' :  decideCnt_list,\n",
    "    '검사 진행 수' : examCnt_list,\n",
    "    '결과 음성 수 ': resutlNegCnt_list,\n",
    "    '수정일' : updateDt_list\n",
    "})\n",
    "df"
   ]
  },
  {
   "cell_type": "code",
   "execution_count": 164,
   "metadata": {},
   "outputs": [],
   "source": [
    "# 중복자료 지우기\n",
    "for i in df['rowID'].unique():\n",
    "    if len(df[df['rowID'] == i]) > 1:\n",
    "        for k in df[df['rowID'] == i][1:].index:\n",
    "            df.drop(k, inplace=True)"
   ]
  },
  {
   "cell_type": "code",
   "execution_count": 165,
   "metadata": {},
   "outputs": [],
   "source": [
    "df.reset_index(drop=True,inplace=True)"
   ]
  },
  {
   "cell_type": "code",
   "execution_count": 166,
   "metadata": {},
   "outputs": [],
   "source": [
    "conn = sqlite3.connect('./DB/covid-19.db')\n",
    "cur = conn.cursor()"
   ]
  },
  {
   "cell_type": "code",
   "execution_count": 167,
   "metadata": {},
   "outputs": [],
   "source": [
    "sql_table = '''\n",
    "create table '감염_현황'(\n",
    "    'rowID' text not null primary key, '기준일' text not null,\n",
    "    '누적환진률' flaot,\n",
    "    '누적검사수' text, '누적 검사 완료 수' text, '치료중 환자 수' text,\n",
    "    '격리해제 수' text,   '사망자 수' text , '확진자 수' text,\n",
    "    '검사 진행 수' text, '결과 음성 수' text, '수정일' text \n",
    "    )\n",
    "'''"
   ]
  },
  {
   "cell_type": "code",
   "execution_count": 168,
   "metadata": {},
   "outputs": [],
   "source": [
    "cur.execute(sql_table)\n",
    "conn.commit()"
   ]
  },
  {
   "cell_type": "code",
   "execution_count": 169,
   "metadata": {},
   "outputs": [],
   "source": [
    "sql_insert = 'insert into \"감염_현황\" values(?,?,?,?,?,?,?,?,?,?,?,?)'"
   ]
  },
  {
   "cell_type": "code",
   "execution_count": 170,
   "metadata": {},
   "outputs": [],
   "source": [
    "for i in range(len(df)):\n",
    "    params = list(df.loc[i])\n",
    "    cur.execute(sql_insert, params)\n",
    "    conn.commit()"
   ]
  },
  {
   "cell_type": "code",
   "execution_count": 171,
   "metadata": {},
   "outputs": [],
   "source": [
    "conn.close()"
   ]
  },
  {
   "cell_type": "code",
   "execution_count": 172,
   "metadata": {},
   "outputs": [],
   "source": [
    "df.to_csv('./DB/감염현황.csv')"
   ]
  }
 ]
}