{
 "metadata": {
  "language_info": {
   "codemirror_mode": {
    "name": "ipython",
    "version": 3
   },
   "file_extension": ".py",
   "mimetype": "text/x-python",
   "name": "python",
   "nbconvert_exporter": "python",
   "pygments_lexer": "ipython3",
   "version": "3.8.5-final"
  },
  "orig_nbformat": 2,
  "kernelspec": {
   "name": "python3",
   "display_name": "Python 3",
   "language": "python"
  }
 },
 "nbformat": 4,
 "nbformat_minor": 2,
 "cells": [
  {
   "cell_type": "code",
   "execution_count": 1,
   "metadata": {},
   "outputs": [],
   "source": [
    "from bs4 import BeautifulSoup\n",
    "import urllib.parse\n",
    "import requests\n",
    "import pandas as pd\n",
    "import sqlite3\n",
    "\n"
   ]
  },
  {
   "cell_type": "code",
   "execution_count": 29,
   "metadata": {},
   "outputs": [],
   "source": [
    "url = 'https://music.bugs.co.kr/chart'\n",
    "headers = {'User-Agent':'Mozilla/5.0 (Windows NT 6.3; Win64; x64) AppleWebKit/537.36 (KHTML, like Gecko) Chrome/63.0.3239.132 Safari/537.36'}\n",
    "html = requests.get(url, headers = headers).text\n",
    "soup = BeautifulSoup(html, 'html.parser')"
   ]
  },
  {
   "cell_type": "code",
   "execution_count": 93,
   "metadata": {},
   "outputs": [
    {
     "output_type": "execute_result",
     "data": {
      "text/plain": [
       "'1'"
      ]
     },
     "metadata": {},
     "execution_count": 93
    }
   ],
   "source": [
    "rank = soup.find('tbody').find_all('tr')[0].find('strong').text\n",
    "rank"
   ]
  },
  {
   "cell_type": "code",
   "execution_count": 97,
   "metadata": {},
   "outputs": [
    {
     "output_type": "execute_result",
     "data": {
      "text/plain": [
       "<a class=\"thumbnail\" href=\"https://music.bugs.co.kr/album/4021262?wl_ref=list_tr_07_chart\" onclick=\"\n",
       "\">\n",
       "<span class=\"mask\"></span>\n",
       "<img alt=\"Hello 대표이미지\" onerror=\"bugs.utils.imgError(this);\" src=\"https://image.bugsm.co.kr/album/images/50/40212/4021262.jpg?version=20201229063716.0\"/>\n",
       "</a>"
      ]
     },
     "metadata": {},
     "execution_count": 97
    }
   ],
   "source": [
    "img = soup.find('tbody').find_all('tr')[0].find('a')\n",
    "img"
   ]
  },
  {
   "cell_type": "code",
   "execution_count": 132,
   "metadata": {},
   "outputs": [
    {
     "output_type": "execute_result",
     "data": {
      "text/plain": [
       "<p adult_yn=\"N\" class=\"title\">\n",
       "<a adultcheckval=\"1\" aria-label=\"새창\" href=\"javascript:;\" onclick=\"bugs.wiselog.area('list_tr_09_chart');bugs.music.listen('6042031',true);\n",
       "\" title=\"우린 어쩌다 헤어진 걸까\">우린 어쩌다 헤어진 걸까</a>\n",
       "</p>"
      ]
     },
     "metadata": {},
     "execution_count": 132
    }
   ],
   "source": [
    "title = soup.find('tbody').find_all('tr')[0].select_one('p.title')\n",
    "title"
   ]
  },
  {
   "cell_type": "code",
   "execution_count": 119,
   "metadata": {},
   "outputs": [
    {
     "output_type": "execute_result",
     "data": {
      "text/plain": [
       "<p class=\"artist\">\n",
       "<a href=\"https://music.bugs.co.kr/artist/80079594?wl_ref=list_tr_10_chart\" onclick=\"\n",
       "\" title=\"허각\">허각</a>\n",
       "</p>"
      ]
     },
     "metadata": {},
     "execution_count": 119
    }
   ],
   "source": [
    "singer = soup.find('tbody').find_all('tr')[0].select_one('p.artist')\n",
    "singer"
   ]
  },
  {
   "cell_type": "code",
   "execution_count": 121,
   "metadata": {},
   "outputs": [
    {
     "output_type": "execute_result",
     "data": {
      "text/plain": [
       "<a class=\"album\" href=\"https://music.bugs.co.kr/album/4021262?wl_ref=list_tr_11_chart\" onclick=\"\n",
       "\" title=\"Hello\">Hello</a>"
      ]
     },
     "metadata": {},
     "execution_count": 121
    }
   ],
   "source": [
    "album soup.find('tbody').find_all('tr')[0].select_one('a.album')"
   ]
  },
  {
   "cell_type": "code",
   "execution_count": 133,
   "metadata": {},
   "outputs": [],
   "source": [
    "rank_list, title_list, singer_list, album_list =[],[],[],[]\n",
    "for i in range(100):\n",
    "    rank = soup.find('tbody').find_all('tr')[i].find('strong').text\n",
    "    title = soup.find('tbody').find_all('tr')[i].select_one('p.title')\n",
    "    singer = soup.find('tbody').find_all('tr')[i].select_one('p.artist')\n",
    "    album = soup.find('tbody').find_all('tr')[i].select_one('a.album')\n",
    "    rank_list.append(rank)\n",
    "    title_list.append(title)\n",
    "    singer_list.append(singer)\n",
    "    album_list.append(album)"
   ]
  },
  {
   "cell_type": "code",
   "execution_count": 149,
   "metadata": {},
   "outputs": [],
   "source": [
    "url = 'https://www.mangoplate.com/search/%EC%8B%A0%EB%B0%A9%ED%99%94'\n",
    "headers = {'User-Agent':'Mozilla/5.0 (Windows NT 6.3; Win64; x64) AppleWebKit/537.36 (KHTML, like Gecko) Chrome/63.0.3239.132 Safari/537.36'}\n",
    "html = requests.get(url, headers = headers).text\n",
    "soup = BeautifulSoup(html, 'html.parser')"
   ]
  },
  {
   "cell_type": "code",
   "execution_count": 150,
   "metadata": {},
   "outputs": [
    {
     "output_type": "execute_result",
     "data": {
      "text/plain": [
       "'%EC%8B%A0%EB%B0%A9%ED%99%94'"
      ]
     },
     "metadata": {},
     "execution_count": 150
    }
   ],
   "source": [
    "urllib.parse.quote('신방화')"
   ]
  },
  {
   "cell_type": "code",
   "execution_count": 158,
   "metadata": {},
   "outputs": [
    {
     "output_type": "error",
     "ename": "IndexError",
     "evalue": "list index out of range",
     "traceback": [
      "\u001b[1;31m---------------------------------------------------------------------------\u001b[0m",
      "\u001b[1;31mIndexError\u001b[0m                                Traceback (most recent call last)",
      "\u001b[1;32m<ipython-input-158-525174c45449>\u001b[0m in \u001b[0;36m<module>\u001b[1;34m\u001b[0m\n\u001b[1;32m----> 1\u001b[1;33m \u001b[0msoup\u001b[0m\u001b[1;33m.\u001b[0m\u001b[0mselect\u001b[0m\u001b[1;33m(\u001b[0m\u001b[1;34m'li.list-restaurant'\u001b[0m\u001b[1;33m)\u001b[0m\u001b[1;33m[\u001b[0m\u001b[0mi\u001b[0m\u001b[1;33m]\u001b[0m\u001b[1;33m.\u001b[0m\u001b[0mfind\u001b[0m\u001b[1;33m(\u001b[0m\u001b[1;34m'h2'\u001b[0m\u001b[1;33m)\u001b[0m\u001b[1;33m.\u001b[0m\u001b[0mget_text\u001b[0m\u001b[1;33m(\u001b[0m\u001b[1;33m)\u001b[0m\u001b[1;33m.\u001b[0m\u001b[0mstrip\u001b[0m\u001b[1;33m(\u001b[0m\u001b[1;34m'\\n'\u001b[0m\u001b[1;33m)\u001b[0m\u001b[1;33m.\u001b[0m\u001b[0msplit\u001b[0m\u001b[1;33m(\u001b[0m\u001b[1;34m'\\n'\u001b[0m\u001b[1;33m)\u001b[0m\u001b[1;33m[\u001b[0m\u001b[1;36m0\u001b[0m\u001b[1;33m]\u001b[0m\u001b[1;33m\u001b[0m\u001b[1;33m\u001b[0m\u001b[0m\n\u001b[0m",
      "\u001b[1;31mIndexError\u001b[0m: list index out of range"
     ]
    }
   ],
   "source": [
    "soup.select('li.list-restaurant')[i].find('h2').get_text().strip('\\n').split('\\n')[0]"
   ]
  },
  {
   "cell_type": "code",
   "execution_count": 151,
   "metadata": {},
   "outputs": [],
   "source": [
    "img = soup.select('ul.list-restaurants')[0].find('img').attrs['data-original']"
   ]
  },
  {
   "cell_type": "code",
   "execution_count": 152,
   "metadata": {},
   "outputs": [],
   "source": [
    "title = soup.select('ul.list-restaurants')[0].find('h2').get_text().strip('\\n')"
   ]
  },
  {
   "cell_type": "code",
   "execution_count": 153,
   "metadata": {},
   "outputs": [],
   "source": [
    "point = soup.select('ul.list-restaurants')[0].find('strong').text"
   ]
  },
  {
   "cell_type": "code",
   "execution_count": 154,
   "metadata": {},
   "outputs": [],
   "source": [
    "info = soup.select('ul.list-restaurants')[0].find('p').text"
   ]
  },
  {
   "cell_type": "code",
   "execution_count": 159,
   "metadata": {},
   "outputs": [],
   "source": [
    "img_list, title_list, point_list, info_list, addr_list, link_list =[],[],[],[],[],[]\n",
    "for i in range(10):\n",
    "    try:\n",
    "        title = soup.select('li.list-restaurant')[i].find('h2').get_text().strip('\\n').split('\\n')[0]\n",
    "        img = soup.select('li.list-restaurant')[i].find('img').attrs['data-original'].replace('359:240','120:80')\n",
    "        point = soup.select('li.list-restaurant')[i].find('strong').text\n",
    "        info = soup.select('li.list-restaurant')[i].find('p').text\n",
    "        addr = soup.select('li.list-restaurant')[i].find('img').attrs['alt'].split(' - ')[1]\n",
    "        link = soup.select('li.list-restaurant')[i].find('a').attrs['href']\n",
    "        title_list.append(title)\n",
    "        img_list.append(img)\n",
    "        point_list.append(point)\n",
    "        info_list.append(info)\n",
    "        addr_list.append(addr)\n",
    "        link_list.append('https://www.mangoplate.com/' + link)\n",
    "        title = soup.select('li.list-restaurant')[i].find_all('h2')[1].get_text().strip('\\n').split('\\n')[0]\n",
    "        img = soup.select('li.list-restaurant')[i].find_all('img')[1].attrs['data-original'].replace('359:240','120:80')\n",
    "        point = soup.select('li.list-restaurant')[i].find_all('strong')[1].text\n",
    "        info = soup.select('li.list-restaurant')[i].find_all('p')[2].text\n",
    "        addr = soup.select('li.list-restaurant')[i].find_all('img')[1].attrs['alt'].split(' - ')[1]\n",
    "        link = soup.select('li.list-restaurant')[i].find_all('a')[3].attrs['href']\n",
    "        title_list.append(title)\n",
    "        img_list.append(img)\n",
    "        point_list.append(point)\n",
    "        info_list.append(info)\n",
    "        addr_list.append(addr)\n",
    "        link_list.append('https://www.mangoplate.com/' + link)\n",
    "    except:\n",
    "        pass"
   ]
  },
  {
   "cell_type": "code",
   "execution_count": 160,
   "metadata": {},
   "outputs": [],
   "source": [
    "mango_dict = dict({\n",
    "    'title' : title_list,\n",
    "    'img' : img_list,\n",
    "    'point' : point_list,\n",
    "    'info' : info_list,\n",
    "    'addr' : addr_list,\n",
    "    'link' : link_list\n",
    "})"
   ]
  },
  {
   "cell_type": "code",
   "execution_count": 164,
   "metadata": {},
   "outputs": [
    {
     "output_type": "execute_result",
     "data": {
      "text/plain": [
       "4"
      ]
     },
     "metadata": {},
     "execution_count": 164
    }
   ],
   "source": [
    "len(mango_dict['title'])"
   ]
  },
  {
   "cell_type": "code",
   "execution_count": 8,
   "metadata": {},
   "outputs": [],
   "source": [
    "url = 'https://www.nielsenkorea.co.kr/tv_terrestrial_day.asp?menu=Tit_1&sub_menu=1_1&area=01&begin_date=202012'\n",
    "req = requests.get(url)\n",
    "html = req.content.decode('utf-8','replace') \n",
    "soup = BeautifulSoup(html, 'html.parser')"
   ]
  },
  {
   "cell_type": "code",
   "execution_count": 54,
   "metadata": {},
   "outputs": [],
   "source": [
    "b = soup.select('table.ranking_tb')[1]"
   ]
  },
  {
   "cell_type": "code",
   "execution_count": 65,
   "metadata": {},
   "outputs": [
    {
     "output_type": "execute_result",
     "data": {
      "text/plain": [
       "'지상파 일일'"
      ]
     },
     "metadata": {},
     "execution_count": 65
    }
   ],
   "source": [
    "soup.select_one('span.subbody_tit_kor').text"
   ]
  },
  {
   "cell_type": "code",
   "execution_count": null,
   "metadata": {},
   "outputs": [],
   "source": [
    "family = soup.select_one('table.ranking_tb')\n",
    "family = str(family).replace('class=\"ranking_tb\"','table class=\"table table-bordered table-sm\"')\n",
    "viewer = soup.select('table.ranking_tb')[1]\n",
    "viewer = str(viewer).replace('class=\"ranking_tb\"','table class=\"table table-bordered table-sm\"')\n",
    "title = soup.select_one('span.subbody_tit_kor').text"
   ]
  },
  {
   "cell_type": "code",
   "execution_count": null,
   "metadata": {},
   "outputs": [],
   "source": []
  }
 ]
}