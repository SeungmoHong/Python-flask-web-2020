{
 "metadata": {
  "language_info": {
   "codemirror_mode": {
    "name": "ipython",
    "version": 3
   },
   "file_extension": ".py",
   "mimetype": "text/x-python",
   "name": "python",
   "nbconvert_exporter": "python",
   "pygments_lexer": "ipython3",
   "version": "3.8.5-final"
  },
  "orig_nbformat": 2,
  "kernelspec": {
   "name": "python3",
   "display_name": "Python 3",
   "language": "python"
  }
 },
 "nbformat": 4,
 "nbformat_minor": 2,
 "cells": [
  {
   "cell_type": "code",
   "execution_count": 1,
   "metadata": {},
   "outputs": [],
   "source": [
    "import numpy as np\n",
    "import pandas as pd\n",
    "import matplotlib as mpl\n",
    "import matplotlib.pyplot as plt\n",
    "%matplotlib inline\n",
    "mpl.rc('font', family='Malgun Gothic')\n",
    "mpl.rc('axes', unicode_minus=False)\n",
    "import folium\n",
    "import json\n",
    "import warnings\n",
    "warnings.simplefilter(action='ignore', category=FutureWarning)"
   ]
  },
  {
   "cell_type": "code",
   "execution_count": 2,
   "metadata": {},
   "outputs": [
    {
     "output_type": "execute_result",
     "data": {
      "text/plain": [
       "17"
      ]
     },
     "metadata": {},
     "execution_count": 2
    }
   ],
   "source": [
    "from glob import glob\n",
    "# 파일 갯수 확인\n",
    "len(glob('./과제data/소상공인*.csv'))"
   ]
  },
  {
   "cell_type": "code",
   "execution_count": 68,
   "metadata": {},
   "outputs": [],
   "source": [
    "all_shop = glob('./과제data/소상공인*.csv')"
   ]
  },
  {
   "cell_type": "code",
   "execution_count": 69,
   "metadata": {},
   "outputs": [],
   "source": [
    "df = pd.read_csv(all_shop[1], sep='|')\n",
    "df['상호명'] = df['상호명'].str.lower()"
   ]
  },
  {
   "cell_type": "code",
   "execution_count": 70,
   "metadata": {},
   "outputs": [
    {
     "output_type": "execute_result",
     "data": {
      "text/plain": [
       "          상가업소번호        상호명     지점명 상권업종대분류코드 상권업종대분류명 상권업종중분류코드 상권업종중분류명  \\\n",
       "2222    19956559  롯데리아평택안중점   평택안중점         Q       음식       Q07    패스트푸드   \n",
       "3016    20637991       롯데리아    당동지점         Q       음식       Q07    패스트푸드   \n",
       "3148    20619175  롯데리아양주덕정점   양주덕정점         Q       음식       Q07    패스트푸드   \n",
       "17277   20078050   롯데리아회룡역점    회룡역점         Q       음식       Q07    패스트푸드   \n",
       "18075   20394535       롯데리아   안양관양점         Q       음식       Q07    패스트푸드   \n",
       "...          ...        ...     ...       ...      ...       ...      ...   \n",
       "587508  16595031       롯데리아    미사역점         Q       음식       Q07    패스트푸드   \n",
       "592981  16952724       롯데리아    야당역점         Q       음식       Q07    패스트푸드   \n",
       "593058  16958185       롯데리아   김포풍무점         Q       음식       Q07    패스트푸드   \n",
       "594198  16953986       롯데리아   화도DT점         Q       음식       Q07    패스트푸드   \n",
       "598741  16702031       롯데리아  의정부민락점         Q       음식       Q07    패스트푸드   \n",
       "\n",
       "       상권업종소분류코드 상권업종소분류명 표준산업분류코드  ...                     건물관리번호    건물명  \\\n",
       "2222      Q07A04    패스트푸드   I56199  ...  4122025321102780015000005    NaN   \n",
       "3016      Q07A04    패스트푸드   I56199  ...  4141010100109210002002005    NaN   \n",
       "3148      Q07A04    패스트푸드   I56199  ...  4163011000102080008012492  황금프라자   \n",
       "17277     Q07A04    패스트푸드   I56199  ...  4115010200104250000015334  한승아파트   \n",
       "18075     Q07A04    패스트푸드   I56199  ...  4117310200113840025003358    NaN   \n",
       "...          ...      ...      ...  ...                        ...    ...   \n",
       "587508    Q07A04    패스트푸드   I56199  ...  4145010900110790002000001   성산타워   \n",
       "592981    Q07A04    패스트푸드   I56199  ...  4148010800110720000000001    NaN   \n",
       "593058    Q07A04    패스트푸드   I56199  ...  4157010700101150008022545    NaN   \n",
       "594198    Q07A04    패스트푸드   I56199  ...  4136025622103580006002730    NaN   \n",
       "598741    Q07A04    패스트푸드   I56199  ...  4115010600108040006000001    NaN   \n",
       "\n",
       "                            도로명주소     구우편번호    신우편번호  동정보  층정보  호정보  \\\n",
       "2222        경기도 평택시 안중읍 안중로 109-1  451884.0  17933.0  277    2   17   \n",
       "3016              경기도 군포시 고산로 262  435010.0  15856.0  NaN    1  NaN   \n",
       "3148           경기도 양주시 고암길 306-77  482060.0  11456.0  NaN    1  NaN   \n",
       "17277            경기도 의정부시 평화로 374  480786.0  11704.0  112    2  116   \n",
       "18075        경기도 안양시 동안구 관악대로 291  431060.0  13940.0  NaN    1  NaN   \n",
       "...                           ...       ...      ...  ...  ...  ...   \n",
       "587508        경기도 하남시 미사강변중앙로 218  465150.0  12913.0  NaN  NaN  NaN   \n",
       "592981           경기도 파주시 경의로 1092  413200.0  10908.0  NaN  NaN  114   \n",
       "593058            경기도 김포시 풍무로 122  415808.0  10114.0  NaN  NaN  NaN   \n",
       "594198  경기도 남양주시 화도읍 먹갓로28번길 77-4  472846.0  12171.0    2    2    1   \n",
       "598741            경기도 의정부시 천보로 44  480090.0  11813.0  NaN    1  NaN   \n",
       "\n",
       "                경도         위도  \n",
       "2222    126.928617  36.988845  \n",
       "3016    126.943597  37.346761  \n",
       "3148    127.068638  37.836745  \n",
       "17277   127.048539  37.725282  \n",
       "18075   126.955321  37.403154  \n",
       "...            ...        ...  \n",
       "587508  127.189648  37.566392  \n",
       "592981  126.760073  37.714906  \n",
       "593058  126.722794  37.606279  \n",
       "594198  127.284175  37.657901  \n",
       "598741  127.096303  37.744309  \n",
       "\n",
       "[294 rows x 39 columns]"
      ],
      "text/html": "<div>\n<style scoped>\n    .dataframe tbody tr th:only-of-type {\n        vertical-align: middle;\n    }\n\n    .dataframe tbody tr th {\n        vertical-align: top;\n    }\n\n    .dataframe thead th {\n        text-align: right;\n    }\n</style>\n<table border=\"1\" class=\"dataframe\">\n  <thead>\n    <tr style=\"text-align: right;\">\n      <th></th>\n      <th>상가업소번호</th>\n      <th>상호명</th>\n      <th>지점명</th>\n      <th>상권업종대분류코드</th>\n      <th>상권업종대분류명</th>\n      <th>상권업종중분류코드</th>\n      <th>상권업종중분류명</th>\n      <th>상권업종소분류코드</th>\n      <th>상권업종소분류명</th>\n      <th>표준산업분류코드</th>\n      <th>...</th>\n      <th>건물관리번호</th>\n      <th>건물명</th>\n      <th>도로명주소</th>\n      <th>구우편번호</th>\n      <th>신우편번호</th>\n      <th>동정보</th>\n      <th>층정보</th>\n      <th>호정보</th>\n      <th>경도</th>\n      <th>위도</th>\n    </tr>\n  </thead>\n  <tbody>\n    <tr>\n      <th>2222</th>\n      <td>19956559</td>\n      <td>롯데리아평택안중점</td>\n      <td>평택안중점</td>\n      <td>Q</td>\n      <td>음식</td>\n      <td>Q07</td>\n      <td>패스트푸드</td>\n      <td>Q07A04</td>\n      <td>패스트푸드</td>\n      <td>I56199</td>\n      <td>...</td>\n      <td>4122025321102780015000005</td>\n      <td>NaN</td>\n      <td>경기도 평택시 안중읍 안중로 109-1</td>\n      <td>451884.0</td>\n      <td>17933.0</td>\n      <td>277</td>\n      <td>2</td>\n      <td>17</td>\n      <td>126.928617</td>\n      <td>36.988845</td>\n    </tr>\n    <tr>\n      <th>3016</th>\n      <td>20637991</td>\n      <td>롯데리아</td>\n      <td>당동지점</td>\n      <td>Q</td>\n      <td>음식</td>\n      <td>Q07</td>\n      <td>패스트푸드</td>\n      <td>Q07A04</td>\n      <td>패스트푸드</td>\n      <td>I56199</td>\n      <td>...</td>\n      <td>4141010100109210002002005</td>\n      <td>NaN</td>\n      <td>경기도 군포시 고산로 262</td>\n      <td>435010.0</td>\n      <td>15856.0</td>\n      <td>NaN</td>\n      <td>1</td>\n      <td>NaN</td>\n      <td>126.943597</td>\n      <td>37.346761</td>\n    </tr>\n    <tr>\n      <th>3148</th>\n      <td>20619175</td>\n      <td>롯데리아양주덕정점</td>\n      <td>양주덕정점</td>\n      <td>Q</td>\n      <td>음식</td>\n      <td>Q07</td>\n      <td>패스트푸드</td>\n      <td>Q07A04</td>\n      <td>패스트푸드</td>\n      <td>I56199</td>\n      <td>...</td>\n      <td>4163011000102080008012492</td>\n      <td>황금프라자</td>\n      <td>경기도 양주시 고암길 306-77</td>\n      <td>482060.0</td>\n      <td>11456.0</td>\n      <td>NaN</td>\n      <td>1</td>\n      <td>NaN</td>\n      <td>127.068638</td>\n      <td>37.836745</td>\n    </tr>\n    <tr>\n      <th>17277</th>\n      <td>20078050</td>\n      <td>롯데리아회룡역점</td>\n      <td>회룡역점</td>\n      <td>Q</td>\n      <td>음식</td>\n      <td>Q07</td>\n      <td>패스트푸드</td>\n      <td>Q07A04</td>\n      <td>패스트푸드</td>\n      <td>I56199</td>\n      <td>...</td>\n      <td>4115010200104250000015334</td>\n      <td>한승아파트</td>\n      <td>경기도 의정부시 평화로 374</td>\n      <td>480786.0</td>\n      <td>11704.0</td>\n      <td>112</td>\n      <td>2</td>\n      <td>116</td>\n      <td>127.048539</td>\n      <td>37.725282</td>\n    </tr>\n    <tr>\n      <th>18075</th>\n      <td>20394535</td>\n      <td>롯데리아</td>\n      <td>안양관양점</td>\n      <td>Q</td>\n      <td>음식</td>\n      <td>Q07</td>\n      <td>패스트푸드</td>\n      <td>Q07A04</td>\n      <td>패스트푸드</td>\n      <td>I56199</td>\n      <td>...</td>\n      <td>4117310200113840025003358</td>\n      <td>NaN</td>\n      <td>경기도 안양시 동안구 관악대로 291</td>\n      <td>431060.0</td>\n      <td>13940.0</td>\n      <td>NaN</td>\n      <td>1</td>\n      <td>NaN</td>\n      <td>126.955321</td>\n      <td>37.403154</td>\n    </tr>\n    <tr>\n      <th>...</th>\n      <td>...</td>\n      <td>...</td>\n      <td>...</td>\n      <td>...</td>\n      <td>...</td>\n      <td>...</td>\n      <td>...</td>\n      <td>...</td>\n      <td>...</td>\n      <td>...</td>\n      <td>...</td>\n      <td>...</td>\n      <td>...</td>\n      <td>...</td>\n      <td>...</td>\n      <td>...</td>\n      <td>...</td>\n      <td>...</td>\n      <td>...</td>\n      <td>...</td>\n      <td>...</td>\n    </tr>\n    <tr>\n      <th>587508</th>\n      <td>16595031</td>\n      <td>롯데리아</td>\n      <td>미사역점</td>\n      <td>Q</td>\n      <td>음식</td>\n      <td>Q07</td>\n      <td>패스트푸드</td>\n      <td>Q07A04</td>\n      <td>패스트푸드</td>\n      <td>I56199</td>\n      <td>...</td>\n      <td>4145010900110790002000001</td>\n      <td>성산타워</td>\n      <td>경기도 하남시 미사강변중앙로 218</td>\n      <td>465150.0</td>\n      <td>12913.0</td>\n      <td>NaN</td>\n      <td>NaN</td>\n      <td>NaN</td>\n      <td>127.189648</td>\n      <td>37.566392</td>\n    </tr>\n    <tr>\n      <th>592981</th>\n      <td>16952724</td>\n      <td>롯데리아</td>\n      <td>야당역점</td>\n      <td>Q</td>\n      <td>음식</td>\n      <td>Q07</td>\n      <td>패스트푸드</td>\n      <td>Q07A04</td>\n      <td>패스트푸드</td>\n      <td>I56199</td>\n      <td>...</td>\n      <td>4148010800110720000000001</td>\n      <td>NaN</td>\n      <td>경기도 파주시 경의로 1092</td>\n      <td>413200.0</td>\n      <td>10908.0</td>\n      <td>NaN</td>\n      <td>NaN</td>\n      <td>114</td>\n      <td>126.760073</td>\n      <td>37.714906</td>\n    </tr>\n    <tr>\n      <th>593058</th>\n      <td>16958185</td>\n      <td>롯데리아</td>\n      <td>김포풍무점</td>\n      <td>Q</td>\n      <td>음식</td>\n      <td>Q07</td>\n      <td>패스트푸드</td>\n      <td>Q07A04</td>\n      <td>패스트푸드</td>\n      <td>I56199</td>\n      <td>...</td>\n      <td>4157010700101150008022545</td>\n      <td>NaN</td>\n      <td>경기도 김포시 풍무로 122</td>\n      <td>415808.0</td>\n      <td>10114.0</td>\n      <td>NaN</td>\n      <td>NaN</td>\n      <td>NaN</td>\n      <td>126.722794</td>\n      <td>37.606279</td>\n    </tr>\n    <tr>\n      <th>594198</th>\n      <td>16953986</td>\n      <td>롯데리아</td>\n      <td>화도DT점</td>\n      <td>Q</td>\n      <td>음식</td>\n      <td>Q07</td>\n      <td>패스트푸드</td>\n      <td>Q07A04</td>\n      <td>패스트푸드</td>\n      <td>I56199</td>\n      <td>...</td>\n      <td>4136025622103580006002730</td>\n      <td>NaN</td>\n      <td>경기도 남양주시 화도읍 먹갓로28번길 77-4</td>\n      <td>472846.0</td>\n      <td>12171.0</td>\n      <td>2</td>\n      <td>2</td>\n      <td>1</td>\n      <td>127.284175</td>\n      <td>37.657901</td>\n    </tr>\n    <tr>\n      <th>598741</th>\n      <td>16702031</td>\n      <td>롯데리아</td>\n      <td>의정부민락점</td>\n      <td>Q</td>\n      <td>음식</td>\n      <td>Q07</td>\n      <td>패스트푸드</td>\n      <td>Q07A04</td>\n      <td>패스트푸드</td>\n      <td>I56199</td>\n      <td>...</td>\n      <td>4115010600108040006000001</td>\n      <td>NaN</td>\n      <td>경기도 의정부시 천보로 44</td>\n      <td>480090.0</td>\n      <td>11813.0</td>\n      <td>NaN</td>\n      <td>1</td>\n      <td>NaN</td>\n      <td>127.096303</td>\n      <td>37.744309</td>\n    </tr>\n  </tbody>\n</table>\n<p>294 rows × 39 columns</p>\n</div>"
     },
     "metadata": {},
     "execution_count": 70
    }
   ],
   "source": [
    "tmp[tmp['상호명'].str.find('롯데리아') != -1]"
   ]
  },
  {
   "cell_type": "code",
   "execution_count": 71,
   "metadata": {},
   "outputs": [
    {
     "output_type": "execute_result",
     "data": {
      "text/plain": [
       "          상가업소번호   상호명    지점명 상권업종대분류코드 상권업종대분류명 상권업종중분류코드 상권업종중분류명 상권업종소분류코드  \\\n",
       "333094  19961669  롯데리아  광명하안점         Q       음식       Q07    패스트푸드    Q07A04   \n",
       "408624  12070752  롯데리아  광명역사점         Q       음식       Q01       한식    Q01A01   \n",
       "\n",
       "         상권업종소분류명 표준산업분류코드  ...                     건물관리번호      건물명  \\\n",
       "333094      패스트푸드   I56199  ...  4121010300100340008012304      NaN   \n",
       "408624  한식/백반/한정식   I56111  ...  4121010600102760008014873  고속철도광명역   \n",
       "\n",
       "                   도로명주소     구우편번호    신우편번호  동정보 층정보  호정보          경도  \\\n",
       "333094  경기도 광명시 범안로 1045  423060.0  14248.0  NaN   1  NaN  126.878829   \n",
       "408624   경기도 광명시 광명역로 21  423090.0  14347.0  NaN   1  NaN  126.884837   \n",
       "\n",
       "               위도  \n",
       "333094  37.462419  \n",
       "408624  37.416369  \n",
       "\n",
       "[2 rows x 39 columns]"
      ],
      "text/html": "<div>\n<style scoped>\n    .dataframe tbody tr th:only-of-type {\n        vertical-align: middle;\n    }\n\n    .dataframe tbody tr th {\n        vertical-align: top;\n    }\n\n    .dataframe thead th {\n        text-align: right;\n    }\n</style>\n<table border=\"1\" class=\"dataframe\">\n  <thead>\n    <tr style=\"text-align: right;\">\n      <th></th>\n      <th>상가업소번호</th>\n      <th>상호명</th>\n      <th>지점명</th>\n      <th>상권업종대분류코드</th>\n      <th>상권업종대분류명</th>\n      <th>상권업종중분류코드</th>\n      <th>상권업종중분류명</th>\n      <th>상권업종소분류코드</th>\n      <th>상권업종소분류명</th>\n      <th>표준산업분류코드</th>\n      <th>...</th>\n      <th>건물관리번호</th>\n      <th>건물명</th>\n      <th>도로명주소</th>\n      <th>구우편번호</th>\n      <th>신우편번호</th>\n      <th>동정보</th>\n      <th>층정보</th>\n      <th>호정보</th>\n      <th>경도</th>\n      <th>위도</th>\n    </tr>\n  </thead>\n  <tbody>\n    <tr>\n      <th>333094</th>\n      <td>19961669</td>\n      <td>롯데리아</td>\n      <td>광명하안점</td>\n      <td>Q</td>\n      <td>음식</td>\n      <td>Q07</td>\n      <td>패스트푸드</td>\n      <td>Q07A04</td>\n      <td>패스트푸드</td>\n      <td>I56199</td>\n      <td>...</td>\n      <td>4121010300100340008012304</td>\n      <td>NaN</td>\n      <td>경기도 광명시 범안로 1045</td>\n      <td>423060.0</td>\n      <td>14248.0</td>\n      <td>NaN</td>\n      <td>1</td>\n      <td>NaN</td>\n      <td>126.878829</td>\n      <td>37.462419</td>\n    </tr>\n    <tr>\n      <th>408624</th>\n      <td>12070752</td>\n      <td>롯데리아</td>\n      <td>광명역사점</td>\n      <td>Q</td>\n      <td>음식</td>\n      <td>Q01</td>\n      <td>한식</td>\n      <td>Q01A01</td>\n      <td>한식/백반/한정식</td>\n      <td>I56111</td>\n      <td>...</td>\n      <td>4121010600102760008014873</td>\n      <td>고속철도광명역</td>\n      <td>경기도 광명시 광명역로 21</td>\n      <td>423090.0</td>\n      <td>14347.0</td>\n      <td>NaN</td>\n      <td>1</td>\n      <td>NaN</td>\n      <td>126.884837</td>\n      <td>37.416369</td>\n    </tr>\n  </tbody>\n</table>\n<p>2 rows × 39 columns</p>\n</div>"
     },
     "metadata": {},
     "execution_count": 71
    }
   ],
   "source": [
    "tmp[(tmp['도로명주소'].str.contains('경기도 광명시')) & (tmp['상호명'].str.contains('롯데리아')) ]"
   ]
  },
  {
   "cell_type": "code",
   "execution_count": 72,
   "metadata": {},
   "outputs": [
    {
     "output_type": "execute_result",
     "data": {
      "text/plain": [
       "124"
      ]
     },
     "metadata": {},
     "execution_count": 72
    }
   ],
   "source": [
    "len(tmp[(tmp['상호명'].str.contains('케이에프시')) | (tmp['상호명'].str.contains('kfc')) | (tmp['상호명'].str.contains('케이에프씨'))])"
   ]
  },
  {
   "cell_type": "code",
   "execution_count": null,
   "metadata": {},
   "outputs": [],
   "source": []
  },
  {
   "cell_type": "code",
   "execution_count": 73,
   "metadata": {},
   "outputs": [],
   "source": [
    "import cartogram.fillter as ft\n"
   ]
  },
  {
   "cell_type": "code",
   "execution_count": 74,
   "metadata": {},
   "outputs": [],
   "source": [
    "c_d = ft.fillter(all_shop)"
   ]
  },
  {
   "cell_type": "code",
   "execution_count": 75,
   "metadata": {},
   "outputs": [],
   "source": [
    "c_p = pd.DataFrame(c_d)"
   ]
  },
  {
   "cell_type": "code",
   "execution_count": 76,
   "metadata": {},
   "outputs": [],
   "source": [
    "c_p.rename({0:'ID', 1:'버거킹', 2: '맥도날드', 3:'KFC', 4:'롯데리아', 5:'맘스터치'},axis=1 ,inplace=True)"
   ]
  },
  {
   "cell_type": "code",
   "execution_count": 77,
   "metadata": {},
   "outputs": [],
   "source": [
    "c_p['버거지수'] = (c_p['버거킹'] + c_p['맥도날드'] + c_p['KFC']) / (c_p['롯데리아'] + c_p['맘스터치'])"
   ]
  },
  {
   "cell_type": "code",
   "execution_count": 78,
   "metadata": {},
   "outputs": [
    {
     "output_type": "execute_result",
     "data": {
      "text/plain": [
       "     ID  버거킹  맥도날드  KFC  롯데리아  맘스터치      버거지수\n",
       "0    홍천    4     3    0     3     1  1.750000\n",
       "1    강릉    1     5    0     5     4  0.666667\n",
       "2    영월    0     0    0     0     0       NaN\n",
       "3    원주    1    13    0    13     4  0.823529\n",
       "4    삼척    0     0    0     0     1  0.000000\n",
       "..   ..  ...   ...  ...   ...   ...       ...\n",
       "245  괴산    0     1    0     1     0  1.000000\n",
       "246  증평    0     1    0     1     1  0.500000\n",
       "247  영동    0     0    0     0     0       NaN\n",
       "248  단양    0     0    0     0     0       NaN\n",
       "249  보은    0     1    0     1     0  1.000000\n",
       "\n",
       "[250 rows x 7 columns]"
      ],
      "text/html": "<div>\n<style scoped>\n    .dataframe tbody tr th:only-of-type {\n        vertical-align: middle;\n    }\n\n    .dataframe tbody tr th {\n        vertical-align: top;\n    }\n\n    .dataframe thead th {\n        text-align: right;\n    }\n</style>\n<table border=\"1\" class=\"dataframe\">\n  <thead>\n    <tr style=\"text-align: right;\">\n      <th></th>\n      <th>ID</th>\n      <th>버거킹</th>\n      <th>맥도날드</th>\n      <th>KFC</th>\n      <th>롯데리아</th>\n      <th>맘스터치</th>\n      <th>버거지수</th>\n    </tr>\n  </thead>\n  <tbody>\n    <tr>\n      <th>0</th>\n      <td>홍천</td>\n      <td>4</td>\n      <td>3</td>\n      <td>0</td>\n      <td>3</td>\n      <td>1</td>\n      <td>1.750000</td>\n    </tr>\n    <tr>\n      <th>1</th>\n      <td>강릉</td>\n      <td>1</td>\n      <td>5</td>\n      <td>0</td>\n      <td>5</td>\n      <td>4</td>\n      <td>0.666667</td>\n    </tr>\n    <tr>\n      <th>2</th>\n      <td>영월</td>\n      <td>0</td>\n      <td>0</td>\n      <td>0</td>\n      <td>0</td>\n      <td>0</td>\n      <td>NaN</td>\n    </tr>\n    <tr>\n      <th>3</th>\n      <td>원주</td>\n      <td>1</td>\n      <td>13</td>\n      <td>0</td>\n      <td>13</td>\n      <td>4</td>\n      <td>0.823529</td>\n    </tr>\n    <tr>\n      <th>4</th>\n      <td>삼척</td>\n      <td>0</td>\n      <td>0</td>\n      <td>0</td>\n      <td>0</td>\n      <td>1</td>\n      <td>0.000000</td>\n    </tr>\n    <tr>\n      <th>...</th>\n      <td>...</td>\n      <td>...</td>\n      <td>...</td>\n      <td>...</td>\n      <td>...</td>\n      <td>...</td>\n      <td>...</td>\n    </tr>\n    <tr>\n      <th>245</th>\n      <td>괴산</td>\n      <td>0</td>\n      <td>1</td>\n      <td>0</td>\n      <td>1</td>\n      <td>0</td>\n      <td>1.000000</td>\n    </tr>\n    <tr>\n      <th>246</th>\n      <td>증평</td>\n      <td>0</td>\n      <td>1</td>\n      <td>0</td>\n      <td>1</td>\n      <td>1</td>\n      <td>0.500000</td>\n    </tr>\n    <tr>\n      <th>247</th>\n      <td>영동</td>\n      <td>0</td>\n      <td>0</td>\n      <td>0</td>\n      <td>0</td>\n      <td>0</td>\n      <td>NaN</td>\n    </tr>\n    <tr>\n      <th>248</th>\n      <td>단양</td>\n      <td>0</td>\n      <td>0</td>\n      <td>0</td>\n      <td>0</td>\n      <td>0</td>\n      <td>NaN</td>\n    </tr>\n    <tr>\n      <th>249</th>\n      <td>보은</td>\n      <td>0</td>\n      <td>1</td>\n      <td>0</td>\n      <td>1</td>\n      <td>0</td>\n      <td>1.000000</td>\n    </tr>\n  </tbody>\n</table>\n<p>250 rows × 7 columns</p>\n</div>"
     },
     "metadata": {},
     "execution_count": 78
    }
   ],
   "source": [
    "c_p"
   ]
  },
  {
   "cell_type": "code",
   "execution_count": 79,
   "metadata": {},
   "outputs": [
    {
     "output_type": "execute_result",
     "data": {
      "text/plain": [
       "   ID  버거킹  맥도날드  KFC  롯데리아  맘스터치  버거지수\n",
       "9  동해    0     0    1     0     0   inf"
      ],
      "text/html": "<div>\n<style scoped>\n    .dataframe tbody tr th:only-of-type {\n        vertical-align: middle;\n    }\n\n    .dataframe tbody tr th {\n        vertical-align: top;\n    }\n\n    .dataframe thead th {\n        text-align: right;\n    }\n</style>\n<table border=\"1\" class=\"dataframe\">\n  <thead>\n    <tr style=\"text-align: right;\">\n      <th></th>\n      <th>ID</th>\n      <th>버거킹</th>\n      <th>맥도날드</th>\n      <th>KFC</th>\n      <th>롯데리아</th>\n      <th>맘스터치</th>\n      <th>버거지수</th>\n    </tr>\n  </thead>\n  <tbody>\n    <tr>\n      <th>9</th>\n      <td>동해</td>\n      <td>0</td>\n      <td>0</td>\n      <td>1</td>\n      <td>0</td>\n      <td>0</td>\n      <td>inf</td>\n    </tr>\n  </tbody>\n</table>\n</div>"
     },
     "metadata": {},
     "execution_count": 79
    }
   ],
   "source": [
    "c_p[c_p['버거지수'] == np.inf]"
   ]
  },
  {
   "cell_type": "code",
   "execution_count": 80,
   "metadata": {},
   "outputs": [],
   "source": [
    "c_p.replace([np.inf], 0,inplace=True)"
   ]
  },
  {
   "cell_type": "code",
   "execution_count": 81,
   "metadata": {},
   "outputs": [],
   "source": [
    "c_p = c_p.fillna(0)"
   ]
  },
  {
   "cell_type": "code",
   "execution_count": 82,
   "metadata": {},
   "outputs": [],
   "source": [
    "draw_korea_raw = pd.read_excel('./과제data/draw_korea_raw(수정).xlsx')\n",
    "draw_korea_raw_stacked = pd.DataFrame(draw_korea_raw.stack())\n",
    "draw_korea_raw_stacked.reset_index(inplace=True)\n",
    "draw_korea_raw_stacked.rename(columns={'level_0' : 'y', 'level_1' : 'x', 0: 'ID'}, inplace=True)\n",
    "draw_korea = draw_korea_raw_stacked\n",
    "draw_korea.loc[draw_korea['ID'] == '인천 남구', 'ID'] = '인천 미추홀'"
   ]
  },
  {
   "cell_type": "code",
   "execution_count": 83,
   "metadata": {},
   "outputs": [
    {
     "output_type": "execute_result",
     "data": {
      "text/plain": [
       "   ID  버거킹  맥도날드  KFC  롯데리아  맘스터치      버거지수  y   x\n",
       "0  홍천    4     3    0     3     1  1.750000  2   8\n",
       "1  강릉    1     5    0     5     4  0.666667  3  11\n",
       "2  영월    0     0    0     0     0  0.000000  7  10\n",
       "3  원주    1    13    0    13     4  0.823529  5  10\n",
       "4  삼척    0     0    0     0     1  0.000000  5  11"
      ],
      "text/html": "<div>\n<style scoped>\n    .dataframe tbody tr th:only-of-type {\n        vertical-align: middle;\n    }\n\n    .dataframe tbody tr th {\n        vertical-align: top;\n    }\n\n    .dataframe thead th {\n        text-align: right;\n    }\n</style>\n<table border=\"1\" class=\"dataframe\">\n  <thead>\n    <tr style=\"text-align: right;\">\n      <th></th>\n      <th>ID</th>\n      <th>버거킹</th>\n      <th>맥도날드</th>\n      <th>KFC</th>\n      <th>롯데리아</th>\n      <th>맘스터치</th>\n      <th>버거지수</th>\n      <th>y</th>\n      <th>x</th>\n    </tr>\n  </thead>\n  <tbody>\n    <tr>\n      <th>0</th>\n      <td>홍천</td>\n      <td>4</td>\n      <td>3</td>\n      <td>0</td>\n      <td>3</td>\n      <td>1</td>\n      <td>1.750000</td>\n      <td>2</td>\n      <td>8</td>\n    </tr>\n    <tr>\n      <th>1</th>\n      <td>강릉</td>\n      <td>1</td>\n      <td>5</td>\n      <td>0</td>\n      <td>5</td>\n      <td>4</td>\n      <td>0.666667</td>\n      <td>3</td>\n      <td>11</td>\n    </tr>\n    <tr>\n      <th>2</th>\n      <td>영월</td>\n      <td>0</td>\n      <td>0</td>\n      <td>0</td>\n      <td>0</td>\n      <td>0</td>\n      <td>0.000000</td>\n      <td>7</td>\n      <td>10</td>\n    </tr>\n    <tr>\n      <th>3</th>\n      <td>원주</td>\n      <td>1</td>\n      <td>13</td>\n      <td>0</td>\n      <td>13</td>\n      <td>4</td>\n      <td>0.823529</td>\n      <td>5</td>\n      <td>10</td>\n    </tr>\n    <tr>\n      <th>4</th>\n      <td>삼척</td>\n      <td>0</td>\n      <td>0</td>\n      <td>0</td>\n      <td>0</td>\n      <td>1</td>\n      <td>0.000000</td>\n      <td>5</td>\n      <td>11</td>\n    </tr>\n  </tbody>\n</table>\n</div>"
     },
     "metadata": {},
     "execution_count": 83
    }
   ],
   "source": [
    "c_p = pd.merge(c_p, draw_korea, how='left', on=['ID'])\n",
    "c_p.head()"
   ]
  },
  {
   "cell_type": "code",
   "execution_count": 84,
   "metadata": {},
   "outputs": [],
   "source": [
    "c_p.to_csv('./static/data/b_p.csv')"
   ]
  },
  {
   "cell_type": "code",
   "execution_count": 85,
   "metadata": {},
   "outputs": [],
   "source": [
    "df = pd.read_csv('./static/data/b_p.csv')"
   ]
  },
  {
   "cell_type": "code",
   "execution_count": null,
   "metadata": {},
   "outputs": [],
   "source": []
  },
  {
   "cell_type": "code",
   "execution_count": null,
   "metadata": {},
   "outputs": [],
   "source": []
  }
 ]
}