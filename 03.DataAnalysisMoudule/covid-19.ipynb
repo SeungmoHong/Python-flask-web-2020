{
 "metadata": {
  "language_info": {
   "codemirror_mode": {
    "name": "ipython",
    "version": 3
   },
   "file_extension": ".py",
   "mimetype": "text/x-python",
   "name": "python",
   "nbconvert_exporter": "python",
   "pygments_lexer": "ipython3",
   "version": "3.8.5-final"
  },
  "orig_nbformat": 2,
  "kernelspec": {
   "name": "python3",
   "display_name": "Python 3",
   "language": "python"
  }
 },
 "nbformat": 4,
 "nbformat_minor": 2,
 "cells": [
  {
   "cell_type": "code",
   "execution_count": 6,
   "metadata": {},
   "outputs": [],
   "source": [
    "# import\n",
    "import requests\n",
    "from urllib.parse import urlparse\n",
    "import urllib.parse\n",
    "import numpy as np\n",
    "import pandas as pd\n",
    "from bs4 import BeautifulSoup\n",
    "from datetime import datetime\n",
    "import re\n",
    "import seaborn as sns\n",
    "import json\n",
    "import folium\n",
    "import matplotlib as mpl\n",
    "import matplotlib.pyplot as plt\n",
    "%matplotlib inline\n",
    "mpl.rc('font', family='Malgun Gothic')\n",
    "mpl.rc('axes', unicode_minus=False)\n",
    "import sqlite3"
   ]
  },
  {
   "cell_type": "code",
   "execution_count": 7,
   "metadata": {},
   "outputs": [],
   "source": [
    "key_fd = open('./과제data/gov_data_api_key2.txt', mode='r')\n",
    "govapi_key = key_fd.read(100)\n",
    "key_fd.close()"
   ]
  },
  {
   "cell_type": "code",
   "execution_count": 8,
   "metadata": {},
   "outputs": [],
   "source": [
    "start_date = '20200101'\n",
    "end_date = datetime.today().strftime(\"%Y%m%d\")"
   ]
  },
  {
   "source": [
    "### 시도발생현황"
   ],
   "cell_type": "markdown",
   "metadata": {}
  },
  {
   "cell_type": "code",
   "execution_count": 9,
   "metadata": {},
   "outputs": [],
   "source": [
    "corona_url = 'http://openapi.data.go.kr/openapi/service/rest/Covid19/getCovid19SidoInfStateJson'\n",
    "url = f'{corona_url}?ServiceKey={govapi_key+\"3D\"}&pageNo=1&numOfRows=10&startCreateDt={start_date}&endCreateDt={end_date}'"
   ]
  },
  {
   "cell_type": "code",
   "execution_count": 10,
   "metadata": {},
   "outputs": [
    {
     "output_type": "execute_result",
     "data": {
      "text/plain": [
       "'00'"
      ]
     },
     "metadata": {},
     "execution_count": 10
    }
   ],
   "source": [
    "result = requests.get(url)\n",
    "soup = BeautifulSoup(result.text, 'xml')\n",
    "soup.find('resultCode').get_text()"
   ]
  },
  {
   "cell_type": "code",
   "execution_count": 11,
   "metadata": {},
   "outputs": [
    {
     "output_type": "execute_result",
     "data": {
      "text/plain": [
       "'http://openapi.data.go.kr/openapi/service/rest/Covid19/getCovid19SidoInfStateJson?ServiceKey=4pmsbWqWKQ1g%2FJklDSCfNZyXKVMH0PLrPbDNJE%2B9%2FFaj9Xc4IqW74iz2dyAVZI8weoJdDn%2Ba%2B0O5fRwJOcF6wg%3D%3D&pageNo=1&numOfRows=10&startCreateDt=20200101&endCreateDt=20201221'"
      ]
     },
     "metadata": {},
     "execution_count": 11
    }
   ],
   "source": [
    "url"
   ]
  },
  {
   "cell_type": "code",
   "execution_count": 12,
   "metadata": {},
   "outputs": [
    {
     "output_type": "execute_result",
     "data": {
      "text/plain": [
       "                         등록시간 사망자   확진자 광역시도 전일대비  격리해제  격리중 지역발생 해외유입  10만명당  \\\n",
       "0     2020-12-21 09:35:38.526   1  2343   검역   10  1658  684    0   10      -   \n",
       "1     2020-12-21 09:35:38.526   0   252   제주   23   102  150   23    0  18.93   \n",
       "2     2020-12-21 09:35:38.525   3  1077   경남   15   748  326   15    0  26.36   \n",
       "3     2020-12-21 09:35:38.525  61  2035   경북   48  1715  259   48    0  70.05   \n",
       "4     2020-12-21 09:35:38.525   5   508   전남    9   418   85    8    1  25.79   \n",
       "...                       ...  ..   ...  ...  ...   ...  ...  ...  ...    ...   \n",
       "5742   2020-03-02 19:27:57.57   0     0   인천    0                        None   \n",
       "5743   2020-03-02 19:27:57.57   9     0   대구  469                        None   \n",
       "5744   2020-03-02 19:27:57.57   0     0   부산    3                        None   \n",
       "5745   2020-03-02 19:27:57.57   0     0   서울   10                        None   \n",
       "5746   2020-03-02 19:27:57.57  18     0   합계  586                        None   \n",
       "\n",
       "                   기준시간  수정시간  \n",
       "0     2020년 12월 21일 00시  null  \n",
       "1     2020년 12월 21일 00시  null  \n",
       "2     2020년 12월 21일 00시  null  \n",
       "3     2020년 12월 21일 00시  null  \n",
       "4     2020년 12월 21일 00시  null  \n",
       "...                 ...   ...  \n",
       "5742    2020년 3월 1일 16시  None  \n",
       "5743    2020년 3월 1일 16시  None  \n",
       "5744    2020년 3월 1일 16시  None  \n",
       "5745    2020년 3월 1일 16시  None  \n",
       "5746    2020년 3월 1일 16시  None  \n",
       "\n",
       "[5747 rows x 12 columns]"
      ],
      "text/html": "<div>\n<style scoped>\n    .dataframe tbody tr th:only-of-type {\n        vertical-align: middle;\n    }\n\n    .dataframe tbody tr th {\n        vertical-align: top;\n    }\n\n    .dataframe thead th {\n        text-align: right;\n    }\n</style>\n<table border=\"1\" class=\"dataframe\">\n  <thead>\n    <tr style=\"text-align: right;\">\n      <th></th>\n      <th>등록시간</th>\n      <th>사망자</th>\n      <th>확진자</th>\n      <th>광역시도</th>\n      <th>전일대비</th>\n      <th>격리해제</th>\n      <th>격리중</th>\n      <th>지역발생</th>\n      <th>해외유입</th>\n      <th>10만명당</th>\n      <th>기준시간</th>\n      <th>수정시간</th>\n    </tr>\n  </thead>\n  <tbody>\n    <tr>\n      <th>0</th>\n      <td>2020-12-21 09:35:38.526</td>\n      <td>1</td>\n      <td>2343</td>\n      <td>검역</td>\n      <td>10</td>\n      <td>1658</td>\n      <td>684</td>\n      <td>0</td>\n      <td>10</td>\n      <td>-</td>\n      <td>2020년 12월 21일 00시</td>\n      <td>null</td>\n    </tr>\n    <tr>\n      <th>1</th>\n      <td>2020-12-21 09:35:38.526</td>\n      <td>0</td>\n      <td>252</td>\n      <td>제주</td>\n      <td>23</td>\n      <td>102</td>\n      <td>150</td>\n      <td>23</td>\n      <td>0</td>\n      <td>18.93</td>\n      <td>2020년 12월 21일 00시</td>\n      <td>null</td>\n    </tr>\n    <tr>\n      <th>2</th>\n      <td>2020-12-21 09:35:38.525</td>\n      <td>3</td>\n      <td>1077</td>\n      <td>경남</td>\n      <td>15</td>\n      <td>748</td>\n      <td>326</td>\n      <td>15</td>\n      <td>0</td>\n      <td>26.36</td>\n      <td>2020년 12월 21일 00시</td>\n      <td>null</td>\n    </tr>\n    <tr>\n      <th>3</th>\n      <td>2020-12-21 09:35:38.525</td>\n      <td>61</td>\n      <td>2035</td>\n      <td>경북</td>\n      <td>48</td>\n      <td>1715</td>\n      <td>259</td>\n      <td>48</td>\n      <td>0</td>\n      <td>70.05</td>\n      <td>2020년 12월 21일 00시</td>\n      <td>null</td>\n    </tr>\n    <tr>\n      <th>4</th>\n      <td>2020-12-21 09:35:38.525</td>\n      <td>5</td>\n      <td>508</td>\n      <td>전남</td>\n      <td>9</td>\n      <td>418</td>\n      <td>85</td>\n      <td>8</td>\n      <td>1</td>\n      <td>25.79</td>\n      <td>2020년 12월 21일 00시</td>\n      <td>null</td>\n    </tr>\n    <tr>\n      <th>...</th>\n      <td>...</td>\n      <td>...</td>\n      <td>...</td>\n      <td>...</td>\n      <td>...</td>\n      <td>...</td>\n      <td>...</td>\n      <td>...</td>\n      <td>...</td>\n      <td>...</td>\n      <td>...</td>\n      <td>...</td>\n    </tr>\n    <tr>\n      <th>5742</th>\n      <td>2020-03-02 19:27:57.57</td>\n      <td>0</td>\n      <td>0</td>\n      <td>인천</td>\n      <td>0</td>\n      <td></td>\n      <td></td>\n      <td></td>\n      <td></td>\n      <td>None</td>\n      <td>2020년 3월 1일 16시</td>\n      <td>None</td>\n    </tr>\n    <tr>\n      <th>5743</th>\n      <td>2020-03-02 19:27:57.57</td>\n      <td>9</td>\n      <td>0</td>\n      <td>대구</td>\n      <td>469</td>\n      <td></td>\n      <td></td>\n      <td></td>\n      <td></td>\n      <td>None</td>\n      <td>2020년 3월 1일 16시</td>\n      <td>None</td>\n    </tr>\n    <tr>\n      <th>5744</th>\n      <td>2020-03-02 19:27:57.57</td>\n      <td>0</td>\n      <td>0</td>\n      <td>부산</td>\n      <td>3</td>\n      <td></td>\n      <td></td>\n      <td></td>\n      <td></td>\n      <td>None</td>\n      <td>2020년 3월 1일 16시</td>\n      <td>None</td>\n    </tr>\n    <tr>\n      <th>5745</th>\n      <td>2020-03-02 19:27:57.57</td>\n      <td>0</td>\n      <td>0</td>\n      <td>서울</td>\n      <td>10</td>\n      <td></td>\n      <td></td>\n      <td></td>\n      <td></td>\n      <td>None</td>\n      <td>2020년 3월 1일 16시</td>\n      <td>None</td>\n    </tr>\n    <tr>\n      <th>5746</th>\n      <td>2020-03-02 19:27:57.57</td>\n      <td>18</td>\n      <td>0</td>\n      <td>합계</td>\n      <td>586</td>\n      <td></td>\n      <td></td>\n      <td></td>\n      <td></td>\n      <td>None</td>\n      <td>2020년 3월 1일 16시</td>\n      <td>None</td>\n    </tr>\n  </tbody>\n</table>\n<p>5747 rows × 12 columns</p>\n</div>"
     },
     "metadata": {},
     "execution_count": 12
    }
   ],
   "source": [
    "createDt_list,deathCnt_list,defCnt_list,gubun_list,incDec_list = [],[],[],[],[]\n",
    "isolClearCnt_list,isolIngCnt_list,localOccCnt_list,overFlowCnt_list = [],[],[],[]\n",
    "qurRate_list,stdDay_list,updateDt_list = [],[],[]\n",
    "items = soup.find_all('item')\n",
    "for item in items:\n",
    "    createDt_list.append(item.find('createDt').string if item.find('createDt') else '')\n",
    "    deathCnt_list.append(item.find('deathCnt').string if item.find('deathCnt') else '')\n",
    "    defCnt_list.append(item.find('defCnt').string if item.find('defCnt') else 0)\n",
    "    gubun_list.append(item.find('gubun').string if item.find('gubun') else '')\n",
    "    incDec_list.append(item.find('incDec').string if item.find('incDec') else '')\n",
    "    isolClearCnt_list.append(item.find('isolClearCnt').string if item.find('isolClearCnt') else '')\n",
    "    isolIngCnt_list.append(item.find('isolIngCnt').string if item.find('isolIngCnt') else '')\n",
    "    localOccCnt_list.append(item.find('localOccCnt').string if item.find('localOccCnt') else '')\n",
    "    overFlowCnt_list.append(item.find('overFlowCnt').string if item.find('overFlowCnt') else '')\n",
    "    qurRate_list.append(item.find('qurRate').string if item.find('qurRate') else '')\n",
    "    stdDay_list.append(item.find('stdDay').string if item.find('stdDay') else '')\n",
    "    updateDt_list.append(item.find('updateDt').string if item.find('updateDt') else '')\n",
    "\n",
    "df = pd.DataFrame({\n",
    "    '등록시간':createDt_list, '사망자':deathCnt_list, '확진자':defCnt_list,\n",
    "    '광역시도':gubun_list, '전일대비':incDec_list, '격리해제':isolClearCnt_list, \n",
    "    '격리중':isolIngCnt_list, '지역발생':localOccCnt_list,'해외유입':overFlowCnt_list,\n",
    "    '10만명당':qurRate_list, '기준시간':stdDay_list, '수정시간':updateDt_list\n",
    "})\n",
    "df\n"
   ]
  },
  {
   "cell_type": "code",
   "execution_count": 13,
   "metadata": {},
   "outputs": [],
   "source": [
    "df = df[['기준시간', '광역시도', '확진자', '사망자', '전일대비', '격리해제', '격리중', '지역발생', '해외유입', '10만명당']]"
   ]
  },
  {
   "cell_type": "code",
   "execution_count": 14,
   "metadata": {},
   "outputs": [
    {
     "output_type": "stream",
     "name": "stdout",
     "text": [
      "<class 'pandas.core.frame.DataFrame'>\nRangeIndex: 5747 entries, 0 to 5746\nData columns (total 10 columns):\n #   Column  Non-Null Count  Dtype \n---  ------  --------------  ----- \n 0   기준시간    5747 non-null   object\n 1   광역시도    5747 non-null   object\n 2   확진자     5747 non-null   object\n 3   사망자     5747 non-null   object\n 4   전일대비    5747 non-null   object\n 5   격리해제    5747 non-null   object\n 6   격리중     5747 non-null   object\n 7   지역발생    5747 non-null   object\n 8   해외유입    5747 non-null   object\n 9   10만명당   5728 non-null   object\ndtypes: object(10)\nmemory usage: 449.1+ KB\n"
     ]
    }
   ],
   "source": [
    "df.info()"
   ]
  },
  {
   "cell_type": "code",
   "execution_count": 15,
   "metadata": {},
   "outputs": [],
   "source": [
    "df['일자'] = df['기준시간'].apply(lambda r : r.split('일')[0].replace('년 ','-').replace('월 ','-'))"
   ]
  },
  {
   "cell_type": "code",
   "execution_count": 16,
   "metadata": {},
   "outputs": [
    {
     "output_type": "execute_result",
     "data": {
      "text/plain": [
       "0       2020-12-21\n",
       "1       2020-12-21\n",
       "2       2020-12-21\n",
       "3       2020-12-21\n",
       "4       2020-12-21\n",
       "           ...    \n",
       "5742      2020-3-1\n",
       "5743      2020-3-1\n",
       "5744      2020-3-1\n",
       "5745      2020-3-1\n",
       "5746      2020-3-1\n",
       "Name: 일자, Length: 5747, dtype: object"
      ]
     },
     "metadata": {},
     "execution_count": 16
    }
   ],
   "source": [
    "df['일자']"
   ]
  },
  {
   "cell_type": "code",
   "execution_count": 17,
   "metadata": {},
   "outputs": [],
   "source": [
    "df['일자'] = pd.to_datetime(df['일자']) "
   ]
  },
  {
   "cell_type": "code",
   "execution_count": 18,
   "metadata": {},
   "outputs": [],
   "source": [
    "df['일자2'] = df['일자'].astype(str)"
   ]
  },
  {
   "cell_type": "code",
   "execution_count": 19,
   "metadata": {},
   "outputs": [
    {
     "output_type": "stream",
     "name": "stdout",
     "text": [
      "<class 'pandas.core.frame.DataFrame'>\nRangeIndex: 5747 entries, 0 to 5746\nData columns (total 12 columns):\n #   Column  Non-Null Count  Dtype         \n---  ------  --------------  -----         \n 0   기준시간    5747 non-null   object        \n 1   광역시도    5747 non-null   object        \n 2   확진자     5747 non-null   object        \n 3   사망자     5747 non-null   object        \n 4   전일대비    5747 non-null   object        \n 5   격리해제    5747 non-null   object        \n 6   격리중     5747 non-null   object        \n 7   지역발생    5747 non-null   object        \n 8   해외유입    5747 non-null   object        \n 9   10만명당   5728 non-null   object        \n 10  일자      5747 non-null   datetime64[ns]\n 11  일자2     5747 non-null   object        \ndtypes: datetime64[ns](1), object(11)\nmemory usage: 538.9+ KB\n"
     ]
    }
   ],
   "source": [
    "df.info()"
   ]
  },
  {
   "cell_type": "code",
   "execution_count": 20,
   "metadata": {},
   "outputs": [],
   "source": [
    "for i in df['일자2'].unique():\n",
    "    if len(df[df['일자2'] == i]) > 20:\n",
    "        x = df[df['일자2'] == i].tail(len(df[df['일자2'] == i]) - 19).index\n",
    "        for k in x:\n",
    "            df.drop(k, inplace=True)"
   ]
  },
  {
   "cell_type": "code",
   "execution_count": 21,
   "metadata": {},
   "outputs": [
    {
     "output_type": "execute_result",
     "data": {
      "text/plain": [
       "19"
      ]
     },
     "metadata": {},
     "execution_count": 21
    }
   ],
   "source": [
    "len(df[df['일자2'] == '2020-12-17'])"
   ]
  },
  {
   "cell_type": "code",
   "execution_count": 22,
   "metadata": {},
   "outputs": [
    {
     "output_type": "execute_result",
     "data": {
      "text/plain": [
       "                기준시간 광역시도   확진자 사망자 전일대비  격리해제  격리중 지역발생 해외유입  10만명당  \\\n",
       "0  2020년 12월 21일 00시   검역  2343   1   10  1658  684    0   10      -   \n",
       "1  2020년 12월 21일 00시   제주   252   0   23   102  150   23    0  18.93   \n",
       "2  2020년 12월 21일 00시   경남  1077   3   15   748  326   15    0  26.36   \n",
       "3  2020년 12월 21일 00시   경북  2035  61   48  1715  259   48    0  70.05   \n",
       "4  2020년 12월 21일 00시   전남   508   5    9   418   85    8    1  25.79   \n",
       "\n",
       "          일자         일자2  \n",
       "0 2020-12-21  2020-12-21  \n",
       "1 2020-12-21  2020-12-21  \n",
       "2 2020-12-21  2020-12-21  \n",
       "3 2020-12-21  2020-12-21  \n",
       "4 2020-12-21  2020-12-21  "
      ],
      "text/html": "<div>\n<style scoped>\n    .dataframe tbody tr th:only-of-type {\n        vertical-align: middle;\n    }\n\n    .dataframe tbody tr th {\n        vertical-align: top;\n    }\n\n    .dataframe thead th {\n        text-align: right;\n    }\n</style>\n<table border=\"1\" class=\"dataframe\">\n  <thead>\n    <tr style=\"text-align: right;\">\n      <th></th>\n      <th>기준시간</th>\n      <th>광역시도</th>\n      <th>확진자</th>\n      <th>사망자</th>\n      <th>전일대비</th>\n      <th>격리해제</th>\n      <th>격리중</th>\n      <th>지역발생</th>\n      <th>해외유입</th>\n      <th>10만명당</th>\n      <th>일자</th>\n      <th>일자2</th>\n    </tr>\n  </thead>\n  <tbody>\n    <tr>\n      <th>0</th>\n      <td>2020년 12월 21일 00시</td>\n      <td>검역</td>\n      <td>2343</td>\n      <td>1</td>\n      <td>10</td>\n      <td>1658</td>\n      <td>684</td>\n      <td>0</td>\n      <td>10</td>\n      <td>-</td>\n      <td>2020-12-21</td>\n      <td>2020-12-21</td>\n    </tr>\n    <tr>\n      <th>1</th>\n      <td>2020년 12월 21일 00시</td>\n      <td>제주</td>\n      <td>252</td>\n      <td>0</td>\n      <td>23</td>\n      <td>102</td>\n      <td>150</td>\n      <td>23</td>\n      <td>0</td>\n      <td>18.93</td>\n      <td>2020-12-21</td>\n      <td>2020-12-21</td>\n    </tr>\n    <tr>\n      <th>2</th>\n      <td>2020년 12월 21일 00시</td>\n      <td>경남</td>\n      <td>1077</td>\n      <td>3</td>\n      <td>15</td>\n      <td>748</td>\n      <td>326</td>\n      <td>15</td>\n      <td>0</td>\n      <td>26.36</td>\n      <td>2020-12-21</td>\n      <td>2020-12-21</td>\n    </tr>\n    <tr>\n      <th>3</th>\n      <td>2020년 12월 21일 00시</td>\n      <td>경북</td>\n      <td>2035</td>\n      <td>61</td>\n      <td>48</td>\n      <td>1715</td>\n      <td>259</td>\n      <td>48</td>\n      <td>0</td>\n      <td>70.05</td>\n      <td>2020-12-21</td>\n      <td>2020-12-21</td>\n    </tr>\n    <tr>\n      <th>4</th>\n      <td>2020년 12월 21일 00시</td>\n      <td>전남</td>\n      <td>508</td>\n      <td>5</td>\n      <td>9</td>\n      <td>418</td>\n      <td>85</td>\n      <td>8</td>\n      <td>1</td>\n      <td>25.79</td>\n      <td>2020-12-21</td>\n      <td>2020-12-21</td>\n    </tr>\n  </tbody>\n</table>\n</div>"
     },
     "metadata": {},
     "execution_count": 22
    }
   ],
   "source": [
    "df.head()"
   ]
  },
  {
   "cell_type": "code",
   "execution_count": 23,
   "metadata": {},
   "outputs": [],
   "source": [
    "del df['기준시간']\n",
    "del df['일자']\n",
    "df = df[['일자2','광역시도','확진자','사망자','전일대비','격리해제','격리중','지역발생','해외유입','10만명당']]"
   ]
  },
  {
   "cell_type": "code",
   "execution_count": 24,
   "metadata": {},
   "outputs": [
    {
     "output_type": "execute_result",
     "data": {
      "text/plain": [
       "          일자2 광역시도   확진자 사망자 전일대비  격리해제  격리중 지역발생 해외유입  10만명당\n",
       "0  2020-12-21   검역  2343   1   10  1658  684    0   10      -\n",
       "1  2020-12-21   제주   252   0   23   102  150   23    0  18.93\n",
       "2  2020-12-21   경남  1077   3   15   748  326   15    0  26.36\n",
       "3  2020-12-21   경북  2035  61   48  1715  259   48    0  70.05\n",
       "4  2020-12-21   전남   508   5    9   418   85    8    1  25.79"
      ],
      "text/html": "<div>\n<style scoped>\n    .dataframe tbody tr th:only-of-type {\n        vertical-align: middle;\n    }\n\n    .dataframe tbody tr th {\n        vertical-align: top;\n    }\n\n    .dataframe thead th {\n        text-align: right;\n    }\n</style>\n<table border=\"1\" class=\"dataframe\">\n  <thead>\n    <tr style=\"text-align: right;\">\n      <th></th>\n      <th>일자2</th>\n      <th>광역시도</th>\n      <th>확진자</th>\n      <th>사망자</th>\n      <th>전일대비</th>\n      <th>격리해제</th>\n      <th>격리중</th>\n      <th>지역발생</th>\n      <th>해외유입</th>\n      <th>10만명당</th>\n    </tr>\n  </thead>\n  <tbody>\n    <tr>\n      <th>0</th>\n      <td>2020-12-21</td>\n      <td>검역</td>\n      <td>2343</td>\n      <td>1</td>\n      <td>10</td>\n      <td>1658</td>\n      <td>684</td>\n      <td>0</td>\n      <td>10</td>\n      <td>-</td>\n    </tr>\n    <tr>\n      <th>1</th>\n      <td>2020-12-21</td>\n      <td>제주</td>\n      <td>252</td>\n      <td>0</td>\n      <td>23</td>\n      <td>102</td>\n      <td>150</td>\n      <td>23</td>\n      <td>0</td>\n      <td>18.93</td>\n    </tr>\n    <tr>\n      <th>2</th>\n      <td>2020-12-21</td>\n      <td>경남</td>\n      <td>1077</td>\n      <td>3</td>\n      <td>15</td>\n      <td>748</td>\n      <td>326</td>\n      <td>15</td>\n      <td>0</td>\n      <td>26.36</td>\n    </tr>\n    <tr>\n      <th>3</th>\n      <td>2020-12-21</td>\n      <td>경북</td>\n      <td>2035</td>\n      <td>61</td>\n      <td>48</td>\n      <td>1715</td>\n      <td>259</td>\n      <td>48</td>\n      <td>0</td>\n      <td>70.05</td>\n    </tr>\n    <tr>\n      <th>4</th>\n      <td>2020-12-21</td>\n      <td>전남</td>\n      <td>508</td>\n      <td>5</td>\n      <td>9</td>\n      <td>418</td>\n      <td>85</td>\n      <td>8</td>\n      <td>1</td>\n      <td>25.79</td>\n    </tr>\n  </tbody>\n</table>\n</div>"
     },
     "metadata": {},
     "execution_count": 24
    }
   ],
   "source": [
    "df.reset_index(drop=True, inplace=True)\n",
    "df.head()"
   ]
  },
  {
   "cell_type": "code",
   "execution_count": 25,
   "metadata": {},
   "outputs": [],
   "source": [
    "conn = sqlite3.connect('./DB/covid-19.db')\n",
    "cur = conn.cursor()"
   ]
  },
  {
   "cell_type": "code",
   "execution_count": 26,
   "metadata": {},
   "outputs": [],
   "source": [
    "sql_table = '''\n",
    "create table '시·도발생_현황'(\n",
    "       'rowID' text not null primary key, '일자' text not null,\n",
    "       '광역시도' text not null,'확진자' int default 0, '사망자' int default 0,\n",
    "       '전일대비' int default 0, '격리해제' int default 0, '격리중' int default 0,\n",
    "       '지역발생' int default 0, '해외유입' int default 0, '10만명당' text default '-'\n",
    "       \n",
    ")\n",
    "'''"
   ]
  },
  {
   "cell_type": "code",
   "execution_count": 27,
   "metadata": {},
   "outputs": [],
   "source": [
    "cur.execute(sql_table)\n",
    "conn.commit()"
   ]
  },
  {
   "cell_type": "code",
   "execution_count": 28,
   "metadata": {},
   "outputs": [],
   "source": [
    "sql_insert = 'insert into \"시·도발생_현황\" values(?,?,?,?,?,?,?,?,?,?,?)'"
   ]
  },
  {
   "cell_type": "code",
   "execution_count": 29,
   "metadata": {},
   "outputs": [],
   "source": [
    "for i in df.index:\n",
    "    params = list(df.loc[i])\n",
    "    params.insert(0, len(df) - i)\n",
    "    cur.execute(sql_insert, params)\n",
    "    conn.commit()"
   ]
  },
  {
   "cell_type": "code",
   "execution_count": 30,
   "metadata": {},
   "outputs": [],
   "source": [
    "conn.close()"
   ]
  },
  {
   "cell_type": "code",
   "execution_count": 31,
   "metadata": {},
   "outputs": [],
   "source": [
    "df.to_csv('./DB/시도발생현황.csv')"
   ]
  },
  {
   "cell_type": "code",
   "execution_count": 32,
   "metadata": {},
   "outputs": [],
   "source": [
    "df['확진자'] = df['확진자'].astype(int)"
   ]
  },
  {
   "cell_type": "code",
   "execution_count": 33,
   "metadata": {},
   "outputs": [],
   "source": [
    "a_df = df.pivot_table('확진자', index=['일자2', '광역시도'])"
   ]
  },
  {
   "cell_type": "code",
   "execution_count": 34,
   "metadata": {},
   "outputs": [
    {
     "output_type": "execute_result",
     "data": {
      "text/plain": [
       "                     확진자\n",
       "일자2        광역시도         \n",
       "2020-03-01 강원        0.0\n",
       "           검역        0.0\n",
       "           경기        0.0\n",
       "           경남        0.0\n",
       "           경북        0.0\n",
       "...                  ...\n",
       "2020-12-21 전북      688.0\n",
       "           제주      252.0\n",
       "           충남     1288.0\n",
       "           충북      803.0\n",
       "           합계    50591.0\n",
       "\n",
       "[5535 rows x 1 columns]"
      ],
      "text/html": "<div>\n<style scoped>\n    .dataframe tbody tr th:only-of-type {\n        vertical-align: middle;\n    }\n\n    .dataframe tbody tr th {\n        vertical-align: top;\n    }\n\n    .dataframe thead th {\n        text-align: right;\n    }\n</style>\n<table border=\"1\" class=\"dataframe\">\n  <thead>\n    <tr style=\"text-align: right;\">\n      <th></th>\n      <th></th>\n      <th>확진자</th>\n    </tr>\n    <tr>\n      <th>일자2</th>\n      <th>광역시도</th>\n      <th></th>\n    </tr>\n  </thead>\n  <tbody>\n    <tr>\n      <th rowspan=\"5\" valign=\"top\">2020-03-01</th>\n      <th>강원</th>\n      <td>0.0</td>\n    </tr>\n    <tr>\n      <th>검역</th>\n      <td>0.0</td>\n    </tr>\n    <tr>\n      <th>경기</th>\n      <td>0.0</td>\n    </tr>\n    <tr>\n      <th>경남</th>\n      <td>0.0</td>\n    </tr>\n    <tr>\n      <th>경북</th>\n      <td>0.0</td>\n    </tr>\n    <tr>\n      <th>...</th>\n      <th>...</th>\n      <td>...</td>\n    </tr>\n    <tr>\n      <th rowspan=\"5\" valign=\"top\">2020-12-21</th>\n      <th>전북</th>\n      <td>688.0</td>\n    </tr>\n    <tr>\n      <th>제주</th>\n      <td>252.0</td>\n    </tr>\n    <tr>\n      <th>충남</th>\n      <td>1288.0</td>\n    </tr>\n    <tr>\n      <th>충북</th>\n      <td>803.0</td>\n    </tr>\n    <tr>\n      <th>합계</th>\n      <td>50591.0</td>\n    </tr>\n  </tbody>\n</table>\n<p>5535 rows × 1 columns</p>\n</div>"
     },
     "metadata": {},
     "execution_count": 34
    }
   ],
   "source": [
    "a_df"
   ]
  },
  {
   "cell_type": "code",
   "execution_count": 35,
   "metadata": {},
   "outputs": [],
   "source": [
    "a_df.to_csv('./DB/광역시도별.csv')"
   ]
  },
  {
   "cell_type": "code",
   "execution_count": 36,
   "metadata": {},
   "outputs": [],
   "source": [
    "n_df = df.pivot_table('확진자', '일자2', '광역시도')"
   ]
  },
  {
   "cell_type": "code",
   "execution_count": 37,
   "metadata": {},
   "outputs": [],
   "source": [
    "day_df = n_df - n_df.shift(1)"
   ]
  },
  {
   "cell_type": "code",
   "execution_count": 38,
   "metadata": {},
   "outputs": [],
   "source": [
    "day_df.fillna(0,inplace=True)"
   ]
  },
  {
   "cell_type": "code",
   "execution_count": 39,
   "metadata": {},
   "outputs": [],
   "source": [
    "day_df.head()\n",
    "del day_df['검역']"
   ]
  },
  {
   "cell_type": "code",
   "execution_count": 40,
   "metadata": {},
   "outputs": [
    {
     "output_type": "execute_result",
     "data": {
      "text/plain": [
       "광역시도        강원   경기  경남   경북  광주    대구  대전  부산   서울  세종  울산  인천  전남  전북  제주  \\\n",
       "일자2                                                                           \n",
       "2020-03-01   0    0   0    0   0     0   0   0    0   0   0   0   0   0   0   \n",
       "2020-03-04  21  101  65  774  13  4006  15  93   99   1  23   9   5   7   3   \n",
       "2020-03-05   2    9   9   87   1   321   1  -1    4   0   0   0  -1   0   1   \n",
       "2020-03-06   2   10   3  123  -1   367   2   3    2   0   0   0   0   0   0   \n",
       "2020-03-07   1   10   5   65   0   390   0   1    3   1   0   0   0   0   0   \n",
       "...         ..  ...  ..  ...  ..   ...  ..  ..  ...  ..  ..  ..  ..  ..  ..   \n",
       "2020-12-17   9  291  30    9  10    21  11  44  423   0  10  77   0  19  12   \n",
       "2020-12-18  18  301  44   31   4    20   5  39  398   0  31  65   5  16  27   \n",
       "2020-12-19  27  281  32   29   9    20   5  39  384   0   9  45   5  15  24   \n",
       "2020-12-20  55  249  51   25  14    25   3  33  471   1   6  62   4  29  24   \n",
       "2020-12-21  25  244  15   48  13    21   3  20  328   0  17  88   9  13  23   \n",
       "\n",
       "광역시도        충남   충북    합계  \n",
       "일자2                        \n",
       "2020-03-01   0    0     0  \n",
       "2020-03-04  82   11  5328  \n",
       "2020-03-05   4    1   438  \n",
       "2020-03-06   4    3   518  \n",
       "2020-03-07   2    5   483  \n",
       "...         ..  ...   ...  \n",
       "2020-12-17  19   19  1011  \n",
       "2020-12-18  18   31  1062  \n",
       "2020-12-19  24  103  1055  \n",
       "2020-12-20  20   14  1095  \n",
       "2020-12-21  16   33   926  \n",
       "\n",
       "[292 rows x 18 columns]"
      ],
      "text/html": "<div>\n<style scoped>\n    .dataframe tbody tr th:only-of-type {\n        vertical-align: middle;\n    }\n\n    .dataframe tbody tr th {\n        vertical-align: top;\n    }\n\n    .dataframe thead th {\n        text-align: right;\n    }\n</style>\n<table border=\"1\" class=\"dataframe\">\n  <thead>\n    <tr style=\"text-align: right;\">\n      <th>광역시도</th>\n      <th>강원</th>\n      <th>경기</th>\n      <th>경남</th>\n      <th>경북</th>\n      <th>광주</th>\n      <th>대구</th>\n      <th>대전</th>\n      <th>부산</th>\n      <th>서울</th>\n      <th>세종</th>\n      <th>울산</th>\n      <th>인천</th>\n      <th>전남</th>\n      <th>전북</th>\n      <th>제주</th>\n      <th>충남</th>\n      <th>충북</th>\n      <th>합계</th>\n    </tr>\n    <tr>\n      <th>일자2</th>\n      <th></th>\n      <th></th>\n      <th></th>\n      <th></th>\n      <th></th>\n      <th></th>\n      <th></th>\n      <th></th>\n      <th></th>\n      <th></th>\n      <th></th>\n      <th></th>\n      <th></th>\n      <th></th>\n      <th></th>\n      <th></th>\n      <th></th>\n      <th></th>\n    </tr>\n  </thead>\n  <tbody>\n    <tr>\n      <th>2020-03-01</th>\n      <td>0</td>\n      <td>0</td>\n      <td>0</td>\n      <td>0</td>\n      <td>0</td>\n      <td>0</td>\n      <td>0</td>\n      <td>0</td>\n      <td>0</td>\n      <td>0</td>\n      <td>0</td>\n      <td>0</td>\n      <td>0</td>\n      <td>0</td>\n      <td>0</td>\n      <td>0</td>\n      <td>0</td>\n      <td>0</td>\n    </tr>\n    <tr>\n      <th>2020-03-04</th>\n      <td>21</td>\n      <td>101</td>\n      <td>65</td>\n      <td>774</td>\n      <td>13</td>\n      <td>4006</td>\n      <td>15</td>\n      <td>93</td>\n      <td>99</td>\n      <td>1</td>\n      <td>23</td>\n      <td>9</td>\n      <td>5</td>\n      <td>7</td>\n      <td>3</td>\n      <td>82</td>\n      <td>11</td>\n      <td>5328</td>\n    </tr>\n    <tr>\n      <th>2020-03-05</th>\n      <td>2</td>\n      <td>9</td>\n      <td>9</td>\n      <td>87</td>\n      <td>1</td>\n      <td>321</td>\n      <td>1</td>\n      <td>-1</td>\n      <td>4</td>\n      <td>0</td>\n      <td>0</td>\n      <td>0</td>\n      <td>-1</td>\n      <td>0</td>\n      <td>1</td>\n      <td>4</td>\n      <td>1</td>\n      <td>438</td>\n    </tr>\n    <tr>\n      <th>2020-03-06</th>\n      <td>2</td>\n      <td>10</td>\n      <td>3</td>\n      <td>123</td>\n      <td>-1</td>\n      <td>367</td>\n      <td>2</td>\n      <td>3</td>\n      <td>2</td>\n      <td>0</td>\n      <td>0</td>\n      <td>0</td>\n      <td>0</td>\n      <td>0</td>\n      <td>0</td>\n      <td>4</td>\n      <td>3</td>\n      <td>518</td>\n    </tr>\n    <tr>\n      <th>2020-03-07</th>\n      <td>1</td>\n      <td>10</td>\n      <td>5</td>\n      <td>65</td>\n      <td>0</td>\n      <td>390</td>\n      <td>0</td>\n      <td>1</td>\n      <td>3</td>\n      <td>1</td>\n      <td>0</td>\n      <td>0</td>\n      <td>0</td>\n      <td>0</td>\n      <td>0</td>\n      <td>2</td>\n      <td>5</td>\n      <td>483</td>\n    </tr>\n    <tr>\n      <th>...</th>\n      <td>...</td>\n      <td>...</td>\n      <td>...</td>\n      <td>...</td>\n      <td>...</td>\n      <td>...</td>\n      <td>...</td>\n      <td>...</td>\n      <td>...</td>\n      <td>...</td>\n      <td>...</td>\n      <td>...</td>\n      <td>...</td>\n      <td>...</td>\n      <td>...</td>\n      <td>...</td>\n      <td>...</td>\n      <td>...</td>\n    </tr>\n    <tr>\n      <th>2020-12-17</th>\n      <td>9</td>\n      <td>291</td>\n      <td>30</td>\n      <td>9</td>\n      <td>10</td>\n      <td>21</td>\n      <td>11</td>\n      <td>44</td>\n      <td>423</td>\n      <td>0</td>\n      <td>10</td>\n      <td>77</td>\n      <td>0</td>\n      <td>19</td>\n      <td>12</td>\n      <td>19</td>\n      <td>19</td>\n      <td>1011</td>\n    </tr>\n    <tr>\n      <th>2020-12-18</th>\n      <td>18</td>\n      <td>301</td>\n      <td>44</td>\n      <td>31</td>\n      <td>4</td>\n      <td>20</td>\n      <td>5</td>\n      <td>39</td>\n      <td>398</td>\n      <td>0</td>\n      <td>31</td>\n      <td>65</td>\n      <td>5</td>\n      <td>16</td>\n      <td>27</td>\n      <td>18</td>\n      <td>31</td>\n      <td>1062</td>\n    </tr>\n    <tr>\n      <th>2020-12-19</th>\n      <td>27</td>\n      <td>281</td>\n      <td>32</td>\n      <td>29</td>\n      <td>9</td>\n      <td>20</td>\n      <td>5</td>\n      <td>39</td>\n      <td>384</td>\n      <td>0</td>\n      <td>9</td>\n      <td>45</td>\n      <td>5</td>\n      <td>15</td>\n      <td>24</td>\n      <td>24</td>\n      <td>103</td>\n      <td>1055</td>\n    </tr>\n    <tr>\n      <th>2020-12-20</th>\n      <td>55</td>\n      <td>249</td>\n      <td>51</td>\n      <td>25</td>\n      <td>14</td>\n      <td>25</td>\n      <td>3</td>\n      <td>33</td>\n      <td>471</td>\n      <td>1</td>\n      <td>6</td>\n      <td>62</td>\n      <td>4</td>\n      <td>29</td>\n      <td>24</td>\n      <td>20</td>\n      <td>14</td>\n      <td>1095</td>\n    </tr>\n    <tr>\n      <th>2020-12-21</th>\n      <td>25</td>\n      <td>244</td>\n      <td>15</td>\n      <td>48</td>\n      <td>13</td>\n      <td>21</td>\n      <td>3</td>\n      <td>20</td>\n      <td>328</td>\n      <td>0</td>\n      <td>17</td>\n      <td>88</td>\n      <td>9</td>\n      <td>13</td>\n      <td>23</td>\n      <td>16</td>\n      <td>33</td>\n      <td>926</td>\n    </tr>\n  </tbody>\n</table>\n<p>292 rows × 18 columns</p>\n</div>"
     },
     "metadata": {},
     "execution_count": 40
    }
   ],
   "source": [
    "day_df.astype(int)"
   ]
  },
  {
   "cell_type": "code",
   "execution_count": 41,
   "metadata": {},
   "outputs": [],
   "source": [
    "conn = sqlite3.connect('./DB/covid-19.db')\n",
    "cur = conn.cursor()"
   ]
  },
  {
   "cell_type": "code",
   "execution_count": 42,
   "metadata": {},
   "outputs": [],
   "source": [
    "sql_table = '''\n",
    "create table '일일확진자 현황'(\n",
    "       '일자' text not null primary key,\n",
    "       '강원' int not null, '경기' int not null, '경남' int not null,\n",
    "       '경북' int not null, '광주' int not null, '대구' int not null,\n",
    "       '대전' int not null, '부산' int not null, '서울' int not null,\n",
    "       '세종' int not null, '울산' int not null, '인천' int not null,\n",
    "       '전남' int not null, '전북' int not null, '제주' int not null,\n",
    "       '충남' int not null, '충북' int not null, '합계' int not null\n",
    ")\n",
    "'''"
   ]
  },
  {
   "cell_type": "code",
   "execution_count": 43,
   "metadata": {},
   "outputs": [],
   "source": [
    "cur.execute(sql_table)\n",
    "conn.commit()"
   ]
  },
  {
   "cell_type": "code",
   "execution_count": 44,
   "metadata": {},
   "outputs": [],
   "source": [
    "sql_insert = 'insert into \"일일확진자 현황\" values(?,?,?,?,?,?,?,?,?,?,?,?,?,?,?,?,?,?,?)'"
   ]
  },
  {
   "cell_type": "code",
   "execution_count": 45,
   "metadata": {},
   "outputs": [],
   "source": [
    "for i in day_df[1:].index:\n",
    "    params = list(day_df.loc[i])\n",
    "    params.insert(0, i)\n",
    "    cur.execute(sql_insert, params)\n",
    "    conn.commit()"
   ]
  },
  {
   "cell_type": "code",
   "execution_count": 46,
   "metadata": {},
   "outputs": [],
   "source": [
    "conn.close()"
   ]
  },
  {
   "cell_type": "code",
   "execution_count": 47,
   "metadata": {},
   "outputs": [],
   "source": [
    "day_df.to_csv('./DB/일일확진자.csv')"
   ]
  },
  {
   "source": [
    "### 연령별 현황"
   ],
   "cell_type": "markdown",
   "metadata": {}
  },
  {
   "cell_type": "code",
   "execution_count": 48,
   "metadata": {},
   "outputs": [],
   "source": [
    "corona_url = 'http://openapi.data.go.kr/openapi/service/rest/Covid19/getCovid19GenAgeCaseInfJson?serviceKey='\n",
    "url = f'{corona_url}{govapi_key+\"3D\"}&pageNo=1&numOfRows=10&startCreateDt={start_date}&endCreateDt={end_date}'"
   ]
  },
  {
   "cell_type": "code",
   "execution_count": 49,
   "metadata": {},
   "outputs": [
    {
     "output_type": "execute_result",
     "data": {
      "text/plain": [
       "'00'"
      ]
     },
     "metadata": {},
     "execution_count": 49
    }
   ],
   "source": [
    "result = requests.get(url)\n",
    "soup = BeautifulSoup(result.text, 'xml')\n",
    "soup.find('resultCode').get_text()"
   ]
  },
  {
   "cell_type": "code",
   "execution_count": 50,
   "metadata": {},
   "outputs": [
    {
     "output_type": "execute_result",
     "data": {
      "text/plain": [
       "     rowID         등록일   확진자    확진률    치명률 사망자    사망률     구분   수정일\n",
       "0     5565  2020-12-21  1684   3.33   3.33   0   0.00    0-9  null\n",
       "1     5564  2020-12-21  3150   6.23   6.23   0   0.00  10-19  null\n",
       "2     5563  2020-12-21  8552   16.9   16.9   0   0.00  20-29  null\n",
       "3     5562  2020-12-21  6414  12.68  12.68   3   0.43  30-39  null\n",
       "4     5561  2020-12-21  7099  14.03  14.03   6   0.86  40-49  null\n",
       "...    ...         ...   ...    ...    ...  ..    ...    ...   ...\n",
       "2823     5  2020-04-02  1235  12.62  12.62  22  13.58  60-69  None\n",
       "2824     4  2020-04-02   651   6.65   6.65  46   28.4  70-79  None\n",
       "2825     3  2020-04-02   442   4.52   4.52  82  50.62  80 이상  None\n",
       "2826     2  2020-04-02  5881   60.1   60.1  80  49.38     여성  None\n",
       "2827     1  2020-04-02  3905   39.9   39.9  82  50.62     남성  None\n",
       "\n",
       "[2828 rows x 9 columns]"
      ],
      "text/html": "<div>\n<style scoped>\n    .dataframe tbody tr th:only-of-type {\n        vertical-align: middle;\n    }\n\n    .dataframe tbody tr th {\n        vertical-align: top;\n    }\n\n    .dataframe thead th {\n        text-align: right;\n    }\n</style>\n<table border=\"1\" class=\"dataframe\">\n  <thead>\n    <tr style=\"text-align: right;\">\n      <th></th>\n      <th>rowID</th>\n      <th>등록일</th>\n      <th>확진자</th>\n      <th>확진률</th>\n      <th>치명률</th>\n      <th>사망자</th>\n      <th>사망률</th>\n      <th>구분</th>\n      <th>수정일</th>\n    </tr>\n  </thead>\n  <tbody>\n    <tr>\n      <th>0</th>\n      <td>5565</td>\n      <td>2020-12-21</td>\n      <td>1684</td>\n      <td>3.33</td>\n      <td>3.33</td>\n      <td>0</td>\n      <td>0.00</td>\n      <td>0-9</td>\n      <td>null</td>\n    </tr>\n    <tr>\n      <th>1</th>\n      <td>5564</td>\n      <td>2020-12-21</td>\n      <td>3150</td>\n      <td>6.23</td>\n      <td>6.23</td>\n      <td>0</td>\n      <td>0.00</td>\n      <td>10-19</td>\n      <td>null</td>\n    </tr>\n    <tr>\n      <th>2</th>\n      <td>5563</td>\n      <td>2020-12-21</td>\n      <td>8552</td>\n      <td>16.9</td>\n      <td>16.9</td>\n      <td>0</td>\n      <td>0.00</td>\n      <td>20-29</td>\n      <td>null</td>\n    </tr>\n    <tr>\n      <th>3</th>\n      <td>5562</td>\n      <td>2020-12-21</td>\n      <td>6414</td>\n      <td>12.68</td>\n      <td>12.68</td>\n      <td>3</td>\n      <td>0.43</td>\n      <td>30-39</td>\n      <td>null</td>\n    </tr>\n    <tr>\n      <th>4</th>\n      <td>5561</td>\n      <td>2020-12-21</td>\n      <td>7099</td>\n      <td>14.03</td>\n      <td>14.03</td>\n      <td>6</td>\n      <td>0.86</td>\n      <td>40-49</td>\n      <td>null</td>\n    </tr>\n    <tr>\n      <th>...</th>\n      <td>...</td>\n      <td>...</td>\n      <td>...</td>\n      <td>...</td>\n      <td>...</td>\n      <td>...</td>\n      <td>...</td>\n      <td>...</td>\n      <td>...</td>\n    </tr>\n    <tr>\n      <th>2823</th>\n      <td>5</td>\n      <td>2020-04-02</td>\n      <td>1235</td>\n      <td>12.62</td>\n      <td>12.62</td>\n      <td>22</td>\n      <td>13.58</td>\n      <td>60-69</td>\n      <td>None</td>\n    </tr>\n    <tr>\n      <th>2824</th>\n      <td>4</td>\n      <td>2020-04-02</td>\n      <td>651</td>\n      <td>6.65</td>\n      <td>6.65</td>\n      <td>46</td>\n      <td>28.4</td>\n      <td>70-79</td>\n      <td>None</td>\n    </tr>\n    <tr>\n      <th>2825</th>\n      <td>3</td>\n      <td>2020-04-02</td>\n      <td>442</td>\n      <td>4.52</td>\n      <td>4.52</td>\n      <td>82</td>\n      <td>50.62</td>\n      <td>80 이상</td>\n      <td>None</td>\n    </tr>\n    <tr>\n      <th>2826</th>\n      <td>2</td>\n      <td>2020-04-02</td>\n      <td>5881</td>\n      <td>60.1</td>\n      <td>60.1</td>\n      <td>80</td>\n      <td>49.38</td>\n      <td>여성</td>\n      <td>None</td>\n    </tr>\n    <tr>\n      <th>2827</th>\n      <td>1</td>\n      <td>2020-04-02</td>\n      <td>3905</td>\n      <td>39.9</td>\n      <td>39.9</td>\n      <td>82</td>\n      <td>50.62</td>\n      <td>남성</td>\n      <td>None</td>\n    </tr>\n  </tbody>\n</table>\n<p>2828 rows × 9 columns</p>\n</div>"
     },
     "metadata": {},
     "execution_count": 50
    }
   ],
   "source": [
    "confCase_list, confCaseRate_list, createDt_list, criticalRate_list = [],[],[],[]\n",
    "death_list, deathRate_list, gubun_list, id_list, updateDt_list =[],[],[],[],[]\n",
    "items = soup.find_all('item')\n",
    "for item in items:\n",
    "    id_list.append(item.find('seq').string)\n",
    "    createDt_list.append(item.find('createDt').string.split(' ')[0])\n",
    "    confCase_list.append(item.find('confCase').string)\n",
    "    confCaseRate_list.append(item.find('confCaseRate').string)\n",
    "    criticalRate_list.append(item.find('confCaseRate').string)\n",
    "    death_list.append(item.find('death').string)\n",
    "    deathRate_list.append(item.find('deathRate').string)\n",
    "    gubun_list.append(item.find('gubun').string)\n",
    "    updateDt_list.append(item.find('updateDt').string if item.find('updateDt') else ' ')\n",
    "\n",
    "df = pd.DataFrame({\n",
    "    'rowID':id_list,\n",
    "    '등록일':createDt_list, \n",
    "    '확진자': confCase_list,\n",
    "    '확진률' : confCaseRate_list,\n",
    "    '치명률' : criticalRate_list,\n",
    "    '사망자' : death_list,\n",
    "    '사망률' : deathRate_list, \n",
    "    '구분' : gubun_list,\n",
    "    '수정일' :  updateDt_list\n",
    "})\n",
    "df"
   ]
  },
  {
   "cell_type": "code",
   "execution_count": 51,
   "metadata": {},
   "outputs": [],
   "source": [
    "df= df[['rowID', '등록일', '구분', '확진자', '확진률', '치명률', '사망자', '사망률', '수정일']]"
   ]
  },
  {
   "cell_type": "code",
   "execution_count": 52,
   "metadata": {},
   "outputs": [],
   "source": [
    "conn = sqlite3.connect('./DB/covid-19.db')\n",
    "cur = conn.cursor()"
   ]
  },
  {
   "cell_type": "code",
   "execution_count": 53,
   "metadata": {},
   "outputs": [],
   "source": [
    "sql_table = '''\n",
    "create table '연령별·성별감염_현황'(\n",
    "       'rowID' text not null primary key, '등록일' text not null, '구분' text not null,\n",
    "       '확진자' int not null, '확진률' int not null, '치명률' float default 0,\n",
    "       '사망자' int default 0, '사망률' int default 0, \n",
    "       '수정일' int default '-'\n",
    "       )\n",
    "'''"
   ]
  },
  {
   "cell_type": "code",
   "execution_count": 54,
   "metadata": {},
   "outputs": [],
   "source": [
    "cur.execute(sql_table)\n",
    "conn.commit()"
   ]
  },
  {
   "cell_type": "code",
   "execution_count": 55,
   "metadata": {},
   "outputs": [
    {
     "output_type": "execute_result",
     "data": {
      "text/plain": [
       "9"
      ]
     },
     "metadata": {},
     "execution_count": 55
    }
   ],
   "source": [
    "len(df.columns)"
   ]
  },
  {
   "cell_type": "code",
   "execution_count": 56,
   "metadata": {},
   "outputs": [],
   "source": [
    "sql_insert = 'insert into \"연령별·성별감염_현황\" values(?,?,?,?,?,?,?,?,?)'"
   ]
  },
  {
   "cell_type": "code",
   "execution_count": 57,
   "metadata": {},
   "outputs": [],
   "source": [
    "for i in range(len(df)):\n",
    "    params = list(df.loc[i])\n",
    "    cur.execute(sql_insert, params)\n",
    "    conn.commit()"
   ]
  },
  {
   "cell_type": "code",
   "execution_count": 58,
   "metadata": {},
   "outputs": [],
   "source": [
    "conn.close()"
   ]
  },
  {
   "cell_type": "code",
   "execution_count": 59,
   "metadata": {},
   "outputs": [],
   "source": [
    "df.to_csv('./DB/연령별,성별감염_현황.csv')"
   ]
  },
  {
   "source": [
    "###  코로나19감염증으로 인한 일별 확진자, 완치자, 치료중인환자, 사망자등에 대한 현황자료"
   ],
   "cell_type": "markdown",
   "metadata": {}
  },
  {
   "cell_type": "code",
   "execution_count": 60,
   "metadata": {},
   "outputs": [],
   "source": [
    "corona_url = 'http://openapi.data.go.kr/openapi/service/rest/Covid19/getCovid19InfStateJson'\n",
    "url = f'{corona_url}?ServiceKey={govapi_key+\"3D\"}&pageNo=1&numOfRows=10&startCreateDt={start_date}&endCreateDt={end_date}'"
   ]
  },
  {
   "cell_type": "code",
   "execution_count": 61,
   "metadata": {},
   "outputs": [
    {
     "output_type": "execute_result",
     "data": {
      "text/plain": [
       "'00'"
      ]
     },
     "metadata": {},
     "execution_count": 61
    }
   ],
   "source": [
    "result = requests.get(url)\n",
    "soup = BeautifulSoup(result.text, 'xml')\n",
    "soup.find('resultCode').get_text()"
   ]
  },
  {
   "cell_type": "code",
   "execution_count": 62,
   "metadata": {},
   "outputs": [
    {
     "output_type": "execute_result",
     "data": {
      "text/plain": [
       "'http://openapi.data.go.kr/openapi/service/rest/Covid19/getCovid19InfStateJson?ServiceKey=4pmsbWqWKQ1g%2FJklDSCfNZyXKVMH0PLrPbDNJE%2B9%2FFaj9Xc4IqW74iz2dyAVZI8weoJdDn%2Ba%2B0O5fRwJOcF6wg%3D%3D&pageNo=1&numOfRows=10&startCreateDt=20200101&endCreateDt=20201221'"
      ]
     },
     "metadata": {},
     "execution_count": 62
    }
   ],
   "source": [
    "url"
   ]
  },
  {
   "cell_type": "code",
   "execution_count": 63,
   "metadata": {},
   "outputs": [],
   "source": [
    "accDefRate_list, accExamCnt_list, accExamCompCnt_list, careCnt_list = [],[],[],[]\n",
    "clearCnt_list, deathCnt_list, decideCnt_list, examCnt_list = [],[],[],[]\n",
    "resutlNegCnt_list, seq_list, stateDt_list, updateDt_list = [],[],[],[]\n",
    "items = soup.find_all('item')\n",
    "for item in items:\n",
    "    seq_list.append(item.find('seq').string)\n",
    "    stateDt_list.append(item.find('stateDt').string)\n",
    "    accDefRate_list.append(item.find('accDefRate').string if item.find('accDefRate') else '')\n",
    "    accExamCnt_list.append(item.find('accExamCnt').string if item.find('accExamCnt') else '')\n",
    "    accExamCompCnt_list.append(item.find('accExamCompCnt').string if item.find('accExamCompCnt') else '')\n",
    "    careCnt_list.append(item.find('careCnt').string if item.find('careCnt') else '')\n",
    "    clearCnt_list.append(item.find('clearCnt').string if item.find('clearCnt') else '')\n",
    "    deathCnt_list.append(item.find('deathCnt').string if item.find('deathCnt') else '')\n",
    "    decideCnt_list.append(item.find('decideCnt').string if item.find('decideCnt') else '')\n",
    "    examCnt_list.append(item.find('examCnt').string if item.find('examCnt') else '')\n",
    "    resutlNegCnt_list.append(item.find('resutlNegCnt').string if item.find('resutlNegCnt') else '')\n",
    "    updateDt_list.append(item.find('updateDt').string if item.find('updateDt') else '')"
   ]
  },
  {
   "cell_type": "code",
   "execution_count": 64,
   "metadata": {},
   "outputs": [
    {
     "output_type": "execute_result",
     "data": {
      "text/plain": [
       "    rowID       기준일         누적환진률    누적검사수 누적 검사 완료 수 치료중 환자 수 격리해제 수 사망자 수  \\\n",
       "0     361  20201221  1.4181385274  3713861    3567423    14738  35155   698   \n",
       "1     360  20201220  1.4015332912  3683094    3543619    14269  34722   674   \n",
       "2     359  20201219  1.3798240575  3646247    3520014    13577  34334   659   \n",
       "3     358  20201219  1.3798240575  3646247    3520014    13577  34334   659   \n",
       "4     357  20201218  1.3656965426  3589795    3479177    12888  33982   645   \n",
       "..    ...       ...           ...      ...        ...      ...    ...   ...   \n",
       "358     5  20200205          None                                   0     0   \n",
       "359     4  20200204          None                                   0     0   \n",
       "360     3  20200203          None                                   0     0   \n",
       "361     2  20200202          None                                   2     2   \n",
       "362     1  20200101          None                                   1     0   \n",
       "\n",
       "     확진자 수 검사 진행 수 결과 음성 수                      수정일  \n",
       "0    50591  146438  3516832                    null  \n",
       "1    49665  139475  3493954                    null  \n",
       "2    48570  126233  3471444                    null  \n",
       "3    48570  126233  3471444                    null  \n",
       "4    47515  110618  3431662                    null  \n",
       "..     ...     ...      ...                     ...  \n",
       "358     18     129            2020-02-05 9:43:16.16  \n",
       "359      0       0                             None  \n",
       "360     15       0           2020-02-04 14:19:46.46  \n",
       "361      2       2                             None  \n",
       "362      0       1           2020-02-03 12:21:56.56  \n",
       "\n",
       "[363 rows x 12 columns]"
      ],
      "text/html": "<div>\n<style scoped>\n    .dataframe tbody tr th:only-of-type {\n        vertical-align: middle;\n    }\n\n    .dataframe tbody tr th {\n        vertical-align: top;\n    }\n\n    .dataframe thead th {\n        text-align: right;\n    }\n</style>\n<table border=\"1\" class=\"dataframe\">\n  <thead>\n    <tr style=\"text-align: right;\">\n      <th></th>\n      <th>rowID</th>\n      <th>기준일</th>\n      <th>누적환진률</th>\n      <th>누적검사수</th>\n      <th>누적 검사 완료 수</th>\n      <th>치료중 환자 수</th>\n      <th>격리해제 수</th>\n      <th>사망자 수</th>\n      <th>확진자 수</th>\n      <th>검사 진행 수</th>\n      <th>결과 음성 수</th>\n      <th>수정일</th>\n    </tr>\n  </thead>\n  <tbody>\n    <tr>\n      <th>0</th>\n      <td>361</td>\n      <td>20201221</td>\n      <td>1.4181385274</td>\n      <td>3713861</td>\n      <td>3567423</td>\n      <td>14738</td>\n      <td>35155</td>\n      <td>698</td>\n      <td>50591</td>\n      <td>146438</td>\n      <td>3516832</td>\n      <td>null</td>\n    </tr>\n    <tr>\n      <th>1</th>\n      <td>360</td>\n      <td>20201220</td>\n      <td>1.4015332912</td>\n      <td>3683094</td>\n      <td>3543619</td>\n      <td>14269</td>\n      <td>34722</td>\n      <td>674</td>\n      <td>49665</td>\n      <td>139475</td>\n      <td>3493954</td>\n      <td>null</td>\n    </tr>\n    <tr>\n      <th>2</th>\n      <td>359</td>\n      <td>20201219</td>\n      <td>1.3798240575</td>\n      <td>3646247</td>\n      <td>3520014</td>\n      <td>13577</td>\n      <td>34334</td>\n      <td>659</td>\n      <td>48570</td>\n      <td>126233</td>\n      <td>3471444</td>\n      <td>null</td>\n    </tr>\n    <tr>\n      <th>3</th>\n      <td>358</td>\n      <td>20201219</td>\n      <td>1.3798240575</td>\n      <td>3646247</td>\n      <td>3520014</td>\n      <td>13577</td>\n      <td>34334</td>\n      <td>659</td>\n      <td>48570</td>\n      <td>126233</td>\n      <td>3471444</td>\n      <td>null</td>\n    </tr>\n    <tr>\n      <th>4</th>\n      <td>357</td>\n      <td>20201218</td>\n      <td>1.3656965426</td>\n      <td>3589795</td>\n      <td>3479177</td>\n      <td>12888</td>\n      <td>33982</td>\n      <td>645</td>\n      <td>47515</td>\n      <td>110618</td>\n      <td>3431662</td>\n      <td>null</td>\n    </tr>\n    <tr>\n      <th>...</th>\n      <td>...</td>\n      <td>...</td>\n      <td>...</td>\n      <td>...</td>\n      <td>...</td>\n      <td>...</td>\n      <td>...</td>\n      <td>...</td>\n      <td>...</td>\n      <td>...</td>\n      <td>...</td>\n      <td>...</td>\n    </tr>\n    <tr>\n      <th>358</th>\n      <td>5</td>\n      <td>20200205</td>\n      <td>None</td>\n      <td></td>\n      <td></td>\n      <td></td>\n      <td>0</td>\n      <td>0</td>\n      <td>18</td>\n      <td>129</td>\n      <td></td>\n      <td>2020-02-05 9:43:16.16</td>\n    </tr>\n    <tr>\n      <th>359</th>\n      <td>4</td>\n      <td>20200204</td>\n      <td>None</td>\n      <td></td>\n      <td></td>\n      <td></td>\n      <td>0</td>\n      <td>0</td>\n      <td>0</td>\n      <td>0</td>\n      <td></td>\n      <td>None</td>\n    </tr>\n    <tr>\n      <th>360</th>\n      <td>3</td>\n      <td>20200203</td>\n      <td>None</td>\n      <td></td>\n      <td></td>\n      <td></td>\n      <td>0</td>\n      <td>0</td>\n      <td>15</td>\n      <td>0</td>\n      <td></td>\n      <td>2020-02-04 14:19:46.46</td>\n    </tr>\n    <tr>\n      <th>361</th>\n      <td>2</td>\n      <td>20200202</td>\n      <td>None</td>\n      <td></td>\n      <td></td>\n      <td></td>\n      <td>2</td>\n      <td>2</td>\n      <td>2</td>\n      <td>2</td>\n      <td></td>\n      <td>None</td>\n    </tr>\n    <tr>\n      <th>362</th>\n      <td>1</td>\n      <td>20200101</td>\n      <td>None</td>\n      <td></td>\n      <td></td>\n      <td></td>\n      <td>1</td>\n      <td>0</td>\n      <td>0</td>\n      <td>1</td>\n      <td></td>\n      <td>2020-02-03 12:21:56.56</td>\n    </tr>\n  </tbody>\n</table>\n<p>363 rows × 12 columns</p>\n</div>"
     },
     "metadata": {},
     "execution_count": 64
    }
   ],
   "source": [
    "df = pd.DataFrame({\n",
    "    'rowID': seq_list,\n",
    "    '기준일': stateDt_list, \n",
    "    '누적환진률': accDefRate_list,\n",
    "    '누적검사수' : accExamCnt_list,\n",
    "    '누적 검사 완료 수' : accExamCompCnt_list,\n",
    "    '치료중 환자 수' : careCnt_list,\n",
    "    '격리해제 수' : clearCnt_list, \n",
    "    '사망자 수' : deathCnt_list,\n",
    "    '확진자 수' :  decideCnt_list,\n",
    "    '검사 진행 수' : examCnt_list,\n",
    "    '결과 음성 수 ': resutlNegCnt_list,\n",
    "    '수정일' : updateDt_list\n",
    "})\n",
    "df"
   ]
  },
  {
   "cell_type": "code",
   "execution_count": 65,
   "metadata": {},
   "outputs": [],
   "source": [
    "# 중복자료 지우기\n",
    "for i in df['rowID'].unique():\n",
    "    if len(df[df['rowID'] == i]) > 1:\n",
    "        for k in df[df['rowID'] == i][1:].index:\n",
    "            df.drop(k, inplace=True)"
   ]
  },
  {
   "cell_type": "code",
   "execution_count": 66,
   "metadata": {},
   "outputs": [],
   "source": [
    "df.reset_index(drop=True,inplace=True)"
   ]
  },
  {
   "cell_type": "code",
   "execution_count": 67,
   "metadata": {},
   "outputs": [],
   "source": [
    "conn = sqlite3.connect('./DB/covid-19.db')\n",
    "cur = conn.cursor()"
   ]
  },
  {
   "cell_type": "code",
   "execution_count": 68,
   "metadata": {},
   "outputs": [],
   "source": [
    "sql_table = '''\n",
    "create table '감염_현황'(\n",
    "    'rowID' text not null primary key, '기준일' text not null,\n",
    "    '누적환진률' flaot,\n",
    "    '누적검사수' text, '누적 검사 완료 수' text, '치료중 환자 수' text,\n",
    "    '격리해제 수' text,   '사망자 수' text , '확진자 수' text,\n",
    "    '검사 진행 수' text, '결과 음성 수' text, '수정일' text \n",
    "    )\n",
    "'''"
   ]
  },
  {
   "cell_type": "code",
   "execution_count": 69,
   "metadata": {},
   "outputs": [],
   "source": [
    "cur.execute(sql_table)\n",
    "conn.commit()"
   ]
  },
  {
   "cell_type": "code",
   "execution_count": 70,
   "metadata": {},
   "outputs": [],
   "source": [
    "sql_insert = 'insert into \"감염_현황\" values(?,?,?,?,?,?,?,?,?,?,?,?)'"
   ]
  },
  {
   "cell_type": "code",
   "execution_count": 71,
   "metadata": {},
   "outputs": [],
   "source": [
    "for i in range(len(df)):\n",
    "    params = list(df.loc[i])\n",
    "    cur.execute(sql_insert, params)\n",
    "    conn.commit()"
   ]
  },
  {
   "cell_type": "code",
   "execution_count": 72,
   "metadata": {},
   "outputs": [],
   "source": [
    "conn.close()"
   ]
  },
  {
   "cell_type": "code",
   "execution_count": 73,
   "metadata": {},
   "outputs": [],
   "source": [
    "df.to_csv('./DB/감염현황.csv')"
   ]
  }
 ]
}