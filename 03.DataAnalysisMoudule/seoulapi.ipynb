{
 "metadata": {
  "language_info": {
   "codemirror_mode": {
    "name": "ipython",
    "version": 3
   },
   "file_extension": ".py",
   "mimetype": "text/x-python",
   "name": "python",
   "nbconvert_exporter": "python",
   "pygments_lexer": "ipython3",
   "version": "3.8.5-final"
  },
  "orig_nbformat": 2,
  "kernelspec": {
   "name": "python3",
   "display_name": "Python 3",
   "language": "python"
  }
 },
 "nbformat": 4,
 "nbformat_minor": 2,
 "cells": [
  {
   "cell_type": "code",
   "execution_count": 23,
   "metadata": {},
   "outputs": [],
   "source": [
    "from bs4 import BeautifulSoup\n",
    "import requests\n",
    "import math\n",
    "import pandas as pd\n",
    "import numpy as np\n",
    "from urllib.parse import urlparse\n",
    "import sqlite3\n",
    "key_fd = open('./과제data/kakaomapkey.txt', mode='r')\n",
    "kmap_key = key_fd.read(100)\n",
    "key_fd.close()"
   ]
  },
  {
   "cell_type": "code",
   "execution_count": 24,
   "metadata": {},
   "outputs": [],
   "source": [
    "key_fd = open('./과제data/seoulapikey.txt', mode='r')\n",
    "seoul_key = key_fd.read(100)\n",
    "key_fd.close()"
   ]
  },
  {
   "cell_type": "code",
   "execution_count": 120,
   "metadata": {},
   "outputs": [],
   "source": [
    "seoul_url = 'http://openapi.seoul.go.kr:8088/'\n",
    "url = f'{seoul_url}{seoul_key}/xml/Corona19Status/1/1000'"
   ]
  },
  {
   "cell_type": "code",
   "execution_count": 121,
   "metadata": {},
   "outputs": [
    {
     "output_type": "execute_result",
     "data": {
      "text/plain": [
       "'http://openapi.seoul.go.kr:8088/694f57486f686a6b33387443706a41/xml/Corona19Status/1/1000'"
      ]
     },
     "metadata": {},
     "execution_count": 121
    }
   ],
   "source": [
    "url"
   ]
  },
  {
   "cell_type": "code",
   "execution_count": 26,
   "metadata": {},
   "outputs": [
    {
     "output_type": "execute_result",
     "data": {
      "text/plain": [
       "'정상 처리되었습니다'"
      ]
     },
     "metadata": {},
     "execution_count": 26
    }
   ],
   "source": [
    "result = requests.get(url)\n",
    "soup = BeautifulSoup(result.text, 'xml')\n",
    "soup.find('MESSAGE').get_text()"
   ]
  },
  {
   "cell_type": "code",
   "execution_count": 27,
   "metadata": {},
   "outputs": [],
   "source": [
    "total_count = int(soup.find('list_total_count').get_text())"
   ]
  },
  {
   "cell_type": "code",
   "execution_count": 28,
   "metadata": {},
   "outputs": [
    {
     "output_type": "execute_result",
     "data": {
      "text/plain": [
       "18.253"
      ]
     },
     "metadata": {},
     "execution_count": 28
    }
   ],
   "source": [
    "total_count/1000"
   ]
  },
  {
   "cell_type": "code",
   "execution_count": 29,
   "metadata": {},
   "outputs": [
    {
     "output_type": "execute_result",
     "data": {
      "text/plain": [
       "19"
      ]
     },
     "metadata": {},
     "execution_count": 29
    }
   ],
   "source": [
    "count = math.ceil(total_count/1000)\n",
    "count"
   ]
  },
  {
   "cell_type": "code",
   "execution_count": 30,
   "metadata": {},
   "outputs": [],
   "source": [
    "rows = soup.find_all('row')"
   ]
  },
  {
   "cell_type": "code",
   "execution_count": 31,
   "metadata": {},
   "outputs": [
    {
     "output_type": "execute_result",
     "data": {
      "text/plain": [
       "'12.28.'"
      ]
     },
     "metadata": {},
     "execution_count": 31
    }
   ],
   "source": [
    "rows[0].find('CORONA19_DATE').text"
   ]
  },
  {
   "cell_type": "code",
   "execution_count": 32,
   "metadata": {},
   "outputs": [
    {
     "output_type": "execute_result",
     "data": {
      "text/plain": [
       "'송파구'"
      ]
     },
     "metadata": {},
     "execution_count": 32
    }
   ],
   "source": [
    "rows[0].find('CORONA19_AREA').text"
   ]
  },
  {
   "cell_type": "code",
   "execution_count": 33,
   "metadata": {},
   "outputs": [
    {
     "output_type": "execute_result",
     "data": {
      "text/plain": [
       "'18253'"
      ]
     },
     "metadata": {},
     "execution_count": 33
    }
   ],
   "source": [
    "rows[0].find('CORONA19_ID').text"
   ]
  },
  {
   "cell_type": "code",
   "execution_count": 34,
   "metadata": {},
   "outputs": [
    {
     "output_type": "execute_result",
     "data": {
      "text/plain": [
       "'동부구치소 관련'"
      ]
     },
     "metadata": {},
     "execution_count": 34
    }
   ],
   "source": [
    "rows[0].find('CORONA19_CONTACT_HISTORY').text"
   ]
  },
  {
   "cell_type": "code",
   "execution_count": 35,
   "metadata": {},
   "outputs": [],
   "source": [
    "id_list, area_list, date_list,histroy_list = [],[],[],[]\n",
    "a_url = f'{seoul_url}{seoul_key}/xml/Corona19Status'\n",
    "x = 1\n",
    "for i in range(count):  \n",
    "    url = f'{a_url}/{x}/{x+999}'\n",
    "    x += 1000\n",
    "    result = requests.get(url)\n",
    "    soup = BeautifulSoup(result.text, 'xml')\n",
    "    rows = soup.find_all('row')\n",
    "    for row in rows:\n",
    "        id_list.append(row.find('CORONA19_ID').text)\n",
    "        area_list.append(row.find('CORONA19_AREA').text)\n",
    "        date_list.append(row.find('CORONA19_DATE').text)\n",
    "        histroy_list.append(row.find('CORONA19_CONTACT_HISTORY').text)"
   ]
  },
  {
   "cell_type": "code",
   "execution_count": 36,
   "metadata": {},
   "outputs": [],
   "source": [
    "df = pd.DataFrame({\n",
    "    '연번' : id_list,\n",
    "    '확진일' : date_list,\n",
    "    '지역' : area_list,\n",
    "    '접촉력' : histroy_list\n",
    "})"
   ]
  },
  {
   "cell_type": "code",
   "execution_count": 37,
   "metadata": {},
   "outputs": [
    {
     "output_type": "execute_result",
     "data": {
      "text/plain": [
       "18253"
      ]
     },
     "metadata": {},
     "execution_count": 37
    }
   ],
   "source": [
    "len(histroy_list)"
   ]
  },
  {
   "cell_type": "code",
   "execution_count": 38,
   "metadata": {},
   "outputs": [],
   "source": [
    "df['지역'] = df['지역'].str.replace(' ','')"
   ]
  },
  {
   "cell_type": "code",
   "execution_count": 39,
   "metadata": {},
   "outputs": [
    {
     "output_type": "execute_result",
     "data": {
      "text/plain": [
       "2630    중로구\n",
       "Name: 지역, dtype: object"
      ]
     },
     "metadata": {},
     "execution_count": 39
    }
   ],
   "source": [
    "df['지역'][df['지역'] == '중로구']"
   ]
  },
  {
   "cell_type": "code",
   "execution_count": 40,
   "metadata": {},
   "outputs": [],
   "source": [
    "df['지역'][df['지역'] == '중로구'] = '종로구'"
   ]
  },
  {
   "cell_type": "code",
   "execution_count": 41,
   "metadata": {},
   "outputs": [],
   "source": [
    "df['확진일'] = '2020.' + df['확진일']"
   ]
  },
  {
   "cell_type": "code",
   "execution_count": 42,
   "metadata": {},
   "outputs": [],
   "source": [
    "df['확진일'] = df['확진일'].str.replace('.','-').str[:-1]"
   ]
  },
  {
   "cell_type": "code",
   "execution_count": 43,
   "metadata": {},
   "outputs": [],
   "source": [
    "df['확진일'] = pd.to_datetime(df['확진일'])"
   ]
  },
  {
   "cell_type": "code",
   "execution_count": 44,
   "metadata": {},
   "outputs": [],
   "source": [
    "df['확진일'] = df['확진일'].astype(str)"
   ]
  },
  {
   "cell_type": "code",
   "execution_count": 47,
   "metadata": {},
   "outputs": [],
   "source": [
    "df = df.sort_values(by='확진일')"
   ]
  },
  {
   "cell_type": "code",
   "execution_count": 48,
   "metadata": {},
   "outputs": [],
   "source": [
    "df.reset_index(drop=True,inplace=True)"
   ]
  },
  {
   "cell_type": "code",
   "execution_count": 50,
   "metadata": {},
   "outputs": [
    {
     "output_type": "execute_result",
     "data": {
      "text/plain": [
       "          연번         확진일   지역        접촉력\n",
       "18248  17899  2020-12-28  관악구  기타 확진자 접촉\n",
       "18249  17898  2020-12-28  용산구  기타 확진자 접촉\n",
       "18250  17897  2020-12-28  도봉구  기타 확진자 접촉\n",
       "18251  17895  2020-12-28  양천구  기타 확진자 접촉\n",
       "18252  18253  2020-12-28  송파구   동부구치소 관련"
      ],
      "text/html": "<div>\n<style scoped>\n    .dataframe tbody tr th:only-of-type {\n        vertical-align: middle;\n    }\n\n    .dataframe tbody tr th {\n        vertical-align: top;\n    }\n\n    .dataframe thead th {\n        text-align: right;\n    }\n</style>\n<table border=\"1\" class=\"dataframe\">\n  <thead>\n    <tr style=\"text-align: right;\">\n      <th></th>\n      <th>연번</th>\n      <th>확진일</th>\n      <th>지역</th>\n      <th>접촉력</th>\n    </tr>\n  </thead>\n  <tbody>\n    <tr>\n      <th>18248</th>\n      <td>17899</td>\n      <td>2020-12-28</td>\n      <td>관악구</td>\n      <td>기타 확진자 접촉</td>\n    </tr>\n    <tr>\n      <th>18249</th>\n      <td>17898</td>\n      <td>2020-12-28</td>\n      <td>용산구</td>\n      <td>기타 확진자 접촉</td>\n    </tr>\n    <tr>\n      <th>18250</th>\n      <td>17897</td>\n      <td>2020-12-28</td>\n      <td>도봉구</td>\n      <td>기타 확진자 접촉</td>\n    </tr>\n    <tr>\n      <th>18251</th>\n      <td>17895</td>\n      <td>2020-12-28</td>\n      <td>양천구</td>\n      <td>기타 확진자 접촉</td>\n    </tr>\n    <tr>\n      <th>18252</th>\n      <td>18253</td>\n      <td>2020-12-28</td>\n      <td>송파구</td>\n      <td>동부구치소 관련</td>\n    </tr>\n  </tbody>\n</table>\n</div>"
     },
     "metadata": {},
     "execution_count": 50
    }
   ],
   "source": [
    "df.tail()"
   ]
  },
  {
   "cell_type": "code",
   "execution_count": 51,
   "metadata": {},
   "outputs": [],
   "source": [
    "conn = sqlite3.connect('./DB/covid-19.db')\n",
    "cur = conn.cursor()"
   ]
  },
  {
   "cell_type": "code",
   "execution_count": 52,
   "metadata": {},
   "outputs": [],
   "source": [
    "sql_table = '''\n",
    "    create table '서울시 확진자 현황'(\n",
    "        '연번' text not null primary key, '확진일' text not null,\n",
    "        '지역' text not null, 접촉력 text not null\n",
    "    )\n",
    "'''"
   ]
  },
  {
   "cell_type": "code",
   "execution_count": 53,
   "metadata": {},
   "outputs": [],
   "source": [
    "cur.execute(sql_table)\n",
    "conn.commit()"
   ]
  },
  {
   "cell_type": "code",
   "execution_count": 54,
   "metadata": {},
   "outputs": [],
   "source": [
    "sql_insert = 'insert into \"서울시 확진자 현황\" values(?,?,?,?)'"
   ]
  },
  {
   "cell_type": "code",
   "execution_count": 55,
   "metadata": {},
   "outputs": [],
   "source": [
    "for i in df.index:\n",
    "    params = list(df.loc[i])\n",
    "    cur.execute(sql_insert, params)\n",
    "    conn.commit()"
   ]
  },
  {
   "cell_type": "code",
   "execution_count": 56,
   "metadata": {},
   "outputs": [],
   "source": [
    "conn.close()"
   ]
  },
  {
   "cell_type": "code",
   "execution_count": 57,
   "metadata": {},
   "outputs": [],
   "source": [
    "conn = sqlite3.connect('./DB/covid-19.db')\n",
    "cur = conn.cursor()\n",
    "cur.execute(f'select * from \"서울시 확진자 현황\"')\n",
    "rows = cur.fetchall()\n",
    "conn.close()"
   ]
  },
  {
   "cell_type": "code",
   "execution_count": 58,
   "metadata": {},
   "outputs": [],
   "source": [
    "df = pd.DataFrame(rows, columns=['연번','확진일','지역','접촉력'])"
   ]
  },
  {
   "cell_type": "code",
   "execution_count": 59,
   "metadata": {},
   "outputs": [
    {
     "output_type": "execute_result",
     "data": {
      "text/plain": [
       "          연번         확진일   지역        접촉력\n",
       "0          1  2020-01-24  강서구      해외 접촉\n",
       "1          4  2020-01-30  마포구      해외 접촉\n",
       "2          2  2020-01-30  중랑구      해외 접촉\n",
       "3          3  2020-01-30  종로구      #3 접촉\n",
       "4          5  2020-01-31  성북구      #5 접촉\n",
       "...      ...         ...  ...        ...\n",
       "18248  17899  2020-12-28  관악구  기타 확진자 접촉\n",
       "18249  17898  2020-12-28  용산구  기타 확진자 접촉\n",
       "18250  17897  2020-12-28  도봉구  기타 확진자 접촉\n",
       "18251  17895  2020-12-28  양천구  기타 확진자 접촉\n",
       "18252  18253  2020-12-28  송파구   동부구치소 관련\n",
       "\n",
       "[18253 rows x 4 columns]"
      ],
      "text/html": "<div>\n<style scoped>\n    .dataframe tbody tr th:only-of-type {\n        vertical-align: middle;\n    }\n\n    .dataframe tbody tr th {\n        vertical-align: top;\n    }\n\n    .dataframe thead th {\n        text-align: right;\n    }\n</style>\n<table border=\"1\" class=\"dataframe\">\n  <thead>\n    <tr style=\"text-align: right;\">\n      <th></th>\n      <th>연번</th>\n      <th>확진일</th>\n      <th>지역</th>\n      <th>접촉력</th>\n    </tr>\n  </thead>\n  <tbody>\n    <tr>\n      <th>0</th>\n      <td>1</td>\n      <td>2020-01-24</td>\n      <td>강서구</td>\n      <td>해외 접촉</td>\n    </tr>\n    <tr>\n      <th>1</th>\n      <td>4</td>\n      <td>2020-01-30</td>\n      <td>마포구</td>\n      <td>해외 접촉</td>\n    </tr>\n    <tr>\n      <th>2</th>\n      <td>2</td>\n      <td>2020-01-30</td>\n      <td>중랑구</td>\n      <td>해외 접촉</td>\n    </tr>\n    <tr>\n      <th>3</th>\n      <td>3</td>\n      <td>2020-01-30</td>\n      <td>종로구</td>\n      <td>#3 접촉</td>\n    </tr>\n    <tr>\n      <th>4</th>\n      <td>5</td>\n      <td>2020-01-31</td>\n      <td>성북구</td>\n      <td>#5 접촉</td>\n    </tr>\n    <tr>\n      <th>...</th>\n      <td>...</td>\n      <td>...</td>\n      <td>...</td>\n      <td>...</td>\n    </tr>\n    <tr>\n      <th>18248</th>\n      <td>17899</td>\n      <td>2020-12-28</td>\n      <td>관악구</td>\n      <td>기타 확진자 접촉</td>\n    </tr>\n    <tr>\n      <th>18249</th>\n      <td>17898</td>\n      <td>2020-12-28</td>\n      <td>용산구</td>\n      <td>기타 확진자 접촉</td>\n    </tr>\n    <tr>\n      <th>18250</th>\n      <td>17897</td>\n      <td>2020-12-28</td>\n      <td>도봉구</td>\n      <td>기타 확진자 접촉</td>\n    </tr>\n    <tr>\n      <th>18251</th>\n      <td>17895</td>\n      <td>2020-12-28</td>\n      <td>양천구</td>\n      <td>기타 확진자 접촉</td>\n    </tr>\n    <tr>\n      <th>18252</th>\n      <td>18253</td>\n      <td>2020-12-28</td>\n      <td>송파구</td>\n      <td>동부구치소 관련</td>\n    </tr>\n  </tbody>\n</table>\n<p>18253 rows × 4 columns</p>\n</div>"
     },
     "metadata": {},
     "execution_count": 59
    }
   ],
   "source": [
    "df"
   ]
  },
  {
   "cell_type": "code",
   "execution_count": 60,
   "metadata": {},
   "outputs": [],
   "source": [
    "sam = df[df['지역'] == '강서구'].pivot_table('연번','접촉력',aggfunc=\"count\")"
   ]
  },
  {
   "cell_type": "code",
   "execution_count": 61,
   "metadata": {},
   "outputs": [
    {
     "output_type": "execute_result",
     "data": {
      "text/plain": [
       "                      연번\n",
       "접촉력                     \n",
       "기타 확진자 접촉            330\n",
       "감염경로 조사중             215\n",
       "강서구 교회 관련            163\n",
       "강서구 댄스교습관련 시설        153\n",
       "타시도 확진자 접촉            45\n",
       "확인 중                  26\n",
       "8.15서울도심집회            18\n",
       "강서구 소재 병원관련(11월)      16\n",
       "강서구 소재 댄스교습시설 연관 병원   16\n",
       "관악구 소재 음식점 관련         14"
      ],
      "text/html": "<div>\n<style scoped>\n    .dataframe tbody tr th:only-of-type {\n        vertical-align: middle;\n    }\n\n    .dataframe tbody tr th {\n        vertical-align: top;\n    }\n\n    .dataframe thead th {\n        text-align: right;\n    }\n</style>\n<table border=\"1\" class=\"dataframe\">\n  <thead>\n    <tr style=\"text-align: right;\">\n      <th></th>\n      <th>연번</th>\n    </tr>\n    <tr>\n      <th>접촉력</th>\n      <th></th>\n    </tr>\n  </thead>\n  <tbody>\n    <tr>\n      <th>기타 확진자 접촉</th>\n      <td>330</td>\n    </tr>\n    <tr>\n      <th>감염경로 조사중</th>\n      <td>215</td>\n    </tr>\n    <tr>\n      <th>강서구 교회 관련</th>\n      <td>163</td>\n    </tr>\n    <tr>\n      <th>강서구 댄스교습관련 시설</th>\n      <td>153</td>\n    </tr>\n    <tr>\n      <th>타시도 확진자 접촉</th>\n      <td>45</td>\n    </tr>\n    <tr>\n      <th>확인 중</th>\n      <td>26</td>\n    </tr>\n    <tr>\n      <th>8.15서울도심집회</th>\n      <td>18</td>\n    </tr>\n    <tr>\n      <th>강서구 소재 병원관련(11월)</th>\n      <td>16</td>\n    </tr>\n    <tr>\n      <th>강서구 소재 댄스교습시설 연관 병원</th>\n      <td>16</td>\n    </tr>\n    <tr>\n      <th>관악구 소재 음식점 관련</th>\n      <td>14</td>\n    </tr>\n  </tbody>\n</table>\n</div>"
     },
     "metadata": {},
     "execution_count": 61
    }
   ],
   "source": [
    "sam.sort_values(by='연번', ascending=False).head(10)"
   ]
  },
  {
   "cell_type": "code",
   "execution_count": 62,
   "metadata": {},
   "outputs": [
    {
     "output_type": "execute_result",
     "data": {
      "text/plain": [
       "['기타 확진자 접촉',\n",
       " '감염경로 조사중',\n",
       " '강서구 교회 관련',\n",
       " '강서구 댄스교습관련 시설',\n",
       " '타시도 확진자 접촉',\n",
       " '확인 중',\n",
       " '8.15서울도심집회',\n",
       " '강서구 소재 병원관련(11월)',\n",
       " '강서구 소재 댄스교습시설 연관 병원',\n",
       " '관악구 소재 음식점 관련']"
      ]
     },
     "metadata": {},
     "execution_count": 62
    }
   ],
   "source": [
    "list(sam.sort_values(by='연번', ascending=False).head(10).index)"
   ]
  },
  {
   "cell_type": "code",
   "execution_count": 63,
   "metadata": {},
   "outputs": [
    {
     "output_type": "execute_result",
     "data": {
      "text/plain": [
       "접촉력\n",
       "기타 확진자 접촉              330\n",
       "감염경로 조사중               215\n",
       "강서구 교회 관련              163\n",
       "강서구 댄스교습관련 시설          153\n",
       "타시도 확진자 접촉              45\n",
       "확인 중                    26\n",
       "8.15서울도심집회              18\n",
       "강서구 소재 병원관련(11월)        16\n",
       "강서구 소재 댄스교습시설 연관 병원     16\n",
       "관악구 소재 음식점 관련           14\n",
       "Name: 연번, dtype: int64"
      ]
     },
     "metadata": {},
     "execution_count": 63
    }
   ],
   "source": [
    "sam.sort_values(by='연번', ascending=False).head(10)['연번']"
   ]
  },
  {
   "cell_type": "code",
   "execution_count": 64,
   "metadata": {},
   "outputs": [],
   "source": [
    "a_d = df.pivot_table('연번', '지역', aggfunc='count')"
   ]
  },
  {
   "cell_type": "code",
   "execution_count": 10,
   "metadata": {},
   "outputs": [],
   "source": [
    "a_d.rename({'연번':'확진자수'},axis=1, inplace=True)"
   ]
  },
  {
   "cell_type": "code",
   "execution_count": 11,
   "metadata": {},
   "outputs": [],
   "source": [
    "city_list = []\n",
    "for i in a_d.index:\n",
    "    if i.find('구') != -1 :\n",
    "        city_list.append(i+'청')"
   ]
  },
  {
   "cell_type": "code",
   "execution_count": 12,
   "metadata": {},
   "outputs": [],
   "source": [
    "addr_list = []\n",
    "for i in city_list:\n",
    "    url = 'https://dapi.kakao.com/v2/local/search/keyword.json?query=' + i\n",
    "    result = requests.get(urlparse(url).geturl(),headers={\"Authorization\": \"KakaoAK \"+kmap_key}).json()\n",
    "    addr = result['documents'][0]['address_name']\n",
    "    addr_list.append(addr)"
   ]
  },
  {
   "cell_type": "code",
   "execution_count": 84,
   "metadata": {},
   "outputs": [],
   "source": [
    "lat_list =[] ; lng_list = [] \n",
    "for i in addr_list:\n",
    "    url = 'https://dapi.kakao.com/v2/local/search/address.json?query=' + i\n",
    "    result = requests.get(urlparse(url).geturl(),headers={\"Authorization\": \"KakaoAK \"+kmap_key}).json()\n",
    "    lat = float(result['documents'][0]['address']['y'])\n",
    "    lng = float(result['documents'][0]['address']['x'])\n",
    "    lat_list.append(lat)\n",
    "    lng_list.append(lng)"
   ]
  },
  {
   "cell_type": "code",
   "execution_count": 85,
   "metadata": {},
   "outputs": [],
   "source": [
    "gu_df = pd.DataFrame({\n",
    "    '지역' : city_list,\n",
    "    '주소' : addr_list,\n",
    "    'lat' : lat_list,\n",
    "    'lng' : lng_list\n",
    "})"
   ]
  },
  {
   "cell_type": "code",
   "execution_count": 86,
   "metadata": {},
   "outputs": [],
   "source": [
    "gu_df.to_csv('static/data/서울구청리스트.csv')"
   ]
  },
  {
   "cell_type": "code",
   "execution_count": 87,
   "metadata": {},
   "outputs": [
    {
     "output_type": "execute_result",
     "data": {
      "text/plain": [
       "      확진자수\n",
       "지역        \n",
       "강남구    910\n",
       "강동구    549\n",
       "강북구    409\n",
       "강서구   1307\n",
       "관악구    963\n",
       "광진구    434\n",
       "구로구    592\n",
       "금천구    293\n",
       "기타     851\n",
       "노원구    772\n",
       "도봉구    540\n",
       "동대문구   629\n",
       "동작구    758\n",
       "마포구    675\n",
       "서대문구   488\n",
       "서초구    799\n",
       "성동구    440\n",
       "성북구    773\n",
       "송파구   1315\n",
       "양천구    674\n",
       "영등포구   662\n",
       "용산구    408\n",
       "은평구    752\n",
       "종로구    381\n",
       "중구     286\n",
       "중랑구    733\n",
       "타시도    799"
      ],
      "text/html": "<div>\n<style scoped>\n    .dataframe tbody tr th:only-of-type {\n        vertical-align: middle;\n    }\n\n    .dataframe tbody tr th {\n        vertical-align: top;\n    }\n\n    .dataframe thead th {\n        text-align: right;\n    }\n</style>\n<table border=\"1\" class=\"dataframe\">\n  <thead>\n    <tr style=\"text-align: right;\">\n      <th></th>\n      <th>확진자수</th>\n    </tr>\n    <tr>\n      <th>지역</th>\n      <th></th>\n    </tr>\n  </thead>\n  <tbody>\n    <tr>\n      <th>강남구</th>\n      <td>910</td>\n    </tr>\n    <tr>\n      <th>강동구</th>\n      <td>549</td>\n    </tr>\n    <tr>\n      <th>강북구</th>\n      <td>409</td>\n    </tr>\n    <tr>\n      <th>강서구</th>\n      <td>1307</td>\n    </tr>\n    <tr>\n      <th>관악구</th>\n      <td>963</td>\n    </tr>\n    <tr>\n      <th>광진구</th>\n      <td>434</td>\n    </tr>\n    <tr>\n      <th>구로구</th>\n      <td>592</td>\n    </tr>\n    <tr>\n      <th>금천구</th>\n      <td>293</td>\n    </tr>\n    <tr>\n      <th>기타</th>\n      <td>851</td>\n    </tr>\n    <tr>\n      <th>노원구</th>\n      <td>772</td>\n    </tr>\n    <tr>\n      <th>도봉구</th>\n      <td>540</td>\n    </tr>\n    <tr>\n      <th>동대문구</th>\n      <td>629</td>\n    </tr>\n    <tr>\n      <th>동작구</th>\n      <td>758</td>\n    </tr>\n    <tr>\n      <th>마포구</th>\n      <td>675</td>\n    </tr>\n    <tr>\n      <th>서대문구</th>\n      <td>488</td>\n    </tr>\n    <tr>\n      <th>서초구</th>\n      <td>799</td>\n    </tr>\n    <tr>\n      <th>성동구</th>\n      <td>440</td>\n    </tr>\n    <tr>\n      <th>성북구</th>\n      <td>773</td>\n    </tr>\n    <tr>\n      <th>송파구</th>\n      <td>1315</td>\n    </tr>\n    <tr>\n      <th>양천구</th>\n      <td>674</td>\n    </tr>\n    <tr>\n      <th>영등포구</th>\n      <td>662</td>\n    </tr>\n    <tr>\n      <th>용산구</th>\n      <td>408</td>\n    </tr>\n    <tr>\n      <th>은평구</th>\n      <td>752</td>\n    </tr>\n    <tr>\n      <th>종로구</th>\n      <td>381</td>\n    </tr>\n    <tr>\n      <th>중구</th>\n      <td>286</td>\n    </tr>\n    <tr>\n      <th>중랑구</th>\n      <td>733</td>\n    </tr>\n    <tr>\n      <th>타시도</th>\n      <td>799</td>\n    </tr>\n  </tbody>\n</table>\n</div>"
     },
     "metadata": {},
     "execution_count": 87
    }
   ],
   "source": [
    "a_d"
   ]
  },
  {
   "cell_type": "code",
   "execution_count": 67,
   "metadata": {},
   "outputs": [],
   "source": [
    "d_day = df[df['지역'] == '강서구'].pivot_table('연번','확진일',aggfunc=\"count\")"
   ]
  },
  {
   "cell_type": "code",
   "execution_count": 68,
   "metadata": {},
   "outputs": [],
   "source": [
    "ten_day = d_day.sort_values(by='확진일', ascending=False).head(10)"
   ]
  },
  {
   "cell_type": "code",
   "execution_count": 95,
   "metadata": {},
   "outputs": [
    {
     "output_type": "execute_result",
     "data": {
      "text/plain": [
       "['2020-12-19',\n",
       " '2020-12-20',\n",
       " '2020-12-21',\n",
       " '2020-12-22',\n",
       " '2020-12-23',\n",
       " '2020-12-24',\n",
       " '2020-12-25',\n",
       " '2020-12-26',\n",
       " '2020-12-27',\n",
       " '2020-12-28']"
      ]
     },
     "metadata": {},
     "execution_count": 95
    }
   ],
   "source": [
    "list(ten_day.index)[::-1]\n"
   ]
  },
  {
   "cell_type": "code",
   "execution_count": 119,
   "metadata": {},
   "outputs": [
    {
     "output_type": "execute_result",
     "data": {
      "text/plain": [
       "'2020-12-28'"
      ]
     },
     "metadata": {},
     "execution_count": 119
    }
   ],
   "source": []
  },
  {
   "cell_type": "code",
   "execution_count": null,
   "metadata": {},
   "outputs": [],
   "source": [
    "ten_day = d_day.sort_values(by='확진일', ascending=False).head(10)\n",
    "ten_date = list(ten_day.index)\n",
    "ten_val = list(ten_day['연번'].values)"
   ]
  }
 ]
}