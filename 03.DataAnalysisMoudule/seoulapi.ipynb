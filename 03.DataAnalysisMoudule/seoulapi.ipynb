{
 "metadata": {
  "language_info": {
   "codemirror_mode": {
    "name": "ipython",
    "version": 3
   },
   "file_extension": ".py",
   "mimetype": "text/x-python",
   "name": "python",
   "nbconvert_exporter": "python",
   "pygments_lexer": "ipython3",
   "version": "3.8.5-final"
  },
  "orig_nbformat": 2,
  "kernelspec": {
   "name": "python3",
   "display_name": "Python 3",
   "language": "python"
  }
 },
 "nbformat": 4,
 "nbformat_minor": 2,
 "cells": [
  {
   "cell_type": "code",
   "execution_count": 96,
   "metadata": {},
   "outputs": [],
   "source": [
    "from bs4 import BeautifulSoup\n",
    "import requests\n",
    "import math\n",
    "import pandas as pd\n",
    "import numpy as np\n",
    "from urllib.parse import urlparse\n",
    "import sqlite3\n",
    "key_fd = open('./과제data/kakaomapkey.txt', mode='r')\n",
    "kmap_key = key_fd.read(100)\n",
    "key_fd.close()"
   ]
  },
  {
   "cell_type": "code",
   "execution_count": 97,
   "metadata": {},
   "outputs": [],
   "source": [
    "key_fd = open('./과제data/seoulapikey.txt', mode='r')\n",
    "seoul_key = key_fd.read(100)\n",
    "key_fd.close()"
   ]
  },
  {
   "cell_type": "code",
   "execution_count": 98,
   "metadata": {},
   "outputs": [],
   "source": [
    "seoul_url = 'http://openapi.seoul.go.kr:8088/'\n",
    "url = f'{seoul_url}{seoul_key}/xml/Corona19Status/1/1000'"
   ]
  },
  {
   "cell_type": "code",
   "execution_count": 99,
   "metadata": {},
   "outputs": [
    {
     "output_type": "execute_result",
     "data": {
      "text/plain": [
       "'http://openapi.seoul.go.kr:8088/694f57486f686a6b33387443706a41/xml/Corona19Status/1/1000'"
      ]
     },
     "metadata": {},
     "execution_count": 99
    }
   ],
   "source": [
    "url"
   ]
  },
  {
   "cell_type": "code",
   "execution_count": 100,
   "metadata": {},
   "outputs": [
    {
     "output_type": "execute_result",
     "data": {
      "text/plain": [
       "'정상 처리되었습니다'"
      ]
     },
     "metadata": {},
     "execution_count": 100
    }
   ],
   "source": [
    "result = requests.get(url)\n",
    "soup = BeautifulSoup(result.text, 'xml')\n",
    "soup.find('MESSAGE').get_text()"
   ]
  },
  {
   "cell_type": "code",
   "execution_count": 101,
   "metadata": {},
   "outputs": [],
   "source": [
    "total_count = int(soup.find('list_total_count').get_text())"
   ]
  },
  {
   "cell_type": "code",
   "execution_count": 102,
   "metadata": {},
   "outputs": [
    {
     "output_type": "execute_result",
     "data": {
      "text/plain": [
       "19.004"
      ]
     },
     "metadata": {},
     "execution_count": 102
    }
   ],
   "source": [
    "total_count/1000"
   ]
  },
  {
   "cell_type": "code",
   "execution_count": 103,
   "metadata": {},
   "outputs": [
    {
     "output_type": "execute_result",
     "data": {
      "text/plain": [
       "20"
      ]
     },
     "metadata": {},
     "execution_count": 103
    }
   ],
   "source": [
    "count = math.ceil(total_count/1000)\n",
    "count"
   ]
  },
  {
   "cell_type": "code",
   "execution_count": 104,
   "metadata": {},
   "outputs": [],
   "source": [
    "rows = soup.find_all('row')"
   ]
  },
  {
   "cell_type": "code",
   "execution_count": 105,
   "metadata": {},
   "outputs": [
    {
     "output_type": "execute_result",
     "data": {
      "text/plain": [
       "'20.12.30.'"
      ]
     },
     "metadata": {},
     "execution_count": 105
    }
   ],
   "source": [
    "rows[0].find('CORONA19_DATE').text"
   ]
  },
  {
   "cell_type": "code",
   "execution_count": 106,
   "metadata": {},
   "outputs": [
    {
     "output_type": "execute_result",
     "data": {
      "text/plain": [
       "'기타'"
      ]
     },
     "metadata": {},
     "execution_count": 106
    }
   ],
   "source": [
    "rows[0].find('CORONA19_AREA').text"
   ]
  },
  {
   "cell_type": "code",
   "execution_count": 107,
   "metadata": {},
   "outputs": [
    {
     "output_type": "execute_result",
     "data": {
      "text/plain": [
       "'19004'"
      ]
     },
     "metadata": {},
     "execution_count": 107
    }
   ],
   "source": [
    "rows[0].find('CORONA19_ID').text"
   ]
  },
  {
   "cell_type": "code",
   "execution_count": 108,
   "metadata": {},
   "outputs": [
    {
     "output_type": "execute_result",
     "data": {
      "text/plain": [
       "'동부구치소 관련'"
      ]
     },
     "metadata": {},
     "execution_count": 108
    }
   ],
   "source": [
    "rows[0].find('CORONA19_CONTACT_HISTORY').text"
   ]
  },
  {
   "cell_type": "code",
   "execution_count": 109,
   "metadata": {},
   "outputs": [],
   "source": [
    "id_list, area_list, date_list,histroy_list = [],[],[],[]\n",
    "a_url = f'{seoul_url}{seoul_key}/xml/Corona19Status'\n",
    "x = 1\n",
    "for i in range(count):  \n",
    "    url = f'{a_url}/{x}/{x+999}'\n",
    "    x += 1000\n",
    "    result = requests.get(url)\n",
    "    soup = BeautifulSoup(result.text, 'xml')\n",
    "    rows = soup.find_all('row')\n",
    "    for row in rows:\n",
    "        id_list.append(row.find('CORONA19_ID').text)\n",
    "        area_list.append(row.find('CORONA19_AREA').text)\n",
    "        date_list.append(row.find('CORONA19_DATE').text)\n",
    "        histroy_list.append(row.find('CORONA19_CONTACT_HISTORY').text)"
   ]
  },
  {
   "cell_type": "code",
   "execution_count": 110,
   "metadata": {},
   "outputs": [],
   "source": [
    "df = pd.DataFrame({\n",
    "    '연번' : id_list,\n",
    "    '확진일' : date_list,\n",
    "    '지역' : area_list,\n",
    "    '접촉력' : histroy_list\n",
    "})"
   ]
  },
  {
   "cell_type": "code",
   "execution_count": 111,
   "metadata": {},
   "outputs": [
    {
     "output_type": "execute_result",
     "data": {
      "text/plain": [
       "19004"
      ]
     },
     "metadata": {},
     "execution_count": 111
    }
   ],
   "source": [
    "len(histroy_list)"
   ]
  },
  {
   "cell_type": "code",
   "execution_count": 112,
   "metadata": {},
   "outputs": [],
   "source": [
    "df['지역'] = df['지역'].str.replace(' ','')"
   ]
  },
  {
   "cell_type": "code",
   "execution_count": 113,
   "metadata": {},
   "outputs": [
    {
     "output_type": "execute_result",
     "data": {
      "text/plain": [
       "3381    중로구\n",
       "Name: 지역, dtype: object"
      ]
     },
     "metadata": {},
     "execution_count": 113
    }
   ],
   "source": [
    "df['지역'][df['지역'] == '중로구']"
   ]
  },
  {
   "cell_type": "code",
   "execution_count": 114,
   "metadata": {},
   "outputs": [],
   "source": [
    "df['지역'][df['지역'] == '중로구'] = '종로구'\n",
    "df['지역'][df['지역'] == '앙쳔구'] = '양천구'"
   ]
  },
  {
   "cell_type": "code",
   "execution_count": 115,
   "metadata": {},
   "outputs": [
    {
     "output_type": "execute_result",
     "data": {
      "text/plain": [
       "Series([], Name: 지역, dtype: object)"
      ]
     },
     "metadata": {},
     "execution_count": 115
    }
   ],
   "source": [
    "df['지역'][df['지역'] == '앙쳔구']"
   ]
  },
  {
   "cell_type": "code",
   "execution_count": 116,
   "metadata": {},
   "outputs": [],
   "source": [
    "df['확진일'] = '20' + df['확진일']"
   ]
  },
  {
   "cell_type": "code",
   "execution_count": 117,
   "metadata": {},
   "outputs": [],
   "source": [
    "df['확진일'] = df['확진일'].str.replace('.','-').str[:-1]"
   ]
  },
  {
   "cell_type": "code",
   "execution_count": 118,
   "metadata": {},
   "outputs": [
    {
     "output_type": "execute_result",
     "data": {
      "text/plain": [
       "0        2020-12-30\n",
       "1        2020-12-30\n",
       "2        2020-12-30\n",
       "3        2020-12-30\n",
       "4        2020-12-30\n",
       "            ...    \n",
       "18999     2020-1-31\n",
       "19000     2020-1-30\n",
       "19001     2020-1-30\n",
       "19002     2020-1-30\n",
       "19003     2020-1-24\n",
       "Name: 확진일, Length: 19004, dtype: object"
      ]
     },
     "metadata": {},
     "execution_count": 118
    }
   ],
   "source": [
    "df['확진일']"
   ]
  },
  {
   "cell_type": "code",
   "execution_count": 119,
   "metadata": {},
   "outputs": [],
   "source": [
    "df['확진일'] = pd.to_datetime(df['확진일'])"
   ]
  },
  {
   "cell_type": "code",
   "execution_count": 120,
   "metadata": {},
   "outputs": [],
   "source": [
    "df['확진일'] = df['확진일'].astype(str)"
   ]
  },
  {
   "cell_type": "code",
   "execution_count": 121,
   "metadata": {},
   "outputs": [],
   "source": [
    "df = df.sort_values(by='확진일')"
   ]
  },
  {
   "cell_type": "code",
   "execution_count": 122,
   "metadata": {},
   "outputs": [],
   "source": [
    "df.reset_index(drop=True,inplace=True)"
   ]
  },
  {
   "cell_type": "code",
   "execution_count": 123,
   "metadata": {},
   "outputs": [
    {
     "output_type": "execute_result",
     "data": {
      "text/plain": [
       "          연번         확진일    지역           접촉력\n",
       "18999  18757  2020-12-30   광진구     기타 확진자 접촉\n",
       "19000  18756  2020-12-30   금천구     기타 확진자 접촉\n",
       "19001  18755  2020-12-30   송파구     기타 확진자 접촉\n",
       "19002  18753  2020-12-30  영등포구  영등포구 소재 의료기관\n",
       "19003  19004  2020-12-30    기타      동부구치소 관련"
      ],
      "text/html": "<div>\n<style scoped>\n    .dataframe tbody tr th:only-of-type {\n        vertical-align: middle;\n    }\n\n    .dataframe tbody tr th {\n        vertical-align: top;\n    }\n\n    .dataframe thead th {\n        text-align: right;\n    }\n</style>\n<table border=\"1\" class=\"dataframe\">\n  <thead>\n    <tr style=\"text-align: right;\">\n      <th></th>\n      <th>연번</th>\n      <th>확진일</th>\n      <th>지역</th>\n      <th>접촉력</th>\n    </tr>\n  </thead>\n  <tbody>\n    <tr>\n      <th>18999</th>\n      <td>18757</td>\n      <td>2020-12-30</td>\n      <td>광진구</td>\n      <td>기타 확진자 접촉</td>\n    </tr>\n    <tr>\n      <th>19000</th>\n      <td>18756</td>\n      <td>2020-12-30</td>\n      <td>금천구</td>\n      <td>기타 확진자 접촉</td>\n    </tr>\n    <tr>\n      <th>19001</th>\n      <td>18755</td>\n      <td>2020-12-30</td>\n      <td>송파구</td>\n      <td>기타 확진자 접촉</td>\n    </tr>\n    <tr>\n      <th>19002</th>\n      <td>18753</td>\n      <td>2020-12-30</td>\n      <td>영등포구</td>\n      <td>영등포구 소재 의료기관</td>\n    </tr>\n    <tr>\n      <th>19003</th>\n      <td>19004</td>\n      <td>2020-12-30</td>\n      <td>기타</td>\n      <td>동부구치소 관련</td>\n    </tr>\n  </tbody>\n</table>\n</div>"
     },
     "metadata": {},
     "execution_count": 123
    }
   ],
   "source": [
    "df.tail()"
   ]
  },
  {
   "cell_type": "code",
   "execution_count": 124,
   "metadata": {},
   "outputs": [],
   "source": [
    "conn = sqlite3.connect('./DB/covid-19.db')\n",
    "cur = conn.cursor()"
   ]
  },
  {
   "cell_type": "code",
   "execution_count": 125,
   "metadata": {},
   "outputs": [],
   "source": [
    "sql_table = '''\n",
    "    create table '서울시 확진자 현황'(\n",
    "        '연번' text not null primary key, '확진일' text not null,\n",
    "        '지역' text not null, 접촉력 text not null\n",
    "    )\n",
    "'''"
   ]
  },
  {
   "cell_type": "code",
   "execution_count": 126,
   "metadata": {},
   "outputs": [],
   "source": [
    "cur.execute(sql_table)\n",
    "conn.commit()"
   ]
  },
  {
   "cell_type": "code",
   "execution_count": 127,
   "metadata": {},
   "outputs": [],
   "source": [
    "sql_insert = 'insert into \"서울시 확진자 현황\" values(?,?,?,?)'"
   ]
  },
  {
   "cell_type": "code",
   "execution_count": 128,
   "metadata": {},
   "outputs": [],
   "source": [
    "for i in df.index:\n",
    "    params = list(df.loc[i])\n",
    "    cur.execute(sql_insert, params)\n",
    "    conn.commit()"
   ]
  },
  {
   "cell_type": "code",
   "execution_count": 129,
   "metadata": {},
   "outputs": [],
   "source": [
    "conn.close()"
   ]
  },
  {
   "cell_type": "code",
   "execution_count": 130,
   "metadata": {},
   "outputs": [],
   "source": [
    "conn = sqlite3.connect('./DB/covid-19.db')\n",
    "cur = conn.cursor()\n",
    "cur.execute(f'select * from \"서울시 확진자 현황\"')\n",
    "rows = cur.fetchall()\n",
    "conn.close()"
   ]
  },
  {
   "cell_type": "code",
   "execution_count": 131,
   "metadata": {},
   "outputs": [],
   "source": [
    "df = pd.DataFrame(rows, columns=['연번','확진일','지역','접촉력'])"
   ]
  },
  {
   "cell_type": "code",
   "execution_count": 132,
   "metadata": {},
   "outputs": [
    {
     "output_type": "execute_result",
     "data": {
      "text/plain": [
       "          연번         확진일    지역           접촉력\n",
       "0          1  2020-01-24   강서구         해외 접촉\n",
       "1          4  2020-01-30   마포구         해외 접촉\n",
       "2          2  2020-01-30   중랑구         해외 접촉\n",
       "3          3  2020-01-30   종로구         #3 접촉\n",
       "4          5  2020-01-31   성북구         #5 접촉\n",
       "...      ...         ...   ...           ...\n",
       "18999  18757  2020-12-30   광진구     기타 확진자 접촉\n",
       "19000  18756  2020-12-30   금천구     기타 확진자 접촉\n",
       "19001  18755  2020-12-30   송파구     기타 확진자 접촉\n",
       "19002  18753  2020-12-30  영등포구  영등포구 소재 의료기관\n",
       "19003  19004  2020-12-30    기타      동부구치소 관련\n",
       "\n",
       "[19004 rows x 4 columns]"
      ],
      "text/html": "<div>\n<style scoped>\n    .dataframe tbody tr th:only-of-type {\n        vertical-align: middle;\n    }\n\n    .dataframe tbody tr th {\n        vertical-align: top;\n    }\n\n    .dataframe thead th {\n        text-align: right;\n    }\n</style>\n<table border=\"1\" class=\"dataframe\">\n  <thead>\n    <tr style=\"text-align: right;\">\n      <th></th>\n      <th>연번</th>\n      <th>확진일</th>\n      <th>지역</th>\n      <th>접촉력</th>\n    </tr>\n  </thead>\n  <tbody>\n    <tr>\n      <th>0</th>\n      <td>1</td>\n      <td>2020-01-24</td>\n      <td>강서구</td>\n      <td>해외 접촉</td>\n    </tr>\n    <tr>\n      <th>1</th>\n      <td>4</td>\n      <td>2020-01-30</td>\n      <td>마포구</td>\n      <td>해외 접촉</td>\n    </tr>\n    <tr>\n      <th>2</th>\n      <td>2</td>\n      <td>2020-01-30</td>\n      <td>중랑구</td>\n      <td>해외 접촉</td>\n    </tr>\n    <tr>\n      <th>3</th>\n      <td>3</td>\n      <td>2020-01-30</td>\n      <td>종로구</td>\n      <td>#3 접촉</td>\n    </tr>\n    <tr>\n      <th>4</th>\n      <td>5</td>\n      <td>2020-01-31</td>\n      <td>성북구</td>\n      <td>#5 접촉</td>\n    </tr>\n    <tr>\n      <th>...</th>\n      <td>...</td>\n      <td>...</td>\n      <td>...</td>\n      <td>...</td>\n    </tr>\n    <tr>\n      <th>18999</th>\n      <td>18757</td>\n      <td>2020-12-30</td>\n      <td>광진구</td>\n      <td>기타 확진자 접촉</td>\n    </tr>\n    <tr>\n      <th>19000</th>\n      <td>18756</td>\n      <td>2020-12-30</td>\n      <td>금천구</td>\n      <td>기타 확진자 접촉</td>\n    </tr>\n    <tr>\n      <th>19001</th>\n      <td>18755</td>\n      <td>2020-12-30</td>\n      <td>송파구</td>\n      <td>기타 확진자 접촉</td>\n    </tr>\n    <tr>\n      <th>19002</th>\n      <td>18753</td>\n      <td>2020-12-30</td>\n      <td>영등포구</td>\n      <td>영등포구 소재 의료기관</td>\n    </tr>\n    <tr>\n      <th>19003</th>\n      <td>19004</td>\n      <td>2020-12-30</td>\n      <td>기타</td>\n      <td>동부구치소 관련</td>\n    </tr>\n  </tbody>\n</table>\n<p>19004 rows × 4 columns</p>\n</div>"
     },
     "metadata": {},
     "execution_count": 132
    }
   ],
   "source": [
    "df"
   ]
  },
  {
   "cell_type": "code",
   "execution_count": 133,
   "metadata": {},
   "outputs": [],
   "source": [
    "sam = df[df['지역'] == '강서구'].pivot_table('연번','접촉력',aggfunc=\"count\")"
   ]
  },
  {
   "cell_type": "code",
   "execution_count": 134,
   "metadata": {},
   "outputs": [
    {
     "output_type": "execute_result",
     "data": {
      "text/plain": [
       "                      연번\n",
       "접촉력                     \n",
       "기타 확진자 접촉            340\n",
       "감염경로 조사중             222\n",
       "강서구 교회 관련            164\n",
       "강서구 댄스교습관련 시설        153\n",
       "타시도 확진자 접촉            45\n",
       "확인 중                  26\n",
       "8.15서울도심집회            18\n",
       "강서구 소재 댄스교습시설 연관 병원   16\n",
       "강서구 소재 병원관련(11월)      16\n",
       "관악구 소재 음식점 관련         14"
      ],
      "text/html": "<div>\n<style scoped>\n    .dataframe tbody tr th:only-of-type {\n        vertical-align: middle;\n    }\n\n    .dataframe tbody tr th {\n        vertical-align: top;\n    }\n\n    .dataframe thead th {\n        text-align: right;\n    }\n</style>\n<table border=\"1\" class=\"dataframe\">\n  <thead>\n    <tr style=\"text-align: right;\">\n      <th></th>\n      <th>연번</th>\n    </tr>\n    <tr>\n      <th>접촉력</th>\n      <th></th>\n    </tr>\n  </thead>\n  <tbody>\n    <tr>\n      <th>기타 확진자 접촉</th>\n      <td>340</td>\n    </tr>\n    <tr>\n      <th>감염경로 조사중</th>\n      <td>222</td>\n    </tr>\n    <tr>\n      <th>강서구 교회 관련</th>\n      <td>164</td>\n    </tr>\n    <tr>\n      <th>강서구 댄스교습관련 시설</th>\n      <td>153</td>\n    </tr>\n    <tr>\n      <th>타시도 확진자 접촉</th>\n      <td>45</td>\n    </tr>\n    <tr>\n      <th>확인 중</th>\n      <td>26</td>\n    </tr>\n    <tr>\n      <th>8.15서울도심집회</th>\n      <td>18</td>\n    </tr>\n    <tr>\n      <th>강서구 소재 댄스교습시설 연관 병원</th>\n      <td>16</td>\n    </tr>\n    <tr>\n      <th>강서구 소재 병원관련(11월)</th>\n      <td>16</td>\n    </tr>\n    <tr>\n      <th>관악구 소재 음식점 관련</th>\n      <td>14</td>\n    </tr>\n  </tbody>\n</table>\n</div>"
     },
     "metadata": {},
     "execution_count": 134
    }
   ],
   "source": [
    "sam.sort_values(by='연번', ascending=False).head(10)"
   ]
  },
  {
   "cell_type": "code",
   "execution_count": 135,
   "metadata": {},
   "outputs": [
    {
     "output_type": "execute_result",
     "data": {
      "text/plain": [
       "['기타 확진자 접촉',\n",
       " '감염경로 조사중',\n",
       " '강서구 교회 관련',\n",
       " '강서구 댄스교습관련 시설',\n",
       " '타시도 확진자 접촉',\n",
       " '확인 중',\n",
       " '8.15서울도심집회',\n",
       " '강서구 소재 댄스교습시설 연관 병원',\n",
       " '강서구 소재 병원관련(11월)',\n",
       " '관악구 소재 음식점 관련']"
      ]
     },
     "metadata": {},
     "execution_count": 135
    }
   ],
   "source": [
    "list(sam.sort_values(by='연번', ascending=False).head(10).index)"
   ]
  },
  {
   "cell_type": "code",
   "execution_count": 136,
   "metadata": {},
   "outputs": [
    {
     "output_type": "execute_result",
     "data": {
      "text/plain": [
       "접촉력\n",
       "기타 확진자 접촉              340\n",
       "감염경로 조사중               222\n",
       "강서구 교회 관련              164\n",
       "강서구 댄스교습관련 시설          153\n",
       "타시도 확진자 접촉              45\n",
       "확인 중                    26\n",
       "8.15서울도심집회              18\n",
       "강서구 소재 댄스교습시설 연관 병원     16\n",
       "강서구 소재 병원관련(11월)        16\n",
       "관악구 소재 음식점 관련           14\n",
       "Name: 연번, dtype: int64"
      ]
     },
     "metadata": {},
     "execution_count": 136
    }
   ],
   "source": [
    "sam.sort_values(by='연번', ascending=False).head(10)['연번']"
   ]
  },
  {
   "cell_type": "code",
   "execution_count": 137,
   "metadata": {},
   "outputs": [],
   "source": [
    "a_d = df.pivot_table('연번', '지역', aggfunc='count')"
   ]
  },
  {
   "cell_type": "code",
   "execution_count": 138,
   "metadata": {},
   "outputs": [],
   "source": [
    "a_d.rename({'연번':'확진자수'},axis=1, inplace=True)"
   ]
  },
  {
   "cell_type": "code",
   "execution_count": 139,
   "metadata": {},
   "outputs": [
    {
     "output_type": "execute_result",
     "data": {
      "text/plain": [
       "        확진자수\n",
       "지역          \n",
       "          61\n",
       "강남구      936\n",
       "강동구      562\n",
       "강북구      429\n",
       "강서구     1336\n",
       "경기도광명시     1\n",
       "경기도하남시     1\n",
       "관악구     1017\n",
       "광진구      465\n",
       "구로구      620\n",
       "금천구      318\n",
       "기타       924\n",
       "노원구      804\n",
       "도봉구      557\n",
       "동대문구     654\n",
       "동작구      791\n",
       "마포구      691\n",
       "서대문구     507\n",
       "서초구      824\n",
       "성동구      454\n",
       "성북구      809\n",
       "송파구     1355\n",
       "양천구      716\n",
       "영등포구     681\n",
       "용산구      418\n",
       "은평구      778\n",
       "종로구      399\n",
       "중구       294\n",
       "중랑구      781\n",
       "타시도      821"
      ],
      "text/html": "<div>\n<style scoped>\n    .dataframe tbody tr th:only-of-type {\n        vertical-align: middle;\n    }\n\n    .dataframe tbody tr th {\n        vertical-align: top;\n    }\n\n    .dataframe thead th {\n        text-align: right;\n    }\n</style>\n<table border=\"1\" class=\"dataframe\">\n  <thead>\n    <tr style=\"text-align: right;\">\n      <th></th>\n      <th>확진자수</th>\n    </tr>\n    <tr>\n      <th>지역</th>\n      <th></th>\n    </tr>\n  </thead>\n  <tbody>\n    <tr>\n      <th></th>\n      <td>61</td>\n    </tr>\n    <tr>\n      <th>강남구</th>\n      <td>936</td>\n    </tr>\n    <tr>\n      <th>강동구</th>\n      <td>562</td>\n    </tr>\n    <tr>\n      <th>강북구</th>\n      <td>429</td>\n    </tr>\n    <tr>\n      <th>강서구</th>\n      <td>1336</td>\n    </tr>\n    <tr>\n      <th>경기도광명시</th>\n      <td>1</td>\n    </tr>\n    <tr>\n      <th>경기도하남시</th>\n      <td>1</td>\n    </tr>\n    <tr>\n      <th>관악구</th>\n      <td>1017</td>\n    </tr>\n    <tr>\n      <th>광진구</th>\n      <td>465</td>\n    </tr>\n    <tr>\n      <th>구로구</th>\n      <td>620</td>\n    </tr>\n    <tr>\n      <th>금천구</th>\n      <td>318</td>\n    </tr>\n    <tr>\n      <th>기타</th>\n      <td>924</td>\n    </tr>\n    <tr>\n      <th>노원구</th>\n      <td>804</td>\n    </tr>\n    <tr>\n      <th>도봉구</th>\n      <td>557</td>\n    </tr>\n    <tr>\n      <th>동대문구</th>\n      <td>654</td>\n    </tr>\n    <tr>\n      <th>동작구</th>\n      <td>791</td>\n    </tr>\n    <tr>\n      <th>마포구</th>\n      <td>691</td>\n    </tr>\n    <tr>\n      <th>서대문구</th>\n      <td>507</td>\n    </tr>\n    <tr>\n      <th>서초구</th>\n      <td>824</td>\n    </tr>\n    <tr>\n      <th>성동구</th>\n      <td>454</td>\n    </tr>\n    <tr>\n      <th>성북구</th>\n      <td>809</td>\n    </tr>\n    <tr>\n      <th>송파구</th>\n      <td>1355</td>\n    </tr>\n    <tr>\n      <th>양천구</th>\n      <td>716</td>\n    </tr>\n    <tr>\n      <th>영등포구</th>\n      <td>681</td>\n    </tr>\n    <tr>\n      <th>용산구</th>\n      <td>418</td>\n    </tr>\n    <tr>\n      <th>은평구</th>\n      <td>778</td>\n    </tr>\n    <tr>\n      <th>종로구</th>\n      <td>399</td>\n    </tr>\n    <tr>\n      <th>중구</th>\n      <td>294</td>\n    </tr>\n    <tr>\n      <th>중랑구</th>\n      <td>781</td>\n    </tr>\n    <tr>\n      <th>타시도</th>\n      <td>821</td>\n    </tr>\n  </tbody>\n</table>\n</div>"
     },
     "metadata": {},
     "execution_count": 139
    }
   ],
   "source": [
    "a_d"
   ]
  },
  {
   "cell_type": "code",
   "execution_count": 140,
   "metadata": {},
   "outputs": [],
   "source": [
    "d_day = df[df['지역'] == '강서구'].pivot_table('연번','확진일',aggfunc=\"count\")"
   ]
  },
  {
   "cell_type": "code",
   "execution_count": 141,
   "metadata": {},
   "outputs": [],
   "source": [
    "ten_day = d_day.sort_values(by='확진일', ascending=False).head(10)"
   ]
  },
  {
   "cell_type": "code",
   "execution_count": 142,
   "metadata": {},
   "outputs": [
    {
     "output_type": "execute_result",
     "data": {
      "text/plain": [
       "['2020-12-21',\n",
       " '2020-12-22',\n",
       " '2020-12-23',\n",
       " '2020-12-24',\n",
       " '2020-12-25',\n",
       " '2020-12-26',\n",
       " '2020-12-27',\n",
       " '2020-12-28',\n",
       " '2020-12-29',\n",
       " '2020-12-30']"
      ]
     },
     "metadata": {},
     "execution_count": 142
    }
   ],
   "source": [
    "list(ten_day.index)[::-1]\n"
   ]
  },
  {
   "cell_type": "code",
   "execution_count": 119,
   "metadata": {},
   "outputs": [
    {
     "output_type": "execute_result",
     "data": {
      "text/plain": [
       "'2020-12-28'"
      ]
     },
     "metadata": {},
     "execution_count": 119
    }
   ],
   "source": []
  },
  {
   "cell_type": "code",
   "execution_count": 143,
   "metadata": {},
   "outputs": [],
   "source": [
    "ten_day = d_day.sort_values(by='확진일', ascending=False).head(10)\n",
    "ten_date = list(ten_day.index)\n",
    "ten_val = list(ten_day['연번'].values)"
   ]
  }
 ]
}